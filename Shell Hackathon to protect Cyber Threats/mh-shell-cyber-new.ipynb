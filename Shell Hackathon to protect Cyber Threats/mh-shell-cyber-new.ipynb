{
 "cells": [
  {
   "cell_type": "code",
   "execution_count": 1,
   "id": "326cb8e5",
   "metadata": {
    "_cell_guid": "b1076dfc-b9ad-4769-8c92-a6c4dae69d19",
    "_uuid": "8f2839f25d086af736a60e9eeb907d3b93b6e0e5",
    "execution": {
     "iopub.execute_input": "2023-10-14T13:13:30.923737Z",
     "iopub.status.busy": "2023-10-14T13:13:30.923392Z",
     "iopub.status.idle": "2023-10-14T13:13:31.644662Z",
     "shell.execute_reply": "2023-10-14T13:13:31.643780Z"
    },
    "papermill": {
     "duration": 0.74065,
     "end_time": "2023-10-14T13:13:31.646761",
     "exception": false,
     "start_time": "2023-10-14T13:13:30.906111",
     "status": "completed"
    },
    "tags": []
   },
   "outputs": [
    {
     "name": "stdout",
     "output_type": "stream",
     "text": [
      "/kaggle/input/shell-hackathon-to-protect-cyber-threats/Participants_Dataset_SHPACT/datafinal.json\n",
      "/kaggle/input/shell-hackathon-to-protect-cyber-threats/Participants_Dataset_SHPACT/sample_solution_submission.ipynb\n",
      "/kaggle/input/shell-hackathon-to-protect-cyber-threats/Participants_Dataset_SHPACT/submission.csv\n",
      "/kaggle/input/gpu-base-config-spacy/gp_conf.cfg\n",
      "/kaggle/input/gpu-base-config-spacy/gp_conf_codebert.cfg\n"
     ]
    }
   ],
   "source": [
    "# This Python 3 environment comes with many helpful analytics libraries installed\n",
    "# It is defined by the kaggle/python Docker image: https://github.com/kaggle/docker-python\n",
    "# For example, here's several helpful packages to load\n",
    "\n",
    "import numpy as np # linear algebra\n",
    "import pandas as pd # data processing, CSV file I/O (e.g. pd.read_csv)\n",
    "\n",
    "# Input data files are available in the read-only \"../input/\" directory\n",
    "# For example, running this (by clicking run or pressing Shift+Enter) will list all files under the input directory\n",
    "\n",
    "import os\n",
    "for dirname, _, filenames in os.walk('/kaggle/input'):\n",
    "    for filename in filenames:\n",
    "        print(os.path.join(dirname, filename))\n",
    "\n",
    "# You can write up to 20GB to the current directory (/kaggle/working/) that gets preserved as output when you create a version using \"Save & Run All\" \n",
    "# You can also write temporary files to /kaggle/temp/, but they won't be saved outside of the current session"
   ]
  },
  {
   "cell_type": "markdown",
   "id": "9d724d93",
   "metadata": {},
   "source": [
    "# Shell Hackathon to protect Cyber Threats\n",
    "\n",
    "Shell, in collaboration with MachineHack & Analytics India Magazine, asks talented minds to tackle the exponential growth of cyber threats and improve the security and resilience of web applications. The aim of the Cyber Threat Detection Hackathon is to build a next-gen model capable of identifying code in a body of text. \n",
    "\n",
    "Are you ready to hack the hackers?\n",
    "\n",
    "Can you construct a next-gen model, capable of detecting code that is present in a body of text? Be part of a mission to enhance the security and resilience of web applications. \n",
    "\n",
    " \n",
    "\n",
    "Protecting our software landscapes is not an easy task. Malicious actors are frequently trying to enter systems and get access to resources, whether operational or data. The ability for an actor to compromise systems, elevate their privileges, and move laterally within infrastructure typically hinges on executing hidden code. One common method they employ is embedding this code in seemingly harmless media—whether it's images, videos, or even simple text files.\n",
    "\n",
    " \n",
    "\n",
    "In this hackathon, we will provide a body of text in which you will try to find the source code hidden in the text. There might not be any source control or multiple sections of source code concealed within the text. Don’t miss an opportunity to demonstrate your abilities, innovate, and make a name for yourself in the world. \n",
    "\n",
    "## Dataset Description\n",
    "* **ID**: A unique identifier, either an integer or string, used to distinguish each row in the dataset.\n",
    "* **Text**: A string containing the textual content associated with each record.\n",
    "* **ContainsCode**: A boolean indicating whether the \"Text\" field contains any code snippets.\n",
    "* **CodeList**: A list or array storing code snippets extracted from the \"Text\" field, if applicable."
   ]
  },
  {
   "cell_type": "code",
   "execution_count": 2,
   "id": "7254f254",
   "metadata": {
    "execution": {
     "iopub.execute_input": "2023-10-14T13:13:31.679734Z",
     "iopub.status.busy": "2023-10-14T13:13:31.679346Z",
     "iopub.status.idle": "2023-10-14T13:13:31.737907Z",
     "shell.execute_reply": "2023-10-14T13:13:31.737091Z"
    },
    "papermill": {
     "duration": 0.077315,
     "end_time": "2023-10-14T13:13:31.739600",
     "exception": false,
     "start_time": "2023-10-14T13:13:31.662285",
     "status": "completed"
    },
    "tags": []
   },
   "outputs": [
    {
     "data": {
      "text/html": [
       "<div>\n",
       "<style scoped>\n",
       "    .dataframe tbody tr th:only-of-type {\n",
       "        vertical-align: middle;\n",
       "    }\n",
       "\n",
       "    .dataframe tbody tr th {\n",
       "        vertical-align: top;\n",
       "    }\n",
       "\n",
       "    .dataframe thead th {\n",
       "        text-align: right;\n",
       "    }\n",
       "</style>\n",
       "<table border=\"1\" class=\"dataframe\">\n",
       "  <thead>\n",
       "    <tr style=\"text-align: right;\">\n",
       "      <th></th>\n",
       "      <th>ID</th>\n",
       "      <th>Text</th>\n",
       "      <th>ContainsCode</th>\n",
       "      <th>CodeList</th>\n",
       "    </tr>\n",
       "  </thead>\n",
       "  <tbody>\n",
       "    <tr>\n",
       "      <th>0</th>\n",
       "      <td>1</td>\n",
       "      <td>Test-driven development (TDD) is a software de...</td>\n",
       "      <td></td>\n",
       "      <td></td>\n",
       "    </tr>\n",
       "    <tr>\n",
       "      <th>1</th>\n",
       "      <td>2</td>\n",
       "      <td>Software development is an exciting field that...</td>\n",
       "      <td>False</td>\n",
       "      <td></td>\n",
       "    </tr>\n",
       "    <tr>\n",
       "      <th>2</th>\n",
       "      <td>3</td>\n",
       "      <td>The development process often starts with a co...</td>\n",
       "      <td></td>\n",
       "      <td></td>\n",
       "    </tr>\n",
       "    <tr>\n",
       "      <th>3</th>\n",
       "      <td>4</td>\n",
       "      <td>Another important aspect of software developme...</td>\n",
       "      <td>True</td>\n",
       "      <td>git commit -m 'Initial commit'</td>\n",
       "    </tr>\n",
       "    <tr>\n",
       "      <th>4</th>\n",
       "      <td>5</td>\n",
       "      <td>In the world of software development, language...</td>\n",
       "      <td>False</td>\n",
       "      <td></td>\n",
       "    </tr>\n",
       "    <tr>\n",
       "      <th>...</th>\n",
       "      <td>...</td>\n",
       "      <td>...</td>\n",
       "      <td>...</td>\n",
       "      <td>...</td>\n",
       "    </tr>\n",
       "    <tr>\n",
       "      <th>1903</th>\n",
       "      <td>1904</td>\n",
       "      <td>Software development, an integral part of any ...</td>\n",
       "      <td>True</td>\n",
       "      <td>List&lt;String&gt; names = new ArrayList&lt;String&gt;();</td>\n",
       "    </tr>\n",
       "    <tr>\n",
       "      <th>1904</th>\n",
       "      <td>1905</td>\n",
       "      <td>In the world of software development, one of t...</td>\n",
       "      <td>False</td>\n",
       "      <td></td>\n",
       "    </tr>\n",
       "    <tr>\n",
       "      <th>1905</th>\n",
       "      <td>1906</td>\n",
       "      <td>Web development is a popular field in software...</td>\n",
       "      <td></td>\n",
       "      <td></td>\n",
       "    </tr>\n",
       "    <tr>\n",
       "      <th>1906</th>\n",
       "      <td>1907</td>\n",
       "      <td>C++ is a general-purpose programming language ...</td>\n",
       "      <td></td>\n",
       "      <td></td>\n",
       "    </tr>\n",
       "    <tr>\n",
       "      <th>1907</th>\n",
       "      <td>1908</td>\n",
       "      <td>Mobile app development is a type of software d...</td>\n",
       "      <td>False</td>\n",
       "      <td></td>\n",
       "    </tr>\n",
       "  </tbody>\n",
       "</table>\n",
       "<p>1908 rows × 4 columns</p>\n",
       "</div>"
      ],
      "text/plain": [
       "        ID                                               Text ContainsCode  \\\n",
       "0        1  Test-driven development (TDD) is a software de...                \n",
       "1        2  Software development is an exciting field that...        False   \n",
       "2        3  The development process often starts with a co...                \n",
       "3        4  Another important aspect of software developme...         True   \n",
       "4        5  In the world of software development, language...        False   \n",
       "...    ...                                                ...          ...   \n",
       "1903  1904  Software development, an integral part of any ...         True   \n",
       "1904  1905  In the world of software development, one of t...        False   \n",
       "1905  1906  Web development is a popular field in software...                \n",
       "1906  1907  C++ is a general-purpose programming language ...                \n",
       "1907  1908  Mobile app development is a type of software d...        False   \n",
       "\n",
       "                                           CodeList  \n",
       "0                                                    \n",
       "1                                                    \n",
       "2                                                    \n",
       "3                    git commit -m 'Initial commit'  \n",
       "4                                                    \n",
       "...                                             ...  \n",
       "1903  List<String> names = new ArrayList<String>();  \n",
       "1904                                                 \n",
       "1905                                                 \n",
       "1906                                                 \n",
       "1907                                                 \n",
       "\n",
       "[1908 rows x 4 columns]"
      ]
     },
     "execution_count": 2,
     "metadata": {},
     "output_type": "execute_result"
    }
   ],
   "source": [
    "df = pd.read_json(\"/kaggle/input/shell-hackathon-to-protect-cyber-threats/Participants_Dataset_SHPACT/datafinal.json\")\n",
    "df"
   ]
  },
  {
   "cell_type": "markdown",
   "id": "57422be0",
   "metadata": {},
   "source": [
    "### Baseline Submission"
   ]
  },
  {
   "cell_type": "code",
   "execution_count": 3,
   "id": "3b03f698",
   "metadata": {
    "execution": {
     "iopub.execute_input": "2023-10-14T13:13:31.771603Z",
     "iopub.status.busy": "2023-10-14T13:13:31.771057Z",
     "iopub.status.idle": "2023-10-14T13:13:32.554952Z",
     "shell.execute_reply": "2023-10-14T13:13:32.554128Z"
    },
    "papermill": {
     "duration": 0.801782,
     "end_time": "2023-10-14T13:13:32.556869",
     "exception": false,
     "start_time": "2023-10-14T13:13:31.755087",
     "status": "completed"
    },
    "tags": []
   },
   "outputs": [
    {
     "name": "stderr",
     "output_type": "stream",
     "text": [
      "/opt/conda/lib/python3.10/site-packages/scipy/__init__.py:146: UserWarning: A NumPy version >=1.16.5 and <1.23.0 is required for this version of SciPy (detected version 1.23.5\n",
      "  warnings.warn(f\"A NumPy version >={np_minversion} and <{np_maxversion}\"\n"
     ]
    },
    {
     "data": {
      "text/plain": [
       "array([' ', '!', '\"', '#', '$', '%', '&', \"'\", '(', ')', '*', '+', ',',\n",
       "       '-', '.', '/', '0', '1', '2', '3', '4', '5', '6', '7', '8', '9',\n",
       "       ':', ';', '<', '=', '>', '?', '@', 'A', 'B', 'C', 'D', 'E', 'F',\n",
       "       'G', 'H', 'I', 'J', 'K', 'L', 'M', 'N', 'O', 'P', 'Q', 'R', 'S',\n",
       "       'T', 'U', 'V', 'W', 'X', 'Y', 'Z', '[', '\\\\', ']', '_', '`', 'a',\n",
       "       'b', 'c', 'd', 'e', 'f', 'g', 'h', 'i', 'j', 'k', 'l', 'm', 'n',\n",
       "       'o', 'p', 'q', 'r', 's', 't', 'u', 'v', 'w', 'x', 'y', 'z', '{',\n",
       "       '|', '}'], dtype=object)"
      ]
     },
     "execution_count": 3,
     "metadata": {},
     "output_type": "execute_result"
    }
   ],
   "source": [
    "from sklearn.preprocessing import MultiLabelBinarizer\n",
    "mlb = MultiLabelBinarizer()\n",
    "s1 = df[\"CodeList\"]\n",
    "t0 = mlb.fit_transform(s1)\n",
    "t0\n",
    "\n",
    "org = mlb.classes_\n",
    "org"
   ]
  },
  {
   "cell_type": "markdown",
   "id": "1f94c6b9",
   "metadata": {},
   "source": [
    "So the above are the target variables which are 93 columns"
   ]
  },
  {
   "cell_type": "code",
   "execution_count": 4,
   "id": "787d2dad",
   "metadata": {
    "execution": {
     "iopub.execute_input": "2023-10-14T13:13:32.589143Z",
     "iopub.status.busy": "2023-10-14T13:13:32.588836Z",
     "iopub.status.idle": "2023-10-14T13:13:32.594124Z",
     "shell.execute_reply": "2023-10-14T13:13:32.593290Z"
    },
    "papermill": {
     "duration": 0.023379,
     "end_time": "2023-10-14T13:13:32.595833",
     "exception": false,
     "start_time": "2023-10-14T13:13:32.572454",
     "status": "completed"
    },
    "tags": []
   },
   "outputs": [],
   "source": [
    "import random\n",
    "df[\"CodeList\"].fillna(\"\",inplace=True) ## Incase if it contain any NaN values\n",
    "data = df.copy()"
   ]
  },
  {
   "cell_type": "code",
   "execution_count": 5,
   "id": "bfbf1763",
   "metadata": {
    "execution": {
     "iopub.execute_input": "2023-10-14T13:13:32.674191Z",
     "iopub.status.busy": "2023-10-14T13:13:32.673468Z",
     "iopub.status.idle": "2023-10-14T13:13:32.678188Z",
     "shell.execute_reply": "2023-10-14T13:13:32.677228Z"
    },
    "papermill": {
     "duration": 0.022959,
     "end_time": "2023-10-14T13:13:32.679865",
     "exception": false,
     "start_time": "2023-10-14T13:13:32.656906",
     "status": "completed"
    },
    "tags": []
   },
   "outputs": [],
   "source": [
    "## Function to clean the programming codes\n",
    "\n",
    "def clean_codes(val):\n",
    "    res = []\n",
    "    val = val.split(\"', '\")\n",
    "    for k in val:\n",
    "        res.extend(k.split(\"\\\\n\"))\n",
    "    return res\n",
    "\n",
    "\n",
    "\n",
    "data['CodeList'] = data['CodeList'].apply(clean_codes)"
   ]
  },
  {
   "cell_type": "code",
   "execution_count": 7,
   "id": "71ae2402",
   "metadata": {
    "execution": {
     "iopub.execute_input": "2023-10-14T13:13:32.753064Z",
     "iopub.status.busy": "2023-10-14T13:13:32.752734Z",
     "iopub.status.idle": "2023-10-14T13:13:32.759255Z",
     "shell.execute_reply": "2023-10-14T13:13:32.758349Z"
    },
    "papermill": {
     "duration": 0.024531,
     "end_time": "2023-10-14T13:13:32.760962",
     "exception": false,
     "start_time": "2023-10-14T13:13:32.736431",
     "status": "completed"
    },
    "tags": []
   },
   "outputs": [
    {
     "data": {
      "text/plain": [
       "array([list(['']), list(['']), list(['']), list(['']), list(['']),\n",
       "       list(['']), list(['']), list(['']),\n",
       "       list([\"if (x < 10): print('x is less than 10') else: print('x is greater than or equal to 10')\"]),\n",
       "       list(['']), list(['']), list(['']), list(['']),\n",
       "       list([\"file = open('testfile.txt\", \"r')\", 'print(file.read())', 'file.close()']),\n",
       "       list(['']), list(['']),\n",
       "       list(['import org.junit.Test; public class SimpleTest { @Test public void test() { int x = 5; assertEquals(5, x); } }']),\n",
       "       list(['']), list(['']), list(['']), list(['']),\n",
       "       list(['numbers = [5, 1, 9, 3, 7]; sorted_numbers = sorted(numbers);']),\n",
       "       list(['']), list(['']), list(['']), list(['']), list(['']),\n",
       "       list(['']), list(['']),\n",
       "       list([\"const sum = (a, b) => a + b; test('adds 1 + 2 to equal 3', () => { expect(sum(1, 2)).toBe(3); });\"]),\n",
       "       list(['']),\n",
       "       list(['for i in range(len(myList)): print(myList[i])']),\n",
       "       list(['']), list(['']), list(['let isDone: boolean = false;']),\n",
       "       list(['']), list(['']), list(['']),\n",
       "       list(['package main\\', \"import \\'fmt\\'\", \"func main() {fmt.Println(\\'Hello, World!\\')']),\n",
       "       list(['']), list(['']),\n",
       "       list(['def hello_world():', \"    print('Hello, World!')\", '', 'hello_world()\", \"public static void Main(string[] args)', '{', \"    Console.WriteLine('Hello, World!');\", '}']),\n",
       "       list(['public static void main(String[] args)']),\n",
       "       list([\"public class HelloWorld { public static void main(String[] args) { System.out.println('Hello, World!'); } }\"]),\n",
       "       list(['']), list([\"print('Hello, World!')\"]), list(['']),\n",
       "       list([\"fun main(args: Array<String>) { println('Hello, world!') }\"]),\n",
       "       list(['']), list([''])], dtype=object)"
      ]
     },
     "execution_count": 7,
     "metadata": {},
     "output_type": "execute_result"
    }
   ],
   "source": [
    "data['CodeList'].sample(50).values"
   ]
  },
  {
   "cell_type": "markdown",
   "id": "52599e76",
   "metadata": {},
   "source": [
    "### Solution Approach - 1\n",
    "\n",
    "**Regex**\n",
    "\n",
    "We will start with first of understaning the codes along with creating patterns for 'CodeList'"
   ]
  },
  {
   "cell_type": "code",
   "execution_count": 8,
   "id": "7d9824b3",
   "metadata": {
    "execution": {
     "iopub.execute_input": "2023-10-14T13:13:32.794069Z",
     "iopub.status.busy": "2023-10-14T13:13:32.792987Z",
     "iopub.status.idle": "2023-10-14T13:13:32.806394Z",
     "shell.execute_reply": "2023-10-14T13:13:32.805615Z"
    },
    "papermill": {
     "duration": 0.031677,
     "end_time": "2023-10-14T13:13:32.808179",
     "exception": false,
     "start_time": "2023-10-14T13:13:32.776502",
     "status": "completed"
    },
    "tags": []
   },
   "outputs": [],
   "source": [
    "import re\n",
    "\n",
    "feedbaadd_suffix_spacy = ['dd','','int','char']\n",
    "feedback = ['dd','', 'C','int','char','Python','C','Swift','JavaScript','C++','Kotlin','TypeScript','Bash','Swift','Ruby','C#']\n",
    "\n",
    "patterns_list = []\n",
    "patterns_list_spacy = []\n",
    "for pt in data['CodeList']:\n",
    "    if pt!=[]:\n",
    "        patterns_list.extend([re.escape(x) for x in pt if x not in feedback])\n",
    "        patterns_list_spacy.extend([re.escape(x) for x in pt if x not in feedbaadd_suffix_spacy])"
   ]
  },
  {
   "cell_type": "code",
   "execution_count": 9,
   "id": "f895e693",
   "metadata": {
    "execution": {
     "iopub.execute_input": "2023-10-14T13:13:32.841160Z",
     "iopub.status.busy": "2023-10-14T13:13:32.840347Z",
     "iopub.status.idle": "2023-10-14T13:13:32.845058Z",
     "shell.execute_reply": "2023-10-14T13:13:32.844300Z"
    },
    "papermill": {
     "duration": 0.022862,
     "end_time": "2023-10-14T13:13:32.846743",
     "exception": false,
     "start_time": "2023-10-14T13:13:32.823881",
     "status": "completed"
    },
    "tags": []
   },
   "outputs": [],
   "source": [
    "patterns_list = list(set(patterns_list))\n",
    "# patterns_list"
   ]
  },
  {
   "cell_type": "code",
   "execution_count": 10,
   "id": "2e6fc3ca",
   "metadata": {
    "execution": {
     "iopub.execute_input": "2023-10-14T13:13:32.878899Z",
     "iopub.status.busy": "2023-10-14T13:13:32.878604Z",
     "iopub.status.idle": "2023-10-14T13:13:32.883963Z",
     "shell.execute_reply": "2023-10-14T13:13:32.883076Z"
    },
    "papermill": {
     "duration": 0.023581,
     "end_time": "2023-10-14T13:13:32.885705",
     "exception": false,
     "start_time": "2023-10-14T13:13:32.862124",
     "status": "completed"
    },
    "tags": []
   },
   "outputs": [
    {
     "data": {
      "text/plain": [
       "668"
      ]
     },
     "execution_count": 10,
     "metadata": {},
     "output_type": "execute_result"
    }
   ],
   "source": [
    "len(patterns_list)"
   ]
  },
  {
   "cell_type": "code",
   "execution_count": 11,
   "id": "df53838f",
   "metadata": {
    "execution": {
     "iopub.execute_input": "2023-10-14T13:13:32.918258Z",
     "iopub.status.busy": "2023-10-14T13:13:32.917701Z",
     "iopub.status.idle": "2023-10-14T13:13:32.921740Z",
     "shell.execute_reply": "2023-10-14T13:13:32.920867Z"
    },
    "papermill": {
     "duration": 0.022247,
     "end_time": "2023-10-14T13:13:32.923431",
     "exception": false,
     "start_time": "2023-10-14T13:13:32.901184",
     "status": "completed"
    },
    "tags": []
   },
   "outputs": [],
   "source": [
    "new_patterns_list = patterns_list.copy()"
   ]
  },
  {
   "cell_type": "code",
   "execution_count": 12,
   "id": "ce8627f0",
   "metadata": {
    "execution": {
     "iopub.execute_input": "2023-10-14T13:13:32.957115Z",
     "iopub.status.busy": "2023-10-14T13:13:32.956189Z",
     "iopub.status.idle": "2023-10-14T13:13:32.963079Z",
     "shell.execute_reply": "2023-10-14T13:13:32.962171Z"
    },
    "papermill": {
     "duration": 0.02557,
     "end_time": "2023-10-14T13:13:32.964758",
     "exception": false,
     "start_time": "2023-10-14T13:13:32.939188",
     "status": "completed"
    },
    "tags": []
   },
   "outputs": [
    {
     "data": {
      "text/plain": [
       "['banana',\n",
       " '\\\\\\\\t\\\\\\\\t\\\\}',\n",
       " 'else:\\\\ ',\n",
       " '\\\\\\\\telse',\n",
       " '@Test\\\\ ',\n",
       " 'i\\\\+\\\\+;',\n",
       " 'git\\\\ init',\n",
       " 'end',\n",
       " 'cd\\\\ repo',\n",
       " '\\\\\\\\t\\\\}',\n",
       " \"r'\\\\)\",\n",
       " '/\\\\*',\n",
       " 'try:',\n",
       " 'git\\\\ pull',\n",
       " 'Get\\\\-Date',\n",
       " 'sprint:',\n",
       " 'float',\n",
       " 'git\\\\ push',\n",
       " '\\\\ \\\\ \\\\}',\n",
       " '\\\\}\\\\);',\n",
       " '\\\\ done',\n",
       " '\\\\\\\\t\\\\}\\\\ ',\n",
       " 'try\\\\ \\\\{',\n",
       " '\\\\}',\n",
       " '\\\\ \\\\}\\\\ ',\n",
       " '//',\n",
       " '<html>\\\\ ',\n",
       " '\\\\\\\\t\\\\ \\\\}\\\\ ',\n",
       " '\\\\\\\\telse:',\n",
       " 'done',\n",
       " '\\\\}\\\\ ',\n",
       " 'String',\n",
       " '\\\\ \\\\}',\n",
       " '</html>',\n",
       " '\\\\*/',\n",
       " '\\\\};',\n",
       " 'git\\\\ add',\n",
       " '\\\\{']"
      ]
     },
     "execution_count": 12,
     "metadata": {},
     "output_type": "execute_result"
    }
   ],
   "source": [
    "[x for x in new_patterns_list if len(x)<10]"
   ]
  },
  {
   "cell_type": "markdown",
   "id": "b24ac235",
   "metadata": {},
   "source": [
    "Lets Look at some functions wrt to cleaning the codes as well Text representations"
   ]
  },
  {
   "cell_type": "code",
   "execution_count": 13,
   "id": "698687c8",
   "metadata": {
    "execution": {
     "iopub.execute_input": "2023-10-14T13:13:32.997720Z",
     "iopub.status.busy": "2023-10-14T13:13:32.996879Z",
     "iopub.status.idle": "2023-10-14T13:13:33.004242Z",
     "shell.execute_reply": "2023-10-14T13:13:33.003425Z"
    },
    "papermill": {
     "duration": 0.025698,
     "end_time": "2023-10-14T13:13:33.005926",
     "exception": false,
     "start_time": "2023-10-14T13:13:32.980228",
     "status": "completed"
    },
    "tags": []
   },
   "outputs": [],
   "source": [
    "import re\n",
    "\n",
    "# replace escape charatcters\n",
    "def correct_text2(text):\n",
    "    text = text.replace('\\n','\\\\n')\n",
    "    text = text.replace('\\t','\\\\t')\n",
    "    return text\n",
    "\n",
    "# replace escape charatcters with blank\n",
    "def correct(text):\n",
    "    text = text.replace('\\n','')\n",
    "    text = text.replace('\\t','')\n",
    "    return text\n",
    "\n",
    "# logic to reduce the matches according using fuzzy logic\n",
    "def logic_to_reduce(matches):\n",
    "    new_final = list(filter(lambda x: [x for i in matches if x in i and x != i] == [], matches))\n",
    "\n",
    "    return new_final\n",
    "    \n",
    "# finding matches based on above files\n",
    "def find_match(text):\n",
    "    text = correct_text2(text)\n",
    "    final = []\n",
    "    for k in new_patterns_list:\n",
    "        tmp_l = list(set(re.findall(k,text)))\n",
    "        if tmp_l!=[]:\n",
    "            final.extend(tmp_l)\n",
    "    \n",
    "    new_final= logic_to_reduce(final)\n",
    "    \n",
    "    ret = \"\\\\n\".join(new_final)\n",
    "    return ret"
   ]
  },
  {
   "cell_type": "markdown",
   "id": "43933d53",
   "metadata": {},
   "source": [
    "Lets look at some sample Codes"
   ]
  },
  {
   "cell_type": "code",
   "execution_count": 14,
   "id": "9201003b",
   "metadata": {
    "execution": {
     "iopub.execute_input": "2023-10-14T13:13:33.038932Z",
     "iopub.status.busy": "2023-10-14T13:13:33.038038Z",
     "iopub.status.idle": "2023-10-14T13:13:33.046262Z",
     "shell.execute_reply": "2023-10-14T13:13:33.045455Z"
    },
    "papermill": {
     "duration": 0.026437,
     "end_time": "2023-10-14T13:13:33.047974",
     "exception": false,
     "start_time": "2023-10-14T13:13:33.021537",
     "status": "completed"
    },
    "tags": []
   },
   "outputs": [],
   "source": [
    "\n",
    "tmp = df[df['ContainsCode']==True]\n",
    "i = random.randint(0,tmp.shape[0])"
   ]
  },
  {
   "cell_type": "code",
   "execution_count": 16,
   "id": "d673c057",
   "metadata": {
    "execution": {
     "iopub.execute_input": "2023-10-14T13:13:33.121212Z",
     "iopub.status.busy": "2023-10-14T13:13:33.120637Z",
     "iopub.status.idle": "2023-10-14T13:13:33.189018Z",
     "shell.execute_reply": "2023-10-14T13:13:33.187976Z"
    },
    "papermill": {
     "duration": 0.087319,
     "end_time": "2023-10-14T13:13:33.190856",
     "exception": false,
     "start_time": "2023-10-14T13:13:33.103537",
     "status": "completed"
    },
    "tags": []
   },
   "outputs": [
    {
     "name": "stdout",
     "output_type": "stream",
     "text": [
      "Software development is a process that combines creativity, logic, and a deep understanding of technology. It involves many different tasks, including writing and debugging code, designing user interfaces, and managing databases. One of the most important tools used in this process is Git, a distributed version control system. Git allows developers to track changes to their code and collaborate with others. With commands like git add file_name and git commit -m 'message', developers can stage changes and commit them to the repository.\\n\\nAnother fundamental part of software development is understanding and working with databases. SQL databases, like MySQL and PostgreSQL, are used to store, retrieve, and manipulate data. These databases use SQL (Structured Query Language) to interact with the data. For example, the command to create a new table in SQL might look something like this: CREATE TABLE Employees (ID INT, Name VARCHAR(255), Age INT).\n",
      "['git commit', 'git add']\n",
      "git add file_name', \"git commit -m 'message'\", 'CREATE TABLE Employees (ID INT, Name VARCHAR(255), Age INT)\n"
     ]
    }
   ],
   "source": [
    "ptxt = tmp[tmp['ID']==452]['Text'].values[0]\n",
    "lab  = tmp[tmp['ID']==452]['CodeList'].values[0]\n",
    "def correct(text):\n",
    "    text = text.replace('\\n','')\n",
    "    text = text.replace('\\t','')\n",
    "    return text\n",
    "    \n",
    "text = correct_text2(ptxt)\n",
    "\n",
    "print(text)\n",
    "\n",
    "final = []\n",
    "for k in new_patterns_list:\n",
    "    tmp_l = list(set(re.findall(k,text)))\n",
    "    if tmp_l!=[]:\n",
    "        final.extend(tmp_l)\n",
    "print(final)\n",
    "print(lab)"
   ]
  },
  {
   "cell_type": "code",
   "execution_count": 17,
   "id": "1c103cbd",
   "metadata": {
    "execution": {
     "iopub.execute_input": "2023-10-14T13:13:33.224624Z",
     "iopub.status.busy": "2023-10-14T13:13:33.223903Z",
     "iopub.status.idle": "2023-10-14T13:13:33.230610Z",
     "shell.execute_reply": "2023-10-14T13:13:33.229781Z"
    },
    "papermill": {
     "duration": 0.025249,
     "end_time": "2023-10-14T13:13:33.232265",
     "exception": false,
     "start_time": "2023-10-14T13:13:33.207016",
     "status": "completed"
    },
    "tags": []
   },
   "outputs": [],
   "source": [
    "# Method to calcualte accuracy\n",
    "\n",
    "from sklearn.metrics import accuracy_score\n",
    "def calculate_accuracy(df,col1):\n",
    "    tmp = df[(df['ContainsCode']!=False)]\n",
    "    print(tmp.shape)\n",
    "    for _,k in tmp.iterrows():\n",
    "        if k['CodeList']!='':\n",
    "\n",
    "            mlb1 = MultiLabelBinarizer(classes=org)\n",
    "            s1 = k[[\"CodeList\"]]\n",
    "            t1 = mlb1.fit_transform(s1)\n",
    "            mlb2 = MultiLabelBinarizer(classes=org)\n",
    "            s2 = k[[col1]]\n",
    "            t2 = mlb2.fit_transform(s2)\n",
    "    #         print(t1,t2)\n",
    "    #         print('#####ACCURACY ',accuracy_score(t1[0],t2[0]))\n",
    "            acc_score = accuracy_score(t1[0],t2[0])\n",
    "            if acc_score<1:\n",
    "                print('**********************************************')\n",
    "                print('#####Label ',k['CodeList'])\n",
    "                print('#####PRED ',k[col1])\n",
    "                print('#####ACCURACY ',acc_score)\n"
   ]
  },
  {
   "cell_type": "markdown",
   "id": "5088124d",
   "metadata": {},
   "source": [
    "Creating new \"CodeList2\" after preprocessing using **Regex** and appending the already 'CodeList'"
   ]
  },
  {
   "cell_type": "code",
   "execution_count": 21,
   "id": "173304a0",
   "metadata": {
    "execution": {
     "iopub.execute_input": "2023-10-14T13:13:33.446126Z",
     "iopub.status.busy": "2023-10-14T13:13:33.445261Z",
     "iopub.status.idle": "2023-10-14T13:14:54.242245Z",
     "shell.execute_reply": "2023-10-14T13:14:54.241319Z"
    },
    "papermill": {
     "duration": 80.815925,
     "end_time": "2023-10-14T13:14:54.244456",
     "exception": false,
     "start_time": "2023-10-14T13:13:33.428531",
     "status": "completed"
    },
    "tags": []
   },
   "outputs": [],
   "source": [
    "df[['CodeList2','ContainsCode2']] = df[['Text','CodeList']].apply(lambda x: (x[1],'True') if x[1]!='' else (find_match(x[0]),'2'),axis=1).tolist()\n",
    "df['CodeList2'] = df[['CodeList2','ContainsCode']].apply(lambda x: '' if x[1]==False else x[0],axis=1)"
   ]
  },
  {
   "cell_type": "code",
   "execution_count": 24,
   "id": "3035743a",
   "metadata": {
    "execution": {
     "iopub.execute_input": "2023-10-14T13:14:54.441721Z",
     "iopub.status.busy": "2023-10-14T13:14:54.440868Z",
     "iopub.status.idle": "2023-10-14T13:14:55.335837Z",
     "shell.execute_reply": "2023-10-14T13:14:55.334890Z"
    },
    "papermill": {
     "duration": 0.914037,
     "end_time": "2023-10-14T13:14:55.337930",
     "exception": false,
     "start_time": "2023-10-14T13:14:54.423893",
     "status": "completed"
    },
    "tags": []
   },
   "outputs": [
    {
     "name": "stdout",
     "output_type": "stream",
     "text": [
      "(1063, 6)\n"
     ]
    }
   ],
   "source": [
    "calculate_accuracy(df,'CodeList2')"
   ]
  },
  {
   "cell_type": "markdown",
   "id": "d59c6dc9",
   "metadata": {},
   "source": [
    "Submission for **Regex** Model"
   ]
  },
  {
   "cell_type": "code",
   "execution_count": 25,
   "id": "caa062c5",
   "metadata": {
    "execution": {
     "iopub.execute_input": "2023-10-14T13:14:55.371614Z",
     "iopub.status.busy": "2023-10-14T13:14:55.370732Z",
     "iopub.status.idle": "2023-10-14T13:14:55.386730Z",
     "shell.execute_reply": "2023-10-14T13:14:55.385810Z"
    },
    "papermill": {
     "duration": 0.034321,
     "end_time": "2023-10-14T13:14:55.388494",
     "exception": false,
     "start_time": "2023-10-14T13:14:55.354173",
     "status": "completed"
    },
    "tags": []
   },
   "outputs": [
    {
     "data": {
      "text/plain": [
       "array([[1, 0, 0, ..., 1, 0, 1],\n",
       "       [0, 0, 0, ..., 0, 0, 0],\n",
       "       [0, 0, 0, ..., 0, 0, 0],\n",
       "       ...,\n",
       "       [1, 0, 0, ..., 1, 0, 1],\n",
       "       [0, 0, 0, ..., 0, 0, 0],\n",
       "       [0, 0, 0, ..., 0, 0, 0]])"
      ]
     },
     "execution_count": 25,
     "metadata": {},
     "output_type": "execute_result"
    }
   ],
   "source": [
    "from sklearn.preprocessing import MultiLabelBinarizer\n",
    "mlb = MultiLabelBinarizer()\n",
    "s1 = df[\"CodeList2\"]\n",
    "t1 = mlb.fit_transform(s1)\n",
    "t1"
   ]
  },
  {
   "cell_type": "code",
   "execution_count": 27,
   "id": "363811cf",
   "metadata": {
    "execution": {
     "iopub.execute_input": "2023-10-14T13:14:55.459425Z",
     "iopub.status.busy": "2023-10-14T13:14:55.459150Z",
     "iopub.status.idle": "2023-10-14T13:14:55.479668Z",
     "shell.execute_reply": "2023-10-14T13:14:55.478342Z"
    },
    "papermill": {
     "duration": 0.040994,
     "end_time": "2023-10-14T13:14:55.483558",
     "exception": false,
     "start_time": "2023-10-14T13:14:55.442564",
     "status": "completed"
    },
    "tags": []
   },
   "outputs": [
    {
     "data": {
      "text/html": [
       "<div>\n",
       "<style scoped>\n",
       "    .dataframe tbody tr th:only-of-type {\n",
       "        vertical-align: middle;\n",
       "    }\n",
       "\n",
       "    .dataframe tbody tr th {\n",
       "        vertical-align: top;\n",
       "    }\n",
       "\n",
       "    .dataframe thead th {\n",
       "        text-align: right;\n",
       "    }\n",
       "</style>\n",
       "<table border=\"1\" class=\"dataframe\">\n",
       "  <thead>\n",
       "    <tr style=\"text-align: right;\">\n",
       "      <th></th>\n",
       "      <th>ID</th>\n",
       "      <th>Text</th>\n",
       "      <th>CodeList</th>\n",
       "      <th>CodeList2</th>\n",
       "      <th>ContainsCode2</th>\n",
       "    </tr>\n",
       "    <tr>\n",
       "      <th>ContainsCode</th>\n",
       "      <th></th>\n",
       "      <th></th>\n",
       "      <th></th>\n",
       "      <th></th>\n",
       "      <th></th>\n",
       "    </tr>\n",
       "  </thead>\n",
       "  <tbody>\n",
       "    <tr>\n",
       "      <th>False</th>\n",
       "      <td>845</td>\n",
       "      <td>845</td>\n",
       "      <td>1</td>\n",
       "      <td>1</td>\n",
       "      <td>1</td>\n",
       "    </tr>\n",
       "    <tr>\n",
       "      <th>True</th>\n",
       "      <td>532</td>\n",
       "      <td>532</td>\n",
       "      <td>433</td>\n",
       "      <td>433</td>\n",
       "      <td>1</td>\n",
       "    </tr>\n",
       "    <tr>\n",
       "      <th></th>\n",
       "      <td>531</td>\n",
       "      <td>531</td>\n",
       "      <td>1</td>\n",
       "      <td>256</td>\n",
       "      <td>1</td>\n",
       "    </tr>\n",
       "  </tbody>\n",
       "</table>\n",
       "</div>"
      ],
      "text/plain": [
       "               ID  Text  CodeList  CodeList2  ContainsCode2\n",
       "ContainsCode                                               \n",
       "False         845   845         1          1              1\n",
       "True          532   532       433        433              1\n",
       "              531   531         1        256              1"
      ]
     },
     "execution_count": 27,
     "metadata": {},
     "output_type": "execute_result"
    }
   ],
   "source": [
    "df.groupby(['ContainsCode']).nunique()"
   ]
  },
  {
   "cell_type": "code",
   "execution_count": 28,
   "id": "9e774116",
   "metadata": {
    "execution": {
     "iopub.execute_input": "2023-10-14T13:14:55.557129Z",
     "iopub.status.busy": "2023-10-14T13:14:55.556661Z",
     "iopub.status.idle": "2023-10-14T13:14:55.588912Z",
     "shell.execute_reply": "2023-10-14T13:14:55.587242Z"
    },
    "papermill": {
     "duration": 0.070529,
     "end_time": "2023-10-14T13:14:55.591229",
     "exception": false,
     "start_time": "2023-10-14T13:14:55.520700",
     "status": "completed"
    },
    "tags": []
   },
   "outputs": [
    {
     "data": {
      "text/html": [
       "<div>\n",
       "<style scoped>\n",
       "    .dataframe tbody tr th:only-of-type {\n",
       "        vertical-align: middle;\n",
       "    }\n",
       "\n",
       "    .dataframe tbody tr th {\n",
       "        vertical-align: top;\n",
       "    }\n",
       "\n",
       "    .dataframe thead th {\n",
       "        text-align: right;\n",
       "    }\n",
       "</style>\n",
       "<table border=\"1\" class=\"dataframe\">\n",
       "  <thead>\n",
       "    <tr style=\"text-align: right;\">\n",
       "      <th></th>\n",
       "      <th>0</th>\n",
       "      <th>1</th>\n",
       "      <th>2</th>\n",
       "      <th>3</th>\n",
       "      <th>4</th>\n",
       "      <th>5</th>\n",
       "      <th>6</th>\n",
       "      <th>7</th>\n",
       "      <th>8</th>\n",
       "      <th>9</th>\n",
       "      <th>...</th>\n",
       "      <th>83</th>\n",
       "      <th>84</th>\n",
       "      <th>85</th>\n",
       "      <th>86</th>\n",
       "      <th>87</th>\n",
       "      <th>88</th>\n",
       "      <th>89</th>\n",
       "      <th>90</th>\n",
       "      <th>91</th>\n",
       "      <th>92</th>\n",
       "    </tr>\n",
       "  </thead>\n",
       "  <tbody>\n",
       "    <tr>\n",
       "      <th>0</th>\n",
       "      <td>1</td>\n",
       "      <td>0</td>\n",
       "      <td>0</td>\n",
       "      <td>0</td>\n",
       "      <td>0</td>\n",
       "      <td>0</td>\n",
       "      <td>0</td>\n",
       "      <td>0</td>\n",
       "      <td>1</td>\n",
       "      <td>1</td>\n",
       "      <td>...</td>\n",
       "      <td>1</td>\n",
       "      <td>1</td>\n",
       "      <td>1</td>\n",
       "      <td>1</td>\n",
       "      <td>0</td>\n",
       "      <td>0</td>\n",
       "      <td>0</td>\n",
       "      <td>1</td>\n",
       "      <td>0</td>\n",
       "      <td>1</td>\n",
       "    </tr>\n",
       "    <tr>\n",
       "      <th>1</th>\n",
       "      <td>0</td>\n",
       "      <td>0</td>\n",
       "      <td>0</td>\n",
       "      <td>0</td>\n",
       "      <td>0</td>\n",
       "      <td>0</td>\n",
       "      <td>0</td>\n",
       "      <td>0</td>\n",
       "      <td>0</td>\n",
       "      <td>0</td>\n",
       "      <td>...</td>\n",
       "      <td>0</td>\n",
       "      <td>0</td>\n",
       "      <td>0</td>\n",
       "      <td>0</td>\n",
       "      <td>0</td>\n",
       "      <td>0</td>\n",
       "      <td>0</td>\n",
       "      <td>0</td>\n",
       "      <td>0</td>\n",
       "      <td>0</td>\n",
       "    </tr>\n",
       "    <tr>\n",
       "      <th>2</th>\n",
       "      <td>0</td>\n",
       "      <td>0</td>\n",
       "      <td>0</td>\n",
       "      <td>0</td>\n",
       "      <td>0</td>\n",
       "      <td>0</td>\n",
       "      <td>0</td>\n",
       "      <td>0</td>\n",
       "      <td>0</td>\n",
       "      <td>0</td>\n",
       "      <td>...</td>\n",
       "      <td>0</td>\n",
       "      <td>0</td>\n",
       "      <td>0</td>\n",
       "      <td>0</td>\n",
       "      <td>0</td>\n",
       "      <td>0</td>\n",
       "      <td>0</td>\n",
       "      <td>0</td>\n",
       "      <td>0</td>\n",
       "      <td>0</td>\n",
       "    </tr>\n",
       "    <tr>\n",
       "      <th>3</th>\n",
       "      <td>1</td>\n",
       "      <td>0</td>\n",
       "      <td>0</td>\n",
       "      <td>0</td>\n",
       "      <td>0</td>\n",
       "      <td>0</td>\n",
       "      <td>0</td>\n",
       "      <td>1</td>\n",
       "      <td>0</td>\n",
       "      <td>0</td>\n",
       "      <td>...</td>\n",
       "      <td>1</td>\n",
       "      <td>0</td>\n",
       "      <td>0</td>\n",
       "      <td>0</td>\n",
       "      <td>0</td>\n",
       "      <td>0</td>\n",
       "      <td>0</td>\n",
       "      <td>0</td>\n",
       "      <td>0</td>\n",
       "      <td>0</td>\n",
       "    </tr>\n",
       "    <tr>\n",
       "      <th>4</th>\n",
       "      <td>0</td>\n",
       "      <td>0</td>\n",
       "      <td>0</td>\n",
       "      <td>0</td>\n",
       "      <td>0</td>\n",
       "      <td>0</td>\n",
       "      <td>0</td>\n",
       "      <td>0</td>\n",
       "      <td>0</td>\n",
       "      <td>0</td>\n",
       "      <td>...</td>\n",
       "      <td>0</td>\n",
       "      <td>0</td>\n",
       "      <td>0</td>\n",
       "      <td>0</td>\n",
       "      <td>0</td>\n",
       "      <td>0</td>\n",
       "      <td>0</td>\n",
       "      <td>0</td>\n",
       "      <td>0</td>\n",
       "      <td>0</td>\n",
       "    </tr>\n",
       "    <tr>\n",
       "      <th>...</th>\n",
       "      <td>...</td>\n",
       "      <td>...</td>\n",
       "      <td>...</td>\n",
       "      <td>...</td>\n",
       "      <td>...</td>\n",
       "      <td>...</td>\n",
       "      <td>...</td>\n",
       "      <td>...</td>\n",
       "      <td>...</td>\n",
       "      <td>...</td>\n",
       "      <td>...</td>\n",
       "      <td>...</td>\n",
       "      <td>...</td>\n",
       "      <td>...</td>\n",
       "      <td>...</td>\n",
       "      <td>...</td>\n",
       "      <td>...</td>\n",
       "      <td>...</td>\n",
       "      <td>...</td>\n",
       "      <td>...</td>\n",
       "      <td>...</td>\n",
       "    </tr>\n",
       "    <tr>\n",
       "      <th>1903</th>\n",
       "      <td>1</td>\n",
       "      <td>0</td>\n",
       "      <td>0</td>\n",
       "      <td>0</td>\n",
       "      <td>0</td>\n",
       "      <td>0</td>\n",
       "      <td>0</td>\n",
       "      <td>0</td>\n",
       "      <td>1</td>\n",
       "      <td>1</td>\n",
       "      <td>...</td>\n",
       "      <td>1</td>\n",
       "      <td>0</td>\n",
       "      <td>0</td>\n",
       "      <td>1</td>\n",
       "      <td>0</td>\n",
       "      <td>1</td>\n",
       "      <td>0</td>\n",
       "      <td>0</td>\n",
       "      <td>0</td>\n",
       "      <td>0</td>\n",
       "    </tr>\n",
       "    <tr>\n",
       "      <th>1904</th>\n",
       "      <td>0</td>\n",
       "      <td>0</td>\n",
       "      <td>0</td>\n",
       "      <td>0</td>\n",
       "      <td>0</td>\n",
       "      <td>0</td>\n",
       "      <td>0</td>\n",
       "      <td>0</td>\n",
       "      <td>0</td>\n",
       "      <td>0</td>\n",
       "      <td>...</td>\n",
       "      <td>0</td>\n",
       "      <td>0</td>\n",
       "      <td>0</td>\n",
       "      <td>0</td>\n",
       "      <td>0</td>\n",
       "      <td>0</td>\n",
       "      <td>0</td>\n",
       "      <td>0</td>\n",
       "      <td>0</td>\n",
       "      <td>0</td>\n",
       "    </tr>\n",
       "    <tr>\n",
       "      <th>1905</th>\n",
       "      <td>1</td>\n",
       "      <td>0</td>\n",
       "      <td>0</td>\n",
       "      <td>0</td>\n",
       "      <td>0</td>\n",
       "      <td>0</td>\n",
       "      <td>0</td>\n",
       "      <td>0</td>\n",
       "      <td>1</td>\n",
       "      <td>1</td>\n",
       "      <td>...</td>\n",
       "      <td>1</td>\n",
       "      <td>1</td>\n",
       "      <td>0</td>\n",
       "      <td>0</td>\n",
       "      <td>0</td>\n",
       "      <td>0</td>\n",
       "      <td>0</td>\n",
       "      <td>1</td>\n",
       "      <td>0</td>\n",
       "      <td>1</td>\n",
       "    </tr>\n",
       "    <tr>\n",
       "      <th>1906</th>\n",
       "      <td>0</td>\n",
       "      <td>0</td>\n",
       "      <td>0</td>\n",
       "      <td>0</td>\n",
       "      <td>0</td>\n",
       "      <td>0</td>\n",
       "      <td>0</td>\n",
       "      <td>0</td>\n",
       "      <td>0</td>\n",
       "      <td>0</td>\n",
       "      <td>...</td>\n",
       "      <td>0</td>\n",
       "      <td>0</td>\n",
       "      <td>0</td>\n",
       "      <td>0</td>\n",
       "      <td>0</td>\n",
       "      <td>0</td>\n",
       "      <td>0</td>\n",
       "      <td>0</td>\n",
       "      <td>0</td>\n",
       "      <td>0</td>\n",
       "    </tr>\n",
       "    <tr>\n",
       "      <th>1907</th>\n",
       "      <td>0</td>\n",
       "      <td>0</td>\n",
       "      <td>0</td>\n",
       "      <td>0</td>\n",
       "      <td>0</td>\n",
       "      <td>0</td>\n",
       "      <td>0</td>\n",
       "      <td>0</td>\n",
       "      <td>0</td>\n",
       "      <td>0</td>\n",
       "      <td>...</td>\n",
       "      <td>0</td>\n",
       "      <td>0</td>\n",
       "      <td>0</td>\n",
       "      <td>0</td>\n",
       "      <td>0</td>\n",
       "      <td>0</td>\n",
       "      <td>0</td>\n",
       "      <td>0</td>\n",
       "      <td>0</td>\n",
       "      <td>0</td>\n",
       "    </tr>\n",
       "  </tbody>\n",
       "</table>\n",
       "<p>1908 rows × 93 columns</p>\n",
       "</div>"
      ],
      "text/plain": [
       "      0   1   2   3   4   5   6   7   8   9   ...  83  84  85  86  87  88  89  \\\n",
       "0      1   0   0   0   0   0   0   0   1   1  ...   1   1   1   1   0   0   0   \n",
       "1      0   0   0   0   0   0   0   0   0   0  ...   0   0   0   0   0   0   0   \n",
       "2      0   0   0   0   0   0   0   0   0   0  ...   0   0   0   0   0   0   0   \n",
       "3      1   0   0   0   0   0   0   1   0   0  ...   1   0   0   0   0   0   0   \n",
       "4      0   0   0   0   0   0   0   0   0   0  ...   0   0   0   0   0   0   0   \n",
       "...   ..  ..  ..  ..  ..  ..  ..  ..  ..  ..  ...  ..  ..  ..  ..  ..  ..  ..   \n",
       "1903   1   0   0   0   0   0   0   0   1   1  ...   1   0   0   1   0   1   0   \n",
       "1904   0   0   0   0   0   0   0   0   0   0  ...   0   0   0   0   0   0   0   \n",
       "1905   1   0   0   0   0   0   0   0   1   1  ...   1   1   0   0   0   0   0   \n",
       "1906   0   0   0   0   0   0   0   0   0   0  ...   0   0   0   0   0   0   0   \n",
       "1907   0   0   0   0   0   0   0   0   0   0  ...   0   0   0   0   0   0   0   \n",
       "\n",
       "      90  91  92  \n",
       "0      1   0   1  \n",
       "1      0   0   0  \n",
       "2      0   0   0  \n",
       "3      0   0   0  \n",
       "4      0   0   0  \n",
       "...   ..  ..  ..  \n",
       "1903   0   0   0  \n",
       "1904   0   0   0  \n",
       "1905   1   0   1  \n",
       "1906   0   0   0  \n",
       "1907   0   0   0  \n",
       "\n",
       "[1908 rows x 93 columns]"
      ]
     },
     "execution_count": 28,
     "metadata": {},
     "output_type": "execute_result"
    }
   ],
   "source": [
    "submission1 = pd.DataFrame(t1)\n",
    "submission1"
   ]
  },
  {
   "cell_type": "code",
   "execution_count": 29,
   "id": "5d0a7a3a",
   "metadata": {
    "execution": {
     "iopub.execute_input": "2023-10-14T13:14:55.625838Z",
     "iopub.status.busy": "2023-10-14T13:14:55.625031Z",
     "iopub.status.idle": "2023-10-14T13:14:55.651952Z",
     "shell.execute_reply": "2023-10-14T13:14:55.651137Z"
    },
    "papermill": {
     "duration": 0.045569,
     "end_time": "2023-10-14T13:14:55.653644",
     "exception": false,
     "start_time": "2023-10-14T13:14:55.608075",
     "status": "completed"
    },
    "tags": []
   },
   "outputs": [],
   "source": [
    "submission1.to_csv(\"submission_fork_regex_v8.csv\",index=False) #0.76963"
   ]
  },
  {
   "cell_type": "markdown",
   "id": "5aa7904c",
   "metadata": {},
   "source": [
    "#### Conclusion\n",
    "\n",
    "Just a simple submission using **Regex** provided the score of **0.769** score which was really great!"
   ]
  },
  {
   "cell_type": "markdown",
   "id": "53e7f542",
   "metadata": {},
   "source": [
    "## Solution Approach - Spacy NER\n",
    "\n",
    "Lets take a look at the spacy transformers part!"
   ]
  },
  {
   "cell_type": "code",
   "execution_count": 30,
   "id": "9c6af3ab",
   "metadata": {
    "execution": {
     "iopub.execute_input": "2023-10-14T13:14:55.687875Z",
     "iopub.status.busy": "2023-10-14T13:14:55.687106Z",
     "iopub.status.idle": "2023-10-14T13:15:09.261344Z",
     "shell.execute_reply": "2023-10-14T13:15:09.260221Z"
    },
    "papermill": {
     "duration": 13.593747,
     "end_time": "2023-10-14T13:15:09.263615",
     "exception": false,
     "start_time": "2023-10-14T13:14:55.669868",
     "status": "completed"
    },
    "tags": []
   },
   "outputs": [
    {
     "name": "stdout",
     "output_type": "stream",
     "text": [
      "Requirement already satisfied: spacy[transformers] in /opt/conda/lib/python3.10/site-packages (3.6.1)\r\n",
      "Collecting spacy[transformers]\r\n",
      "  Downloading spacy-3.7.1-cp310-cp310-manylinux_2_17_x86_64.manylinux2014_x86_64.whl (6.6 MB)\r\n",
      "\u001b[2K     \u001b[90m━━━━━━━━━━━━━━━━━━━━━━━━━━━━━━━━━━━━━━━━\u001b[0m \u001b[32m6.6/6.6 MB\u001b[0m \u001b[31m57.4 MB/s\u001b[0m eta \u001b[36m0:00:00\u001b[0m\r\n",
      "\u001b[?25hRequirement already satisfied: spacy-legacy<3.1.0,>=3.0.11 in /opt/conda/lib/python3.10/site-packages (from spacy[transformers]) (3.0.12)\r\n",
      "Requirement already satisfied: spacy-loggers<2.0.0,>=1.0.0 in /opt/conda/lib/python3.10/site-packages (from spacy[transformers]) (1.0.4)\r\n",
      "Requirement already satisfied: murmurhash<1.1.0,>=0.28.0 in /opt/conda/lib/python3.10/site-packages (from spacy[transformers]) (1.0.9)\r\n",
      "Requirement already satisfied: cymem<2.1.0,>=2.0.2 in /opt/conda/lib/python3.10/site-packages (from spacy[transformers]) (2.0.7)\r\n",
      "Requirement already satisfied: preshed<3.1.0,>=3.0.2 in /opt/conda/lib/python3.10/site-packages (from spacy[transformers]) (3.0.8)\r\n",
      "Requirement already satisfied: thinc<8.3.0,>=8.1.8 in /opt/conda/lib/python3.10/site-packages (from spacy[transformers]) (8.1.12)\r\n",
      "Requirement already satisfied: wasabi<1.2.0,>=0.9.1 in /opt/conda/lib/python3.10/site-packages (from spacy[transformers]) (1.1.2)\r\n",
      "Requirement already satisfied: srsly<3.0.0,>=2.4.3 in /opt/conda/lib/python3.10/site-packages (from spacy[transformers]) (2.4.7)\r\n",
      "Requirement already satisfied: catalogue<2.1.0,>=2.0.6 in /opt/conda/lib/python3.10/site-packages (from spacy[transformers]) (2.0.9)\r\n",
      "Collecting weasel<0.4.0,>=0.1.0 (from spacy[transformers])\r\n",
      "  Downloading weasel-0.3.2-py3-none-any.whl (50 kB)\r\n",
      "\u001b[2K     \u001b[90m━━━━━━━━━━━━━━━━━━━━━━━━━━━━━━━━━━━━━━━━\u001b[0m \u001b[32m50.0/50.0 kB\u001b[0m \u001b[31m4.9 MB/s\u001b[0m eta \u001b[36m0:00:00\u001b[0m\r\n",
      "\u001b[?25hRequirement already satisfied: typer<0.10.0,>=0.3.0 in /opt/conda/lib/python3.10/site-packages (from spacy[transformers]) (0.9.0)\r\n",
      "Requirement already satisfied: pathy>=0.10.0 in /opt/conda/lib/python3.10/site-packages (from spacy[transformers]) (0.10.1)\r\n",
      "Requirement already satisfied: smart-open<7.0.0,>=5.2.1 in /opt/conda/lib/python3.10/site-packages (from spacy[transformers]) (6.3.0)\r\n",
      "Requirement already satisfied: tqdm<5.0.0,>=4.38.0 in /opt/conda/lib/python3.10/site-packages (from spacy[transformers]) (4.66.1)\r\n",
      "Requirement already satisfied: requests<3.0.0,>=2.13.0 in /opt/conda/lib/python3.10/site-packages (from spacy[transformers]) (2.31.0)\r\n",
      "Requirement already satisfied: pydantic!=1.8,!=1.8.1,<3.0.0,>=1.7.4 in /opt/conda/lib/python3.10/site-packages (from spacy[transformers]) (1.10.9)\r\n",
      "Requirement already satisfied: jinja2 in /opt/conda/lib/python3.10/site-packages (from spacy[transformers]) (3.1.2)\r\n",
      "Requirement already satisfied: setuptools in /opt/conda/lib/python3.10/site-packages (from spacy[transformers]) (68.0.0)\r\n",
      "Requirement already satisfied: packaging>=20.0 in /opt/conda/lib/python3.10/site-packages (from spacy[transformers]) (21.3)\r\n",
      "Requirement already satisfied: langcodes<4.0.0,>=3.2.0 in /opt/conda/lib/python3.10/site-packages (from spacy[transformers]) (3.3.0)\r\n",
      "Requirement already satisfied: numpy>=1.19.0 in /opt/conda/lib/python3.10/site-packages (from spacy[transformers]) (1.23.5)\r\n",
      "Collecting spacy-transformers<1.4.0,>=1.1.2 (from spacy[transformers])\r\n",
      "  Downloading spacy_transformers-1.3.2-cp310-cp310-manylinux_2_17_x86_64.manylinux2014_x86_64.whl (197 kB)\r\n",
      "\u001b[2K     \u001b[90m━━━━━━━━━━━━━━━━━━━━━━━━━━━━━━━━━━━━━━\u001b[0m \u001b[32m197.8/197.8 kB\u001b[0m \u001b[31m17.1 MB/s\u001b[0m eta \u001b[36m0:00:00\u001b[0m\r\n",
      "\u001b[?25hRequirement already satisfied: pyparsing!=3.0.5,>=2.0.2 in /opt/conda/lib/python3.10/site-packages (from packaging>=20.0->spacy[transformers]) (3.0.9)\r\n",
      "Requirement already satisfied: typing-extensions>=4.2.0 in /opt/conda/lib/python3.10/site-packages (from pydantic!=1.8,!=1.8.1,<3.0.0,>=1.7.4->spacy[transformers]) (4.6.3)\r\n",
      "Requirement already satisfied: charset-normalizer<4,>=2 in /opt/conda/lib/python3.10/site-packages (from requests<3.0.0,>=2.13.0->spacy[transformers]) (3.1.0)\r\n",
      "Requirement already satisfied: idna<4,>=2.5 in /opt/conda/lib/python3.10/site-packages (from requests<3.0.0,>=2.13.0->spacy[transformers]) (3.4)\r\n",
      "Requirement already satisfied: urllib3<3,>=1.21.1 in /opt/conda/lib/python3.10/site-packages (from requests<3.0.0,>=2.13.0->spacy[transformers]) (1.26.15)\r\n",
      "Requirement already satisfied: certifi>=2017.4.17 in /opt/conda/lib/python3.10/site-packages (from requests<3.0.0,>=2.13.0->spacy[transformers]) (2023.7.22)\r\n",
      "Requirement already satisfied: transformers<4.35.0,>=3.4.0 in /opt/conda/lib/python3.10/site-packages (from spacy-transformers<1.4.0,>=1.1.2->spacy[transformers]) (4.33.0)\r\n",
      "Requirement already satisfied: torch>=1.8.0 in /opt/conda/lib/python3.10/site-packages (from spacy-transformers<1.4.0,>=1.1.2->spacy[transformers]) (2.0.0)\r\n",
      "Collecting spacy-alignments<1.0.0,>=0.7.2 (from spacy-transformers<1.4.0,>=1.1.2->spacy[transformers])\r\n",
      "  Downloading spacy_alignments-0.9.1-cp310-cp310-manylinux_2_17_x86_64.manylinux2014_x86_64.whl (313 kB)\r\n",
      "\u001b[2K     \u001b[90m━━━━━━━━━━━━━━━━━━━━━━━━━━━━━━━━━━━━━━\u001b[0m \u001b[32m314.0/314.0 kB\u001b[0m \u001b[31m22.9 MB/s\u001b[0m eta \u001b[36m0:00:00\u001b[0m\r\n",
      "\u001b[?25hRequirement already satisfied: blis<0.8.0,>=0.7.8 in /opt/conda/lib/python3.10/site-packages (from thinc<8.3.0,>=8.1.8->spacy[transformers]) (0.7.10)\r\n",
      "Requirement already satisfied: confection<1.0.0,>=0.0.1 in /opt/conda/lib/python3.10/site-packages (from thinc<8.3.0,>=8.1.8->spacy[transformers]) (0.1.1)\r\n",
      "Requirement already satisfied: click<9.0.0,>=7.1.1 in /opt/conda/lib/python3.10/site-packages (from typer<0.10.0,>=0.3.0->spacy[transformers]) (8.1.7)\r\n",
      "Collecting cloudpathlib<0.16.0,>=0.7.0 (from weasel<0.4.0,>=0.1.0->spacy[transformers])\r\n",
      "  Downloading cloudpathlib-0.15.1-py3-none-any.whl (43 kB)\r\n",
      "\u001b[2K     \u001b[90m━━━━━━━━━━━━━━━━━━━━━━━━━━━━━━━━━━━━━━━━\u001b[0m \u001b[32m43.9/43.9 kB\u001b[0m \u001b[31m4.0 MB/s\u001b[0m eta \u001b[36m0:00:00\u001b[0m\r\n",
      "\u001b[?25hRequirement already satisfied: MarkupSafe>=2.0 in /opt/conda/lib/python3.10/site-packages (from jinja2->spacy[transformers]) (2.1.3)\r\n",
      "Requirement already satisfied: filelock in /opt/conda/lib/python3.10/site-packages (from torch>=1.8.0->spacy-transformers<1.4.0,>=1.1.2->spacy[transformers]) (3.12.2)\r\n",
      "Requirement already satisfied: sympy in /opt/conda/lib/python3.10/site-packages (from torch>=1.8.0->spacy-transformers<1.4.0,>=1.1.2->spacy[transformers]) (1.12)\r\n",
      "Requirement already satisfied: networkx in /opt/conda/lib/python3.10/site-packages (from torch>=1.8.0->spacy-transformers<1.4.0,>=1.1.2->spacy[transformers]) (3.1)\r\n",
      "Requirement already satisfied: huggingface-hub<1.0,>=0.15.1 in /opt/conda/lib/python3.10/site-packages (from transformers<4.35.0,>=3.4.0->spacy-transformers<1.4.0,>=1.1.2->spacy[transformers]) (0.16.4)\r\n",
      "Requirement already satisfied: pyyaml>=5.1 in /opt/conda/lib/python3.10/site-packages (from transformers<4.35.0,>=3.4.0->spacy-transformers<1.4.0,>=1.1.2->spacy[transformers]) (6.0)\r\n",
      "Requirement already satisfied: regex!=2019.12.17 in /opt/conda/lib/python3.10/site-packages (from transformers<4.35.0,>=3.4.0->spacy-transformers<1.4.0,>=1.1.2->spacy[transformers]) (2023.6.3)\r\n",
      "Requirement already satisfied: tokenizers!=0.11.3,<0.14,>=0.11.1 in /opt/conda/lib/python3.10/site-packages (from transformers<4.35.0,>=3.4.0->spacy-transformers<1.4.0,>=1.1.2->spacy[transformers]) (0.13.3)\r\n",
      "Requirement already satisfied: safetensors>=0.3.1 in /opt/conda/lib/python3.10/site-packages (from transformers<4.35.0,>=3.4.0->spacy-transformers<1.4.0,>=1.1.2->spacy[transformers]) (0.3.3)\r\n",
      "Requirement already satisfied: fsspec in /opt/conda/lib/python3.10/site-packages (from huggingface-hub<1.0,>=0.15.1->transformers<4.35.0,>=3.4.0->spacy-transformers<1.4.0,>=1.1.2->spacy[transformers]) (2023.9.0)\r\n",
      "Requirement already satisfied: mpmath>=0.19 in /opt/conda/lib/python3.10/site-packages (from sympy->torch>=1.8.0->spacy-transformers<1.4.0,>=1.1.2->spacy[transformers]) (1.3.0)\r\n",
      "Installing collected packages: spacy-alignments, cloudpathlib, weasel, spacy, spacy-transformers\r\n",
      "  Attempting uninstall: spacy\r\n",
      "    Found existing installation: spacy 3.6.1\r\n",
      "    Uninstalling spacy-3.6.1:\r\n",
      "      Successfully uninstalled spacy-3.6.1\r\n",
      "\u001b[31mERROR: pip's dependency resolver does not currently take into account all the packages that are installed. This behaviour is the source of the following dependency conflicts.\r\n",
      "en-core-web-lg 3.6.0 requires spacy<3.7.0,>=3.6.0, but you have spacy 3.7.1 which is incompatible.\r\n",
      "en-core-web-sm 3.6.0 requires spacy<3.7.0,>=3.6.0, but you have spacy 3.7.1 which is incompatible.\u001b[0m\u001b[31m\r\n",
      "\u001b[0mSuccessfully installed cloudpathlib-0.15.1 spacy-3.7.1 spacy-alignments-0.9.1 spacy-transformers-1.3.2 weasel-0.3.2\r\n"
     ]
    }
   ],
   "source": [
    "\n",
    "\n",
    "!pip install -U spacy[transformers]\n",
    "\n"
   ]
  },
  {
   "cell_type": "code",
   "execution_count": 31,
   "id": "70a9922a",
   "metadata": {
    "execution": {
     "iopub.execute_input": "2023-10-14T13:15:09.300713Z",
     "iopub.status.busy": "2023-10-14T13:15:09.300177Z",
     "iopub.status.idle": "2023-10-14T13:15:09.311922Z",
     "shell.execute_reply": "2023-10-14T13:15:09.311012Z"
    },
    "papermill": {
     "duration": 0.032051,
     "end_time": "2023-10-14T13:15:09.313680",
     "exception": false,
     "start_time": "2023-10-14T13:15:09.281629",
     "status": "completed"
    },
    "tags": []
   },
   "outputs": [
    {
     "data": {
      "text/html": [
       "<div>\n",
       "<style scoped>\n",
       "    .dataframe tbody tr th:only-of-type {\n",
       "        vertical-align: middle;\n",
       "    }\n",
       "\n",
       "    .dataframe tbody tr th {\n",
       "        vertical-align: top;\n",
       "    }\n",
       "\n",
       "    .dataframe thead th {\n",
       "        text-align: right;\n",
       "    }\n",
       "</style>\n",
       "<table border=\"1\" class=\"dataframe\">\n",
       "  <thead>\n",
       "    <tr style=\"text-align: right;\">\n",
       "      <th></th>\n",
       "      <th>ID</th>\n",
       "      <th>Text</th>\n",
       "      <th>ContainsCode</th>\n",
       "      <th>CodeList</th>\n",
       "      <th>CodeList2</th>\n",
       "      <th>ContainsCode2</th>\n",
       "    </tr>\n",
       "  </thead>\n",
       "  <tbody>\n",
       "    <tr>\n",
       "      <th>0</th>\n",
       "      <td>1</td>\n",
       "      <td>Test-driven development (TDD) is a software de...</td>\n",
       "      <td></td>\n",
       "      <td></td>\n",
       "      <td>public void testAdd() { \\n@Test \\nint result =...</td>\n",
       "      <td>2</td>\n",
       "    </tr>\n",
       "    <tr>\n",
       "      <th>1</th>\n",
       "      <td>2</td>\n",
       "      <td>Software development is an exciting field that...</td>\n",
       "      <td>False</td>\n",
       "      <td></td>\n",
       "      <td></td>\n",
       "      <td>2</td>\n",
       "    </tr>\n",
       "    <tr>\n",
       "      <th>2</th>\n",
       "      <td>3</td>\n",
       "      <td>The development process often starts with a co...</td>\n",
       "      <td></td>\n",
       "      <td></td>\n",
       "      <td></td>\n",
       "      <td>2</td>\n",
       "    </tr>\n",
       "    <tr>\n",
       "      <th>3</th>\n",
       "      <td>4</td>\n",
       "      <td>Another important aspect of software developme...</td>\n",
       "      <td>True</td>\n",
       "      <td>git commit -m 'Initial commit'</td>\n",
       "      <td>git commit -m 'Initial commit'</td>\n",
       "      <td>True</td>\n",
       "    </tr>\n",
       "    <tr>\n",
       "      <th>4</th>\n",
       "      <td>5</td>\n",
       "      <td>In the world of software development, language...</td>\n",
       "      <td>False</td>\n",
       "      <td></td>\n",
       "      <td></td>\n",
       "      <td>2</td>\n",
       "    </tr>\n",
       "  </tbody>\n",
       "</table>\n",
       "</div>"
      ],
      "text/plain": [
       "   ID                                               Text ContainsCode  \\\n",
       "0   1  Test-driven development (TDD) is a software de...                \n",
       "1   2  Software development is an exciting field that...        False   \n",
       "2   3  The development process often starts with a co...                \n",
       "3   4  Another important aspect of software developme...         True   \n",
       "4   5  In the world of software development, language...        False   \n",
       "\n",
       "                         CodeList  \\\n",
       "0                                   \n",
       "1                                   \n",
       "2                                   \n",
       "3  git commit -m 'Initial commit'   \n",
       "4                                   \n",
       "\n",
       "                                           CodeList2 ContainsCode2  \n",
       "0  public void testAdd() { \\n@Test \\nint result =...             2  \n",
       "1                                                                2  \n",
       "2                                                                2  \n",
       "3                     git commit -m 'Initial commit'          True  \n",
       "4                                                                2  "
      ]
     },
     "execution_count": 31,
     "metadata": {},
     "output_type": "execute_result"
    }
   ],
   "source": [
    "# NER\n",
    "df.head()"
   ]
  },
  {
   "cell_type": "code",
   "execution_count": 32,
   "id": "a8770da9",
   "metadata": {
    "execution": {
     "iopub.execute_input": "2023-10-14T13:15:09.350397Z",
     "iopub.status.busy": "2023-10-14T13:15:09.349534Z",
     "iopub.status.idle": "2023-10-14T13:15:09.365670Z",
     "shell.execute_reply": "2023-10-14T13:15:09.364769Z"
    },
    "papermill": {
     "duration": 0.036136,
     "end_time": "2023-10-14T13:15:09.367335",
     "exception": false,
     "start_time": "2023-10-14T13:15:09.331199",
     "status": "completed"
    },
    "tags": []
   },
   "outputs": [
    {
     "data": {
      "text/html": [
       "<div>\n",
       "<style scoped>\n",
       "    .dataframe tbody tr th:only-of-type {\n",
       "        vertical-align: middle;\n",
       "    }\n",
       "\n",
       "    .dataframe tbody tr th {\n",
       "        vertical-align: top;\n",
       "    }\n",
       "\n",
       "    .dataframe thead th {\n",
       "        text-align: right;\n",
       "    }\n",
       "</style>\n",
       "<table border=\"1\" class=\"dataframe\">\n",
       "  <thead>\n",
       "    <tr style=\"text-align: right;\">\n",
       "      <th></th>\n",
       "      <th>ID</th>\n",
       "      <th>Text</th>\n",
       "      <th>CodeList</th>\n",
       "      <th>CodeList2</th>\n",
       "      <th>ContainsCode2</th>\n",
       "    </tr>\n",
       "    <tr>\n",
       "      <th>ContainsCode</th>\n",
       "      <th></th>\n",
       "      <th></th>\n",
       "      <th></th>\n",
       "      <th></th>\n",
       "      <th></th>\n",
       "    </tr>\n",
       "  </thead>\n",
       "  <tbody>\n",
       "    <tr>\n",
       "      <th>False</th>\n",
       "      <td>845</td>\n",
       "      <td>845</td>\n",
       "      <td>1</td>\n",
       "      <td>1</td>\n",
       "      <td>1</td>\n",
       "    </tr>\n",
       "    <tr>\n",
       "      <th>True</th>\n",
       "      <td>532</td>\n",
       "      <td>532</td>\n",
       "      <td>433</td>\n",
       "      <td>433</td>\n",
       "      <td>1</td>\n",
       "    </tr>\n",
       "    <tr>\n",
       "      <th></th>\n",
       "      <td>531</td>\n",
       "      <td>531</td>\n",
       "      <td>1</td>\n",
       "      <td>256</td>\n",
       "      <td>1</td>\n",
       "    </tr>\n",
       "  </tbody>\n",
       "</table>\n",
       "</div>"
      ],
      "text/plain": [
       "               ID  Text  CodeList  CodeList2  ContainsCode2\n",
       "ContainsCode                                               \n",
       "False         845   845         1          1              1\n",
       "True          532   532       433        433              1\n",
       "              531   531         1        256              1"
      ]
     },
     "execution_count": 32,
     "metadata": {},
     "output_type": "execute_result"
    }
   ],
   "source": [
    "df.groupby(['ContainsCode']).nunique()"
   ]
  },
  {
   "cell_type": "code",
   "execution_count": 33,
   "id": "7d6b42e3",
   "metadata": {
    "execution": {
     "iopub.execute_input": "2023-10-14T13:15:09.404515Z",
     "iopub.status.busy": "2023-10-14T13:15:09.403974Z",
     "iopub.status.idle": "2023-10-14T13:15:09.417649Z",
     "shell.execute_reply": "2023-10-14T13:15:09.416634Z"
    },
    "papermill": {
     "duration": 0.033773,
     "end_time": "2023-10-14T13:15:09.419434",
     "exception": false,
     "start_time": "2023-10-14T13:15:09.385661",
     "status": "completed"
    },
    "tags": []
   },
   "outputs": [
    {
     "data": {
      "text/plain": [
       "ContainsCode  CodeList2                                                                                                  \n",
       "False                                                                                                                        845\n",
       "True          print('Hello, World!')                                                                                          27\n",
       "              public class HelloWorld { public static void main(String[] args) { System.out.println('Hello, World!'); } }      9\n",
       "              def add(a, b): return a + b                                                                                      5\n",
       "              puts 'Hello, World!'                                                                                             5\n",
       "                                                                                                                            ... \n",
       "              end\\nreturn a + b                                                                                                1\n",
       "              end\\nreturn a + b\\n } \\n{                                                                                        1\n",
       "              end\\nreturn a + b\\ndef add(a, b)                                                                                 1\n",
       "              end\\nreturn a + b\\n}\\n{                                                                                          1\n",
       "              end\\ntry {\\n }                                                                                                   1\n",
       "Name: count, Length: 690, dtype: int64"
      ]
     },
     "execution_count": 33,
     "metadata": {},
     "output_type": "execute_result"
    }
   ],
   "source": [
    "df.groupby(['ContainsCode'])['CodeList2'].value_counts()"
   ]
  },
  {
   "cell_type": "code",
   "execution_count": 34,
   "id": "6fabf1cc",
   "metadata": {
    "execution": {
     "iopub.execute_input": "2023-10-14T13:15:09.456500Z",
     "iopub.status.busy": "2023-10-14T13:15:09.455995Z",
     "iopub.status.idle": "2023-10-14T13:15:09.465367Z",
     "shell.execute_reply": "2023-10-14T13:15:09.464510Z"
    },
    "papermill": {
     "duration": 0.029787,
     "end_time": "2023-10-14T13:15:09.467045",
     "exception": false,
     "start_time": "2023-10-14T13:15:09.437258",
     "status": "completed"
    },
    "tags": []
   },
   "outputs": [
    {
     "data": {
      "text/plain": [
       "ContainsCode\n",
       "True    532\n",
       "        440\n",
       "Name: count, dtype: int64"
      ]
     },
     "execution_count": 34,
     "metadata": {},
     "output_type": "execute_result"
    }
   ],
   "source": [
    "df[(df['CodeList2'] != '')]['ContainsCode'].value_counts()"
   ]
  },
  {
   "cell_type": "markdown",
   "id": "7412f758",
   "metadata": {},
   "source": [
    "Creating Train and Test Set"
   ]
  },
  {
   "cell_type": "code",
   "execution_count": 36,
   "id": "fd841805",
   "metadata": {
    "execution": {
     "iopub.execute_input": "2023-10-14T13:15:09.546372Z",
     "iopub.status.busy": "2023-10-14T13:15:09.545677Z",
     "iopub.status.idle": "2023-10-14T13:15:09.552627Z",
     "shell.execute_reply": "2023-10-14T13:15:09.551780Z"
    },
    "papermill": {
     "duration": 0.027437,
     "end_time": "2023-10-14T13:15:09.554309",
     "exception": false,
     "start_time": "2023-10-14T13:15:09.526872",
     "status": "completed"
    },
    "tags": []
   },
   "outputs": [
    {
     "data": {
      "text/plain": [
       "(532, 6)"
      ]
     },
     "execution_count": 36,
     "metadata": {},
     "output_type": "execute_result"
    }
   ],
   "source": [
    "train = df[(df['ContainsCode'] == True)].copy()\n",
    "train.shape"
   ]
  },
  {
   "cell_type": "code",
   "execution_count": 37,
   "id": "88475195",
   "metadata": {
    "execution": {
     "iopub.execute_input": "2023-10-14T13:15:09.591082Z",
     "iopub.status.busy": "2023-10-14T13:15:09.590556Z",
     "iopub.status.idle": "2023-10-14T13:15:09.603254Z",
     "shell.execute_reply": "2023-10-14T13:15:09.602448Z"
    },
    "papermill": {
     "duration": 0.032981,
     "end_time": "2023-10-14T13:15:09.604916",
     "exception": false,
     "start_time": "2023-10-14T13:15:09.571935",
     "status": "completed"
    },
    "tags": []
   },
   "outputs": [
    {
     "data": {
      "text/html": [
       "<div>\n",
       "<style scoped>\n",
       "    .dataframe tbody tr th:only-of-type {\n",
       "        vertical-align: middle;\n",
       "    }\n",
       "\n",
       "    .dataframe tbody tr th {\n",
       "        vertical-align: top;\n",
       "    }\n",
       "\n",
       "    .dataframe thead th {\n",
       "        text-align: right;\n",
       "    }\n",
       "</style>\n",
       "<table border=\"1\" class=\"dataframe\">\n",
       "  <thead>\n",
       "    <tr style=\"text-align: right;\">\n",
       "      <th></th>\n",
       "      <th>ID</th>\n",
       "      <th>Text</th>\n",
       "      <th>ContainsCode</th>\n",
       "      <th>CodeList</th>\n",
       "      <th>CodeList2</th>\n",
       "      <th>ContainsCode2</th>\n",
       "      <th>CodeList_all</th>\n",
       "    </tr>\n",
       "  </thead>\n",
       "  <tbody>\n",
       "    <tr>\n",
       "      <th>3</th>\n",
       "      <td>4</td>\n",
       "      <td>Another important aspect of software developme...</td>\n",
       "      <td>True</td>\n",
       "      <td>git commit -m 'Initial commit'</td>\n",
       "      <td>git commit -m 'Initial commit'</td>\n",
       "      <td>True</td>\n",
       "      <td>[git commit -m 'Initial commit']</td>\n",
       "    </tr>\n",
       "    <tr>\n",
       "      <th>8</th>\n",
       "      <td>9</td>\n",
       "      <td>In this modern era, software development has i...</td>\n",
       "      <td>True</td>\n",
       "      <td>public class HelloWorld { public static void m...</td>\n",
       "      <td>public class HelloWorld { public static void m...</td>\n",
       "      <td>True</td>\n",
       "      <td>[public class HelloWorld { public static void ...</td>\n",
       "    </tr>\n",
       "    <tr>\n",
       "      <th>10</th>\n",
       "      <td>11</td>\n",
       "      <td>The field of software development is incredibl...</td>\n",
       "      <td>True</td>\n",
       "      <td>#include &lt;iostream&gt; using namespace std; int m...</td>\n",
       "      <td>#include &lt;iostream&gt; using namespace std; int m...</td>\n",
       "      <td>True</td>\n",
       "      <td>[#include &lt;iostream&gt; using namespace std; int ...</td>\n",
       "    </tr>\n",
       "    <tr>\n",
       "      <th>11</th>\n",
       "      <td>12</td>\n",
       "      <td>Software development is a field that is consta...</td>\n",
       "      <td>True</td>\n",
       "      <td>#include &lt;stdio.h&gt;\\nint main()\\n{\\nprintf('Hel...</td>\n",
       "      <td>#include &lt;stdio.h&gt;\\nint main()\\n{\\nprintf('Hel...</td>\n",
       "      <td>True</td>\n",
       "      <td>[#include &lt;stdio.h&gt;, int main(), {, printf('He...</td>\n",
       "    </tr>\n",
       "    <tr>\n",
       "      <th>15</th>\n",
       "      <td>16</td>\n",
       "      <td>Software development involves many different t...</td>\n",
       "      <td>True</td>\n",
       "      <td>function greet(name) {\\n\\talert('Hello, ' + na...</td>\n",
       "      <td>function greet(name) {\\n\\talert('Hello, ' + na...</td>\n",
       "      <td>True</td>\n",
       "      <td>[function greet(name) {, \\talert('Hello, ' + n...</td>\n",
       "    </tr>\n",
       "  </tbody>\n",
       "</table>\n",
       "</div>"
      ],
      "text/plain": [
       "    ID                                               Text ContainsCode  \\\n",
       "3    4  Another important aspect of software developme...         True   \n",
       "8    9  In this modern era, software development has i...         True   \n",
       "10  11  The field of software development is incredibl...         True   \n",
       "11  12  Software development is a field that is consta...         True   \n",
       "15  16  Software development involves many different t...         True   \n",
       "\n",
       "                                             CodeList  \\\n",
       "3                      git commit -m 'Initial commit'   \n",
       "8   public class HelloWorld { public static void m...   \n",
       "10  #include <iostream> using namespace std; int m...   \n",
       "11  #include <stdio.h>\\nint main()\\n{\\nprintf('Hel...   \n",
       "15  function greet(name) {\\n\\talert('Hello, ' + na...   \n",
       "\n",
       "                                            CodeList2 ContainsCode2  \\\n",
       "3                      git commit -m 'Initial commit'          True   \n",
       "8   public class HelloWorld { public static void m...          True   \n",
       "10  #include <iostream> using namespace std; int m...          True   \n",
       "11  #include <stdio.h>\\nint main()\\n{\\nprintf('Hel...          True   \n",
       "15  function greet(name) {\\n\\talert('Hello, ' + na...          True   \n",
       "\n",
       "                                         CodeList_all  \n",
       "3                    [git commit -m 'Initial commit']  \n",
       "8   [public class HelloWorld { public static void ...  \n",
       "10  [#include <iostream> using namespace std; int ...  \n",
       "11  [#include <stdio.h>, int main(), {, printf('He...  \n",
       "15  [function greet(name) {, \\talert('Hello, ' + n...  "
      ]
     },
     "execution_count": 37,
     "metadata": {},
     "output_type": "execute_result"
    }
   ],
   "source": [
    "\n",
    "train['CodeList_all'] = train['CodeList'].apply(clean_codes)\n",
    "train.head()"
   ]
  },
  {
   "cell_type": "code",
   "execution_count": 38,
   "id": "a8ba6c64",
   "metadata": {
    "execution": {
     "iopub.execute_input": "2023-10-14T13:15:09.644180Z",
     "iopub.status.busy": "2023-10-14T13:15:09.643923Z",
     "iopub.status.idle": "2023-10-14T13:15:09.649718Z",
     "shell.execute_reply": "2023-10-14T13:15:09.648868Z"
    },
    "papermill": {
     "duration": 0.028227,
     "end_time": "2023-10-14T13:15:09.651406",
     "exception": false,
     "start_time": "2023-10-14T13:15:09.623179",
     "status": "completed"
    },
    "tags": []
   },
   "outputs": [
    {
     "data": {
      "text/plain": [
       "['Ruby',\n",
       " 'end',\n",
       " \"r'\\\\)\",\n",
       " '/\\\\*',\n",
       " 'try:',\n",
       " 'C\\\\#',\n",
       " '\\\\}',\n",
       " 'Bash',\n",
       " '//',\n",
       " 'C',\n",
       " 'done',\n",
       " '\\\\}\\\\ ',\n",
       " '\\\\ \\\\}',\n",
       " '\\\\*/',\n",
       " '\\\\};',\n",
       " '\\\\{']"
      ]
     },
     "execution_count": 38,
     "metadata": {},
     "output_type": "execute_result"
    }
   ],
   "source": [
    "[x for x in list(set(patterns_list_spacy)) if len(x)<5]"
   ]
  },
  {
   "cell_type": "code",
   "execution_count": 40,
   "id": "f5b0308b",
   "metadata": {
    "execution": {
     "iopub.execute_input": "2023-10-14T13:15:09.730741Z",
     "iopub.status.busy": "2023-10-14T13:15:09.730202Z",
     "iopub.status.idle": "2023-10-14T13:15:09.735842Z",
     "shell.execute_reply": "2023-10-14T13:15:09.734947Z"
    },
    "papermill": {
     "duration": 0.02596,
     "end_time": "2023-10-14T13:15:09.737448",
     "exception": false,
     "start_time": "2023-10-14T13:15:09.711488",
     "status": "completed"
    },
    "tags": []
   },
   "outputs": [
    {
     "data": {
      "text/plain": [
       "678"
      ]
     },
     "execution_count": 40,
     "metadata": {},
     "output_type": "execute_result"
    }
   ],
   "source": [
    "spacy_pattern_list = list(set(patterns_list_spacy))\n",
    "len(spacy_pattern_list)"
   ]
  },
  {
   "cell_type": "markdown",
   "id": "c5e554f6",
   "metadata": {},
   "source": [
    "Creating Lists of Text using escape character \"\\n\" to create more training data"
   ]
  },
  {
   "cell_type": "code",
   "execution_count": 41,
   "id": "02c984a1",
   "metadata": {
    "execution": {
     "iopub.execute_input": "2023-10-14T13:15:09.774668Z",
     "iopub.status.busy": "2023-10-14T13:15:09.774254Z",
     "iopub.status.idle": "2023-10-14T13:15:09.789046Z",
     "shell.execute_reply": "2023-10-14T13:15:09.788135Z"
    },
    "papermill": {
     "duration": 0.035212,
     "end_time": "2023-10-14T13:15:09.790704",
     "exception": false,
     "start_time": "2023-10-14T13:15:09.755492",
     "status": "completed"
    },
    "tags": []
   },
   "outputs": [
    {
     "data": {
      "text/html": [
       "<div>\n",
       "<style scoped>\n",
       "    .dataframe tbody tr th:only-of-type {\n",
       "        vertical-align: middle;\n",
       "    }\n",
       "\n",
       "    .dataframe tbody tr th {\n",
       "        vertical-align: top;\n",
       "    }\n",
       "\n",
       "    .dataframe thead th {\n",
       "        text-align: right;\n",
       "    }\n",
       "</style>\n",
       "<table border=\"1\" class=\"dataframe\">\n",
       "  <thead>\n",
       "    <tr style=\"text-align: right;\">\n",
       "      <th></th>\n",
       "      <th>ID</th>\n",
       "      <th>Text</th>\n",
       "      <th>ContainsCode</th>\n",
       "      <th>CodeList</th>\n",
       "      <th>CodeList2</th>\n",
       "      <th>ContainsCode2</th>\n",
       "      <th>CodeList_all</th>\n",
       "      <th>Text_all</th>\n",
       "    </tr>\n",
       "  </thead>\n",
       "  <tbody>\n",
       "    <tr>\n",
       "      <th>3</th>\n",
       "      <td>4</td>\n",
       "      <td>Another important aspect of software developme...</td>\n",
       "      <td>True</td>\n",
       "      <td>git commit -m 'Initial commit'</td>\n",
       "      <td>git commit -m 'Initial commit'</td>\n",
       "      <td>True</td>\n",
       "      <td>[git commit -m 'Initial commit']</td>\n",
       "      <td>[Another important aspect of software developm...</td>\n",
       "    </tr>\n",
       "    <tr>\n",
       "      <th>8</th>\n",
       "      <td>9</td>\n",
       "      <td>In this modern era, software development has i...</td>\n",
       "      <td>True</td>\n",
       "      <td>public class HelloWorld { public static void m...</td>\n",
       "      <td>public class HelloWorld { public static void m...</td>\n",
       "      <td>True</td>\n",
       "      <td>[public class HelloWorld { public static void ...</td>\n",
       "      <td>[In this modern era, software development has ...</td>\n",
       "    </tr>\n",
       "    <tr>\n",
       "      <th>10</th>\n",
       "      <td>11</td>\n",
       "      <td>The field of software development is incredibl...</td>\n",
       "      <td>True</td>\n",
       "      <td>#include &lt;iostream&gt; using namespace std; int m...</td>\n",
       "      <td>#include &lt;iostream&gt; using namespace std; int m...</td>\n",
       "      <td>True</td>\n",
       "      <td>[#include &lt;iostream&gt; using namespace std; int ...</td>\n",
       "      <td>[The field of software development is incredib...</td>\n",
       "    </tr>\n",
       "    <tr>\n",
       "      <th>11</th>\n",
       "      <td>12</td>\n",
       "      <td>Software development is a field that is consta...</td>\n",
       "      <td>True</td>\n",
       "      <td>#include &lt;stdio.h&gt;\\nint main()\\n{\\nprintf('Hel...</td>\n",
       "      <td>#include &lt;stdio.h&gt;\\nint main()\\n{\\nprintf('Hel...</td>\n",
       "      <td>True</td>\n",
       "      <td>[#include &lt;stdio.h&gt;, int main(), {, printf('He...</td>\n",
       "      <td>[Software development is a field that is const...</td>\n",
       "    </tr>\n",
       "    <tr>\n",
       "      <th>15</th>\n",
       "      <td>16</td>\n",
       "      <td>Software development involves many different t...</td>\n",
       "      <td>True</td>\n",
       "      <td>function greet(name) {\\n\\talert('Hello, ' + na...</td>\n",
       "      <td>function greet(name) {\\n\\talert('Hello, ' + na...</td>\n",
       "      <td>True</td>\n",
       "      <td>[function greet(name) {, \\talert('Hello, ' + n...</td>\n",
       "      <td>[Software development involves many different ...</td>\n",
       "    </tr>\n",
       "  </tbody>\n",
       "</table>\n",
       "</div>"
      ],
      "text/plain": [
       "    ID                                               Text ContainsCode  \\\n",
       "3    4  Another important aspect of software developme...         True   \n",
       "8    9  In this modern era, software development has i...         True   \n",
       "10  11  The field of software development is incredibl...         True   \n",
       "11  12  Software development is a field that is consta...         True   \n",
       "15  16  Software development involves many different t...         True   \n",
       "\n",
       "                                             CodeList  \\\n",
       "3                      git commit -m 'Initial commit'   \n",
       "8   public class HelloWorld { public static void m...   \n",
       "10  #include <iostream> using namespace std; int m...   \n",
       "11  #include <stdio.h>\\nint main()\\n{\\nprintf('Hel...   \n",
       "15  function greet(name) {\\n\\talert('Hello, ' + na...   \n",
       "\n",
       "                                            CodeList2 ContainsCode2  \\\n",
       "3                      git commit -m 'Initial commit'          True   \n",
       "8   public class HelloWorld { public static void m...          True   \n",
       "10  #include <iostream> using namespace std; int m...          True   \n",
       "11  #include <stdio.h>\\nint main()\\n{\\nprintf('Hel...          True   \n",
       "15  function greet(name) {\\n\\talert('Hello, ' + na...          True   \n",
       "\n",
       "                                         CodeList_all  \\\n",
       "3                    [git commit -m 'Initial commit']   \n",
       "8   [public class HelloWorld { public static void ...   \n",
       "10  [#include <iostream> using namespace std; int ...   \n",
       "11  [#include <stdio.h>, int main(), {, printf('He...   \n",
       "15  [function greet(name) {, \\talert('Hello, ' + n...   \n",
       "\n",
       "                                             Text_all  \n",
       "3   [Another important aspect of software developm...  \n",
       "8   [In this modern era, software development has ...  \n",
       "10  [The field of software development is incredib...  \n",
       "11  [Software development is a field that is const...  \n",
       "15  [Software development involves many different ...  "
      ]
     },
     "execution_count": 41,
     "metadata": {},
     "output_type": "execute_result"
    }
   ],
   "source": [
    "train['Text_all']= train['Text'].apply(lambda x: x.split(\"\\n\"))\n",
    "train.head()"
   ]
  },
  {
   "cell_type": "code",
   "execution_count": 42,
   "id": "08d80d57",
   "metadata": {
    "execution": {
     "iopub.execute_input": "2023-10-14T13:15:09.830121Z",
     "iopub.status.busy": "2023-10-14T13:15:09.829236Z",
     "iopub.status.idle": "2023-10-14T13:15:09.842626Z",
     "shell.execute_reply": "2023-10-14T13:15:09.841742Z"
    },
    "papermill": {
     "duration": 0.034497,
     "end_time": "2023-10-14T13:15:09.844311",
     "exception": false,
     "start_time": "2023-10-14T13:15:09.809814",
     "status": "completed"
    },
    "tags": []
   },
   "outputs": [
    {
     "data": {
      "text/plain": [
       "(2173, 8)"
      ]
     },
     "execution_count": 42,
     "metadata": {},
     "output_type": "execute_result"
    }
   ],
   "source": [
    "train= train.explode('Text_all')\n",
    "train.shape"
   ]
  },
  {
   "cell_type": "markdown",
   "id": "324280f8",
   "metadata": {},
   "source": [
    "Creating **TRAIN_DATA** for Spacy NER training"
   ]
  },
  {
   "cell_type": "code",
   "execution_count": 44,
   "id": "48f943c9",
   "metadata": {
    "execution": {
     "iopub.execute_input": "2023-10-14T13:15:09.926769Z",
     "iopub.status.busy": "2023-10-14T13:15:09.925919Z",
     "iopub.status.idle": "2023-10-14T13:15:10.179854Z",
     "shell.execute_reply": "2023-10-14T13:15:10.178905Z"
    },
    "papermill": {
     "duration": 0.275041,
     "end_time": "2023-10-14T13:15:10.181754",
     "exception": false,
     "start_time": "2023-10-14T13:15:09.906713",
     "status": "completed"
    },
    "tags": []
   },
   "outputs": [
    {
     "name": "stderr",
     "output_type": "stream",
     "text": [
      "2173it [00:00, 9348.22it/s]\n"
     ]
    }
   ],
   "source": [
    "# Create Training Data for Brands\n",
    "from tqdm import tqdm\n",
    "count = 0\n",
    "TRAIN_DATA = []\n",
    "\n",
    "for  _, item in tqdm(train.iterrows()):\n",
    "    ent_dict = {}\n",
    "    entities = []\n",
    "    sentence = correct_text2(item['Text_all'])\n",
    "    lst_patt = item['CodeList_all']\n",
    "    tokens = [re.escape(x) for x in lst_patt  if re.escape(x) in spacy_pattern_list]\n",
    "    for token in tokens:\n",
    "        ddd = re.finditer(token, sentence)\n",
    "        for k in ddd:\n",
    "            entity = (k.span()[0], k.span()[1], 'CODE')\n",
    "            entities.append(entity)\n",
    "    \n",
    "    ent_dict['entities'] = entities\n",
    "    train_item = (sentence, ent_dict)\n",
    "    TRAIN_DATA.append(train_item)\n",
    "    count+=1"
   ]
  },
  {
   "cell_type": "code",
   "execution_count": 45,
   "id": "f0cf1ae5",
   "metadata": {
    "execution": {
     "iopub.execute_input": "2023-10-14T13:15:10.221740Z",
     "iopub.status.busy": "2023-10-14T13:15:10.220815Z",
     "iopub.status.idle": "2023-10-14T13:15:10.228807Z",
     "shell.execute_reply": "2023-10-14T13:15:10.227871Z"
    },
    "papermill": {
     "duration": 0.029463,
     "end_time": "2023-10-14T13:15:10.230470",
     "exception": false,
     "start_time": "2023-10-14T13:15:10.201007",
     "status": "completed"
    },
    "tags": []
   },
   "outputs": [
    {
     "data": {
      "text/plain": [
       "[(\"Another important aspect of software development is version control. Version control systems such as Git allow developers to track changes to their code, collaborate with others, and revert to previous versions of their code if necessary. It's an essential tool for any software developer.\",\n",
       "  {'entities': []}),\n",
       " ('One of the most important commands in Git is the commit command:',\n",
       "  {'entities': []}),\n",
       " (\"git commit -m 'Initial commit'\", {'entities': [(0, 30, 'CODE')]}),\n",
       " (\"This command will create a new commit with the message 'Initial commit', representing a snapshot of the code at that point in time.\",\n",
       "  {'entities': []}),\n",
       " ('In this modern era, software development has indeed become an essential skill. As more and more businesses are moving towards digitalization, the demand for skilled software developers is skyrocketing. However, software development is no easy task. It requires a deep understanding of programming languages, algorithms, data structures, and much more.',\n",
       "  {'entities': []}),\n",
       " ('', {'entities': []}),\n",
       " (\"When it comes to choosing a programming language, Java is often a preferred choice. Its 'Write Once, Run Anywhere' principle allows developers to run their code on any device that supports Java, without any modifications. Here's a simple Java code snippet that prints 'Hello, World!' to the console. public class HelloWorld { public static void main(String[] args) { System.out.println('Hello, World!'); } }\",\n",
       "  {'entities': [(300, 407, 'CODE')]}),\n",
       " (\"The field of software development is incredibly diverse, with a variety of languages, frameworks, and tools to choose from. Each language has its own strengths and weaknesses, and the best choice often depends on the specific task at hand. A language that's well-suited for web development might not be the best choice for data analysis or game development, for example. \",\n",
       "  {'entities': []}),\n",
       " ('', {'entities': []}),\n",
       " (\"Take C++, for instance. It's a powerful language that offers a high level of control over system resources, but its complexity can make it difficult to use effectively for certain tasks. Here's a simple C++ code snippet that prints 'Hello, World!' to the console. #include <iostream> using namespace std; int main() { cout << 'Hello, World!' << endl; return 0; }\",\n",
       "  {'entities': [(264, 362, 'CODE')]}),\n",
       " (\"Software development is a field that is constantly evolving. As a developer, you need to keep up with the latest technologies and trends. Understanding the basics of programming is essential. For example, let's consider a simple Hello World program in C. \",\n",
       "  {'entities': []}),\n",
       " ('#include <stdio.h>', {'entities': [(0, 18, 'CODE')]}),\n",
       " ('int main()', {'entities': [(0, 10, 'CODE')]}),\n",
       " ('{', {'entities': [(0, 1, 'CODE')]}),\n",
       " (\"printf('Hello, World!');\", {'entities': [(0, 24, 'CODE')]}),\n",
       " ('return 0;', {'entities': [(0, 9, 'CODE')]}),\n",
       " ('}', {'entities': [(0, 1, 'CODE')]}),\n",
       " (\"This is a simple program that prints 'Hello, World!' to the console. It's a great starting point for beginners.\",\n",
       "  {'entities': []}),\n",
       " (\"Software development involves many different types of tasks, but one of the most common is writing code. It's a critical skill for any developer. For example, one might use JavaScript to make a webpage interactive. Here's a simple example:\",\n",
       "  {'entities': []}),\n",
       " ('function greet(name) {', {'entities': [(0, 22, 'CODE')]}),\n",
       " (\"\\\\talert('Hello, ' + name);\", {'entities': [(0, 26, 'CODE')]}),\n",
       " ('}', {'entities': [(0, 1, 'CODE')]}),\n",
       " (\"This function will display a greeting message when it's called.\",\n",
       "  {'entities': []}),\n",
       " ('The software development life cycle (SDLC) is a sequence of stages that a software product undergoes from its initial conception to its deployment. It includes stages like requirements gathering, design, coding, testing, and maintenance. ',\n",
       "  {'entities': []}),\n",
       " ('', {'entities': []}),\n",
       " (\"For example, in the coding stage, developers might use a variety of programming languages. If they're developing a web application, they might use JavaScript. For instance, they might write a function like this: function greet(name) { return 'Hello, ' + name; } \",\n",
       "  {'entities': [(212, 261, 'CODE')]}),\n",
       " ('', {'entities': []}),\n",
       " ('Then, during the testing stage, they would verify that this function works correctly.',\n",
       "  {'entities': []}),\n",
       " (\"In software development, version control is an essential practice. It's a system that records changes to a file or set of files over time so that you can recall specific versions later. Developers use version control systems like Git, Mercurial, and Subversion. \",\n",
       "  {'entities': []}),\n",
       " ('', {'entities': []})]"
      ]
     },
     "execution_count": 45,
     "metadata": {},
     "output_type": "execute_result"
    }
   ],
   "source": [
    "TRAIN_DATA[:30]"
   ]
  },
  {
   "cell_type": "code",
   "execution_count": 46,
   "id": "a6d46732",
   "metadata": {
    "execution": {
     "iopub.execute_input": "2023-10-14T13:15:10.269858Z",
     "iopub.status.busy": "2023-10-14T13:15:10.269178Z",
     "iopub.status.idle": "2023-10-14T13:15:10.276019Z",
     "shell.execute_reply": "2023-10-14T13:15:10.275151Z"
    },
    "papermill": {
     "duration": 0.028438,
     "end_time": "2023-10-14T13:15:10.277717",
     "exception": false,
     "start_time": "2023-10-14T13:15:10.249279",
     "status": "completed"
    },
    "tags": []
   },
   "outputs": [
    {
     "data": {
      "text/plain": [
       "0.6129774505292223"
      ]
     },
     "execution_count": 46,
     "metadata": {},
     "output_type": "execute_result"
    }
   ],
   "source": [
    "cn = 0\n",
    "for z in TRAIN_DATA:\n",
    "#     print(z[1])\n",
    "#     break\n",
    "    if z[1]['entities']==[]:\n",
    "        cn+=1\n",
    "cn/len(TRAIN_DATA)"
   ]
  },
  {
   "cell_type": "markdown",
   "id": "9696215c",
   "metadata": {},
   "source": [
    "Reducing blank entities to reduce the overhead"
   ]
  },
  {
   "cell_type": "code",
   "execution_count": 47,
   "id": "0b26c9cd",
   "metadata": {
    "execution": {
     "iopub.execute_input": "2023-10-14T13:15:10.319369Z",
     "iopub.status.busy": "2023-10-14T13:15:10.317046Z",
     "iopub.status.idle": "2023-10-14T13:15:10.332786Z",
     "shell.execute_reply": "2023-10-14T13:15:10.331885Z"
    },
    "papermill": {
     "duration": 0.0376,
     "end_time": "2023-10-14T13:15:10.334497",
     "exception": false,
     "start_time": "2023-10-14T13:15:10.296897",
     "status": "completed"
    },
    "tags": []
   },
   "outputs": [
    {
     "data": {
      "text/plain": [
       "0.2554072710538426"
      ]
     },
     "execution_count": 47,
     "metadata": {},
     "output_type": "execute_result"
    }
   ],
   "source": [
    "cn = 0\n",
    "TRAIN_DATA2 = []\n",
    "for z in TRAIN_DATA:\n",
    "    if z[1]['entities']==[] and z[0]=='':\n",
    "        cn+=1\n",
    "    else:\n",
    "        TRAIN_DATA2.append(z)\n",
    "cn/len(TRAIN_DATA)"
   ]
  },
  {
   "cell_type": "code",
   "execution_count": 48,
   "id": "23a21f0b",
   "metadata": {
    "execution": {
     "iopub.execute_input": "2023-10-14T13:15:10.374907Z",
     "iopub.status.busy": "2023-10-14T13:15:10.374294Z",
     "iopub.status.idle": "2023-10-14T13:15:10.381466Z",
     "shell.execute_reply": "2023-10-14T13:15:10.380552Z"
    },
    "papermill": {
     "duration": 0.02923,
     "end_time": "2023-10-14T13:15:10.383192",
     "exception": false,
     "start_time": "2023-10-14T13:15:10.353962",
     "status": "completed"
    },
    "tags": []
   },
   "outputs": [
    {
     "data": {
      "text/plain": [
       "0.48022249690976515"
      ]
     },
     "execution_count": 48,
     "metadata": {},
     "output_type": "execute_result"
    }
   ],
   "source": [
    "cn = 0\n",
    "for z in TRAIN_DATA2:\n",
    "#     print(z[1])\n",
    "#     break\n",
    "    if z[1]['entities']==[]:\n",
    "        cn+=1\n",
    "cn/len(TRAIN_DATA2)"
   ]
  },
  {
   "cell_type": "markdown",
   "id": "2737ce1c",
   "metadata": {},
   "source": [
    "##### SPacy training start"
   ]
  },
  {
   "cell_type": "code",
   "execution_count": 49,
   "id": "b8fbd70b",
   "metadata": {
    "execution": {
     "iopub.execute_input": "2023-10-14T13:15:10.423881Z",
     "iopub.status.busy": "2023-10-14T13:15:10.423538Z",
     "iopub.status.idle": "2023-10-14T13:15:24.404763Z",
     "shell.execute_reply": "2023-10-14T13:15:24.403844Z"
    },
    "papermill": {
     "duration": 14.00429,
     "end_time": "2023-10-14T13:15:24.406855",
     "exception": false,
     "start_time": "2023-10-14T13:15:10.402565",
     "status": "completed"
    },
    "tags": []
   },
   "outputs": [],
   "source": [
    "import spacy\n",
    "from spacy.pipeline import EntityRuler\n",
    "# nlp = spacy.load('en_core_web_trf')\n",
    "import pandas as pd\n",
    "from tqdm import tqdm\n",
    "import spacy\n",
    "from spacy.tokens import DocBin"
   ]
  },
  {
   "cell_type": "code",
   "execution_count": 50,
   "id": "612d91df",
   "metadata": {
    "execution": {
     "iopub.execute_input": "2023-10-14T13:15:24.447952Z",
     "iopub.status.busy": "2023-10-14T13:15:24.447418Z",
     "iopub.status.idle": "2023-10-14T13:15:25.458640Z",
     "shell.execute_reply": "2023-10-14T13:15:25.457718Z"
    },
    "papermill": {
     "duration": 1.033846,
     "end_time": "2023-10-14T13:15:25.460599",
     "exception": false,
     "start_time": "2023-10-14T13:15:24.426753",
     "status": "completed"
    },
    "tags": []
   },
   "outputs": [],
   "source": [
    "from spacy.util import filter_spans\n",
    "\n",
    "\n",
    "import re\n",
    "\n",
    "nlp = spacy.blank(\"en\") # load a new spacy model\n",
    "db = DocBin() # create a DocBin object\n",
    "\n",
    "def trim_entity_spans(start, end,label,text):\n",
    "    invalid_span_tokens = re.compile(r'\\s')\n",
    "    valid_start = start\n",
    "    valid_end = end\n",
    "    valid_entities = []\n",
    "    while valid_start < len(text) and invalid_span_tokens.match(\n",
    "            text[valid_start]):\n",
    "        valid_start += 1\n",
    "    while valid_end > 1 and invalid_span_tokens.match(\n",
    "            text[valid_end - 1]):\n",
    "        valid_end -= 1\n",
    "    \n",
    "    return valid_start,valid_end,label"
   ]
  },
  {
   "cell_type": "code",
   "execution_count": 52,
   "id": "1b8f002d",
   "metadata": {
    "execution": {
     "iopub.execute_input": "2023-10-14T13:15:25.596416Z",
     "iopub.status.busy": "2023-10-14T13:15:25.596122Z",
     "iopub.status.idle": "2023-10-14T13:15:26.214198Z",
     "shell.execute_reply": "2023-10-14T13:15:26.213289Z"
    },
    "papermill": {
     "duration": 0.640191,
     "end_time": "2023-10-14T13:15:26.216360",
     "exception": false,
     "start_time": "2023-10-14T13:15:25.576169",
     "status": "completed"
    },
    "tags": []
   },
   "outputs": [
    {
     "name": "stderr",
     "output_type": "stream",
     "text": [
      "100%|██████████| 1618/1618 [00:00<00:00, 3060.86it/s]\n"
     ]
    }
   ],
   "source": [
    "\n",
    "for text, annot in tqdm(TRAIN_DATA2): # data in previous format\n",
    "    doc = nlp.make_doc(text) # create doc object from text\n",
    "    ents = []\n",
    "    for start, end, label in annot[\"entities\"]: # add character indexes\n",
    "        \n",
    "        start, end, label = trim_entity_spans(start, end, label,text)\n",
    "            \n",
    "        span = doc.char_span(start, end, label=label)\n",
    "        if span is None:\n",
    "            continue\n",
    "        else:\n",
    "            ents.append(span)\n",
    "    filtered = filter_spans(ents) # THIS DOES THE TRICK\n",
    "    doc.ents = filtered # label the text with the ents\n",
    "    db.add(doc)\n",
    "\n",
    "db.to_disk(\"/kaggle/working/train.spacy\") # save the docbin object"
   ]
  },
  {
   "cell_type": "markdown",
   "id": "cbd1e610",
   "metadata": {},
   "source": [
    "Go to [Spacy Start](https://spacy.io/usage/training) to get the initial Config file using \"GPU\" transformers"
   ]
  },
  {
   "cell_type": "code",
   "execution_count": 53,
   "id": "a66f8884",
   "metadata": {
    "execution": {
     "iopub.execute_input": "2023-10-14T13:15:26.257422Z",
     "iopub.status.busy": "2023-10-14T13:15:26.256835Z",
     "iopub.status.idle": "2023-10-14T13:15:26.261385Z",
     "shell.execute_reply": "2023-10-14T13:15:26.260556Z"
    },
    "papermill": {
     "duration": 0.026686,
     "end_time": "2023-10-14T13:15:26.263110",
     "exception": false,
     "start_time": "2023-10-14T13:15:26.236424",
     "status": "completed"
    },
    "tags": []
   },
   "outputs": [],
   "source": [
    "# !python -m spacy init config '/kaggle/working/config/base_config.cfg' --lang en --pipeline ner,transformer --force"
   ]
  },
  {
   "cell_type": "markdown",
   "id": "3f667867",
   "metadata": {},
   "source": [
    "fill config"
   ]
  },
  {
   "cell_type": "code",
   "execution_count": 54,
   "id": "01b5007a",
   "metadata": {
    "execution": {
     "iopub.execute_input": "2023-10-14T13:15:26.303424Z",
     "iopub.status.busy": "2023-10-14T13:15:26.302888Z",
     "iopub.status.idle": "2023-10-14T13:15:36.199456Z",
     "shell.execute_reply": "2023-10-14T13:15:36.198351Z"
    },
    "papermill": {
     "duration": 9.919335,
     "end_time": "2023-10-14T13:15:36.201670",
     "exception": false,
     "start_time": "2023-10-14T13:15:26.282335",
     "status": "completed"
    },
    "tags": []
   },
   "outputs": [
    {
     "name": "stdout",
     "output_type": "stream",
     "text": [
      "/opt/conda/lib/python3.10/site-packages/scipy/__init__.py:146: UserWarning: A NumPy version >=1.16.5 and <1.23.0 is required for this version of SciPy (detected version 1.23.5\r\n",
      "  warnings.warn(f\"A NumPy version >={np_minversion} and <{np_maxversion}\"\r\n",
      "\u001b[38;5;2m✔ Auto-filled config with all values\u001b[0m\r\n",
      "\u001b[38;5;2m✔ Saved config\u001b[0m\r\n",
      "/kaggle/working/config.cfg\r\n",
      "You can now add your data and train your pipeline:\r\n",
      "python -m spacy train config.cfg --paths.train ./train.spacy --paths.dev ./dev.spacy\r\n"
     ]
    }
   ],
   "source": [
    "!python -m spacy init fill-config '/kaggle/input/gpu-base-config-spacy/gp_conf_codebert.cfg' '/kaggle/working/config.cfg'"
   ]
  },
  {
   "cell_type": "markdown",
   "id": "a8b72da2",
   "metadata": {},
   "source": [
    "Debug the corpus"
   ]
  },
  {
   "cell_type": "code",
   "execution_count": 55,
   "id": "82ed77c6",
   "metadata": {
    "execution": {
     "iopub.execute_input": "2023-10-14T13:15:36.242495Z",
     "iopub.status.busy": "2023-10-14T13:15:36.242190Z",
     "iopub.status.idle": "2023-10-14T13:15:55.757847Z",
     "shell.execute_reply": "2023-10-14T13:15:55.756713Z"
    },
    "papermill": {
     "duration": 19.538302,
     "end_time": "2023-10-14T13:15:55.760027",
     "exception": false,
     "start_time": "2023-10-14T13:15:36.221725",
     "status": "completed"
    },
    "tags": []
   },
   "outputs": [
    {
     "name": "stdout",
     "output_type": "stream",
     "text": [
      "/opt/conda/lib/python3.10/site-packages/scipy/__init__.py:146: UserWarning: A NumPy version >=1.16.5 and <1.23.0 is required for this version of SciPy (detected version 1.23.5\r\n",
      "  warnings.warn(f\"A NumPy version >={np_minversion} and <{np_maxversion}\"\r\n",
      "\u001b[1m\r\n",
      "============================ Data file validation ============================\u001b[0m\r\n",
      "[2023-10-14 13:15:43,459] [INFO] Created vocabulary\r\n",
      "[2023-10-14 13:15:43,459] [INFO] Finished initializing nlp object\r\n",
      "Downloading (…)okenizer_config.json: 100%|████| 25.0/25.0 [00:00<00:00, 151kB/s]\r\n",
      "Downloading (…)lve/main/config.json: 100%|█████| 498/498 [00:00<00:00, 3.39MB/s]\r\n",
      "Downloading (…)olve/main/vocab.json: 100%|███| 899k/899k [00:00<00:00, 4.86MB/s]\r\n",
      "Downloading (…)olve/main/merges.txt: 100%|███| 456k/456k [00:00<00:00, 2.48MB/s]\r\n",
      "Downloading (…)cial_tokens_map.json: 100%|██████| 150/150 [00:00<00:00, 726kB/s]\r\n",
      "Downloading pytorch_model.bin: 100%|██████████| 499M/499M [00:01<00:00, 270MB/s]\r\n",
      "\u001b[38;5;2m✔ Pipeline can be initialized with data\u001b[0m\r\n",
      "\u001b[38;5;2m✔ Corpus is loadable\u001b[0m\r\n",
      "\u001b[1m\r\n",
      "=============================== Training stats ===============================\u001b[0m\r\n",
      "Language: en\r\n",
      "Training pipeline: transformer, ner\r\n",
      "1618 training docs\r\n",
      "1618 evaluation docs\r\n",
      "\u001b[38;5;3m⚠ 1459 training examples also in evaluation data\u001b[0m\r\n",
      "\u001b[38;5;3m⚠ Low number of examples to train a new pipeline (1618)\u001b[0m\r\n",
      "\u001b[1m\r\n",
      "============================== Vocab & Vectors ==============================\u001b[0m\r\n",
      "\u001b[38;5;4mℹ 56739 total word(s) in the data (3469 unique)\u001b[0m\r\n",
      "\u001b[38;5;4mℹ No word vectors present in the package\u001b[0m\r\n",
      "\u001b[1m\r\n",
      "========================== Named Entity Recognition ==========================\u001b[0m\r\n",
      "\u001b[38;5;4mℹ 1 label(s)\u001b[0m\r\n",
      "0 missing value(s) (tokens with '-' label)\r\n",
      "\u001b[38;5;2m✔ Good amount of examples for all labels\u001b[0m\r\n",
      "\u001b[38;5;2m✔ Examples without occurrences available for all labels\u001b[0m\r\n",
      "\u001b[38;5;2m✔ No entities consisting of or starting/ending with whitespace\u001b[0m\r\n",
      "\u001b[38;5;2m✔ No entities crossing sentence boundaries\u001b[0m\r\n",
      "\u001b[1m\r\n",
      "================================== Summary ==================================\u001b[0m\r\n",
      "\u001b[38;5;2m✔ 6 checks passed\u001b[0m\r\n",
      "\u001b[38;5;3m⚠ 2 warnings\u001b[0m\r\n"
     ]
    }
   ],
   "source": [
    "!spacy debug data '/kaggle/working/config.cfg' --paths.train '/kaggle/working/train.spacy' --paths.dev '/kaggle/working/train.spacy'"
   ]
  },
  {
   "cell_type": "markdown",
   "id": "9cccc4fb",
   "metadata": {},
   "source": [
    "Start Training"
   ]
  },
  {
   "cell_type": "code",
   "execution_count": 56,
   "id": "a257ea55",
   "metadata": {
    "execution": {
     "iopub.execute_input": "2023-10-14T13:15:55.804906Z",
     "iopub.status.busy": "2023-10-14T13:15:55.804550Z",
     "iopub.status.idle": "2023-10-14T13:47:34.878259Z",
     "shell.execute_reply": "2023-10-14T13:47:34.876838Z"
    },
    "papermill": {
     "duration": 1899.098902,
     "end_time": "2023-10-14T13:47:34.880651",
     "exception": false,
     "start_time": "2023-10-14T13:15:55.781749",
     "status": "completed"
    },
    "tags": []
   },
   "outputs": [
    {
     "name": "stdout",
     "output_type": "stream",
     "text": [
      "/opt/conda/lib/python3.10/site-packages/scipy/__init__.py:146: UserWarning: A NumPy version >=1.16.5 and <1.23.0 is required for this version of SciPy (detected version 1.23.5\r\n",
      "  warnings.warn(f\"A NumPy version >={np_minversion} and <{np_maxversion}\"\r\n",
      "\u001b[38;5;2m✔ Created output directory: /kaggle/working/output\u001b[0m\r\n",
      "\u001b[38;5;4mℹ Saving to output directory: /kaggle/working/output\u001b[0m\r\n",
      "\u001b[38;5;4mℹ Using GPU: 0\u001b[0m\r\n",
      "\u001b[1m\r\n",
      "=========================== Initializing pipeline ===========================\u001b[0m\r\n",
      "[2023-10-14 13:16:09,025] [INFO] Set up nlp object from config\r\n",
      "[2023-10-14 13:16:09,046] [INFO] Pipeline: ['transformer', 'ner']\r\n",
      "[2023-10-14 13:16:09,050] [INFO] Created vocabulary\r\n",
      "[2023-10-14 13:16:09,050] [INFO] Finished initializing nlp object\r\n",
      "[2023-10-14 13:16:31,887] [INFO] Initialized pipeline components: ['transformer', 'ner']\r\n",
      "\u001b[38;5;2m✔ Initialized pipeline\u001b[0m\r\n",
      "\u001b[1m\r\n",
      "============================= Training pipeline =============================\u001b[0m\r\n",
      "\u001b[38;5;4mℹ Pipeline: ['transformer', 'ner']\u001b[0m\r\n",
      "\u001b[38;5;4mℹ Initial learn rate: 0.0\u001b[0m\r\n",
      "E    #       LOSS TRANS...  LOSS NER  ENTS_F  ENTS_P  ENTS_R  SCORE \r\n",
      "---  ------  -------------  --------  ------  ------  ------  ------\r\n",
      "  0       0        1318.84   1893.58    0.81    0.42   11.10    0.01\r\n",
      "  5     200       50557.24  68416.88   83.72   79.85   87.98    0.84\r\n",
      " 10     400        1585.90   2895.87   92.83   90.01   95.84    0.93\r\n",
      " 15     600         949.01   2231.06   93.15   92.00   94.34    0.93\r\n",
      " 19     800         664.15   1839.46   96.27   94.24   98.38    0.96\r\n",
      " 24    1000         544.21   1746.25   95.56   94.06   97.11    0.96\r\n",
      " 29    1200         478.03   1543.55   95.48   94.46   96.53    0.95\r\n",
      " 34    1400         457.77   1548.95   92.97   90.48   95.61    0.93\r\n",
      " 39    1600         503.23   1572.93   93.07   92.18   93.99    0.93\r\n",
      " 44    1800         475.96   1497.19   96.66   94.68   98.73    0.97\r\n",
      " 49    2000        1048.65   1454.83   96.55   94.47   98.73    0.97\r\n",
      " 54    2200         458.28   1476.32   96.29   93.76   98.96    0.96\r\n",
      " 59    2400         402.41   1390.15   93.01   92.17   93.87    0.93\r\n",
      " 64    2600         443.86   1414.01   96.40   95.26   97.57    0.96\r\n",
      " 69    2800         420.85   1250.96   96.62   94.28   99.08    0.97\r\n",
      " 74    3000         554.91   1422.21   96.52   95.17   97.92    0.97\r\n",
      " 79    3200         443.47   1335.73   96.56   94.27   98.96    0.97\r\n",
      " 84    3400         446.14   1308.88   96.45   95.57   97.34    0.96\r\n",
      "\u001b[38;5;2m✔ Saved pipeline to output directory\u001b[0m\r\n",
      "/kaggle/working/output/model-last\r\n"
     ]
    }
   ],
   "source": [
    "!python -m spacy train '/kaggle/working/config.cfg' --output '/kaggle/working/output' --paths.train '/kaggle/working/train.spacy' --paths.dev '/kaggle/working/train.spacy' --training.max_epochs 200 --gpu-id 0  --training.seed 1994\n",
    "# --gpu-id 0 \n"
   ]
  },
  {
   "cell_type": "markdown",
   "id": "5ebec973",
   "metadata": {},
   "source": [
    "Loading Best model"
   ]
  },
  {
   "cell_type": "code",
   "execution_count": 57,
   "id": "0d8a4828",
   "metadata": {
    "execution": {
     "iopub.execute_input": "2023-10-14T13:47:34.932564Z",
     "iopub.status.busy": "2023-10-14T13:47:34.932199Z",
     "iopub.status.idle": "2023-10-14T13:47:40.312159Z",
     "shell.execute_reply": "2023-10-14T13:47:40.311234Z"
    },
    "papermill": {
     "duration": 5.410005,
     "end_time": "2023-10-14T13:47:40.314197",
     "exception": false,
     "start_time": "2023-10-14T13:47:34.904192",
     "status": "completed"
    },
    "tags": []
   },
   "outputs": [],
   "source": [
    "nlp1 = spacy.load(\"/kaggle/working/output/model-best\") #load the best model"
   ]
  },
  {
   "cell_type": "code",
   "execution_count": 58,
   "id": "fdd84035",
   "metadata": {
    "execution": {
     "iopub.execute_input": "2023-10-14T13:47:40.361407Z",
     "iopub.status.busy": "2023-10-14T13:47:40.361113Z",
     "iopub.status.idle": "2023-10-14T13:47:40.366989Z",
     "shell.execute_reply": "2023-10-14T13:47:40.366036Z"
    },
    "papermill": {
     "duration": 0.031066,
     "end_time": "2023-10-14T13:47:40.368760",
     "exception": false,
     "start_time": "2023-10-14T13:47:40.337694",
     "status": "completed"
    },
    "tags": []
   },
   "outputs": [
    {
     "data": {
      "text/plain": [
       "(2173, 8)"
      ]
     },
     "execution_count": 58,
     "metadata": {},
     "output_type": "execute_result"
    }
   ],
   "source": [
    "train.shape"
   ]
  },
  {
   "cell_type": "markdown",
   "id": "d52598c3",
   "metadata": {},
   "source": [
    "Lets look at some random predictions"
   ]
  },
  {
   "cell_type": "code",
   "execution_count": 59,
   "id": "b7c2619d",
   "metadata": {
    "execution": {
     "iopub.execute_input": "2023-10-14T13:47:40.413927Z",
     "iopub.status.busy": "2023-10-14T13:47:40.413185Z",
     "iopub.status.idle": "2023-10-14T13:47:40.418483Z",
     "shell.execute_reply": "2023-10-14T13:47:40.417534Z"
    },
    "papermill": {
     "duration": 0.029551,
     "end_time": "2023-10-14T13:47:40.420198",
     "exception": false,
     "start_time": "2023-10-14T13:47:40.390647",
     "status": "completed"
    },
    "tags": []
   },
   "outputs": [
    {
     "name": "stdout",
     "output_type": "stream",
     "text": [
      "1399\n"
     ]
    }
   ],
   "source": [
    "\n",
    "i=random.randint(0,train.shape[0])\n",
    "print(i)"
   ]
  },
  {
   "cell_type": "code",
   "execution_count": 60,
   "id": "78f6c513",
   "metadata": {
    "execution": {
     "iopub.execute_input": "2023-10-14T13:47:40.464954Z",
     "iopub.status.busy": "2023-10-14T13:47:40.464300Z",
     "iopub.status.idle": "2023-10-14T13:47:40.889666Z",
     "shell.execute_reply": "2023-10-14T13:47:40.888726Z"
    },
    "papermill": {
     "duration": 0.449917,
     "end_time": "2023-10-14T13:47:40.891530",
     "exception": false,
     "start_time": "2023-10-14T13:47:40.441613",
     "status": "completed"
    },
    "tags": []
   },
   "outputs": [
    {
     "name": "stdout",
     "output_type": "stream",
     "text": [
      "label###### [\"print('Hello, World!')\"]\n",
      "REGEX PRED###### print('Hello, World!')\n"
     ]
    },
    {
     "data": {
      "text/html": [
       "<span class=\"tex2jax_ignore\"><div class=\"entities\" style=\"line-height: 2.5; direction: ltr\">Software development is a fascinating field. It constantly evolves and changes, introducing new languages, frameworks, and methodologies. For instance, Agile development methodologies have revolutionized how software development is conducted, making it more flexible and iterative.\\nBut it's not just about methodologies. Programming languages also play a crucial role. For instance, Python, with its simple syntax and extensive libraries, is popular among data science and machine learning practitioners.\\nA simple Python code for printing 'Hello, World!' can be written \n",
       "<mark class=\"entity\" style=\"background: #ddd; padding: 0.45em 0.6em; margin: 0 0.25em; line-height: 1; border-radius: 0.35em;\">\n",
       "    as:\\nprint('Hello, World!')\\nThis line\n",
       "    <span style=\"font-size: 0.8em; font-weight: bold; line-height: 1; border-radius: 0.35em; vertical-align: middle; margin-left: 0.5rem\">CODE</span>\n",
       "</mark>\n",
       " of code, while it might seem simple, is a powerful tool. It can be the first step into the world of Python.</div></span>"
      ],
      "text/plain": [
       "<IPython.core.display.HTML object>"
      ]
     },
     "metadata": {},
     "output_type": "display_data"
    },
    {
     "data": {
      "text/plain": [
       "<IPython.core.display.HTML object>"
      ]
     },
     "execution_count": 60,
     "metadata": {},
     "output_type": "execute_result"
    }
   ],
   "source": [
    "\n",
    "txt = train['Text'].values[i]\n",
    "txt = correct_text2(txt)\n",
    "print(\"label######\",train['CodeList_all'].values[i])\n",
    "print(\"REGEX PRED######\",train['CodeList2'].values[i])\n",
    "doc = nlp1(txt) # input sample text\n",
    "# for ent in doc.ents:\n",
    "#     print(ent.text, ent.start_char, ent.end_char, ent.label_)\n",
    "import IPython\n",
    "from spacy import displacy\n",
    "IPython.display.HTML(displacy.render(doc, style=\"ent\", jupyter=True))"
   ]
  },
  {
   "cell_type": "markdown",
   "id": "2a671f17",
   "metadata": {},
   "source": [
    "Lets look at some in Test "
   ]
  },
  {
   "cell_type": "code",
   "execution_count": 61,
   "id": "165ecb9f",
   "metadata": {
    "execution": {
     "iopub.execute_input": "2023-10-14T13:47:40.938738Z",
     "iopub.status.busy": "2023-10-14T13:47:40.937903Z",
     "iopub.status.idle": "2023-10-14T13:47:41.158633Z",
     "shell.execute_reply": "2023-10-14T13:47:41.157595Z"
    },
    "papermill": {
     "duration": 0.24598,
     "end_time": "2023-10-14T13:47:41.160413",
     "exception": false,
     "start_time": "2023-10-14T13:47:40.914433",
     "status": "completed"
    },
    "tags": []
   },
   "outputs": [
    {
     "name": "stdout",
     "output_type": "stream",
     "text": [
      "75\n",
      "REGEX PRED###### #include <iostream>\\nint main() {cout << 'Hello, World!'; return 0;}\n"
     ]
    },
    {
     "data": {
      "text/html": [
       "<span class=\"tex2jax_ignore\"><div class=\"entities\" style=\"line-height: 2.5; direction: ltr\">One important aspect of software development is debugging. This involves identifying and removing errors from the code. It's a crucial step in the development process and requires a keen eye for detail. A common debugging tool in C++ is the debugger in the Visual Studio. For example, a simple C++ code to print 'Hello, World!' would be \n",
       "<mark class=\"entity\" style=\"background: #ddd; padding: 0.45em 0.6em; margin: 0 0.25em; line-height: 1; border-radius: 0.35em;\">\n",
       "    #include &lt;iostream&gt; using namespace std; int main() {cout &lt;&lt; 'Hello, World!'; return 0;}\n",
       "    <span style=\"font-size: 0.8em; font-weight: bold; line-height: 1; border-radius: 0.35em; vertical-align: middle; margin-left: 0.5rem\">CODE</span>\n",
       "</mark>\n",
       "</div></span>"
      ],
      "text/plain": [
       "<IPython.core.display.HTML object>"
      ]
     },
     "metadata": {},
     "output_type": "display_data"
    },
    {
     "data": {
      "text/plain": [
       "<IPython.core.display.HTML object>"
      ]
     },
     "execution_count": 61,
     "metadata": {},
     "output_type": "execute_result"
    }
   ],
   "source": [
    "test = df[df['ContainsCode']==''].copy()\n",
    "i=random.randint(0,test.shape[0])\n",
    "print(i)\n",
    "txt = test['Text'].values[i]\n",
    "print(\"REGEX PRED######\",test['CodeList2'].values[i])\n",
    "txt = correct_text2(txt)\n",
    "# print(\"label######\",train['CodeList_all'].values[i])\n",
    "doc = nlp1(txt) # input sample text\n",
    "# for ent in doc.ents:\n",
    "#     print(ent.text, ent.start_char, ent.end_char, ent.label_)\n",
    "import IPython\n",
    "from spacy import displacy\n",
    "IPython.display.HTML(displacy.render(doc, style=\"ent\", jupyter=True))"
   ]
  },
  {
   "cell_type": "code",
   "execution_count": 63,
   "id": "f245afbf",
   "metadata": {
    "execution": {
     "iopub.execute_input": "2023-10-14T13:47:41.275644Z",
     "iopub.status.busy": "2023-10-14T13:47:41.274803Z",
     "iopub.status.idle": "2023-10-14T13:47:41.382227Z",
     "shell.execute_reply": "2023-10-14T13:47:41.381324Z"
    },
    "papermill": {
     "duration": 0.135019,
     "end_time": "2023-10-14T13:47:41.384192",
     "exception": false,
     "start_time": "2023-10-14T13:47:41.249173",
     "status": "completed"
    },
    "tags": []
   },
   "outputs": [],
   "source": [
    "train_2 = train.groupby(['ID']).agg({'Text_all':lambda x: \"\\n\".join(x),\n",
    "                           'Text':lambda x: x.unique()[0],\n",
    "                           'ContainsCode':lambda x: x.unique()[0],\n",
    "                           'CodeList2':lambda x: x.unique()[0],\n",
    "                           'ContainsCode2':lambda x: x.unique()[0]\n",
    "                          }).reset_index()"
   ]
  },
  {
   "cell_type": "code",
   "execution_count": 64,
   "id": "968643d8",
   "metadata": {
    "execution": {
     "iopub.execute_input": "2023-10-14T13:47:41.431663Z",
     "iopub.status.busy": "2023-10-14T13:47:41.430790Z",
     "iopub.status.idle": "2023-10-14T13:47:41.435877Z",
     "shell.execute_reply": "2023-10-14T13:47:41.435094Z"
    },
    "papermill": {
     "duration": 0.030152,
     "end_time": "2023-10-14T13:47:41.437495",
     "exception": false,
     "start_time": "2023-10-14T13:47:41.407343",
     "status": "completed"
    },
    "tags": []
   },
   "outputs": [],
   "source": [
    "def get_predictions(txt):\n",
    "    txt = correct_text2(txt)\n",
    "    doc = nlp1(txt) # input sample text\n",
    "    v = []\n",
    "    for ent in doc.ents:\n",
    "        v.append(ent.text)\n",
    "        \n",
    "    return \"', '\".join(list(set(v)))"
   ]
  },
  {
   "cell_type": "code",
   "execution_count": 67,
   "id": "357f8758",
   "metadata": {
    "execution": {
     "iopub.execute_input": "2023-10-14T13:47:41.585985Z",
     "iopub.status.busy": "2023-10-14T13:47:41.585622Z",
     "iopub.status.idle": "2023-10-14T13:50:14.120051Z",
     "shell.execute_reply": "2023-10-14T13:50:14.118962Z"
    },
    "papermill": {
     "duration": 152.559881,
     "end_time": "2023-10-14T13:50:14.122371",
     "exception": false,
     "start_time": "2023-10-14T13:47:41.562490",
     "status": "completed"
    },
    "tags": []
   },
   "outputs": [],
   "source": [
    "c = 0\n",
    "for i,k in train_2.iterrows():\n",
    "    mt = get_predictions(k['Text'])\n",
    "    if mt=='':\n",
    "        c+=1\n",
    "    "
   ]
  },
  {
   "cell_type": "code",
   "execution_count": 68,
   "id": "defc2e16",
   "metadata": {
    "execution": {
     "iopub.execute_input": "2023-10-14T13:50:14.218517Z",
     "iopub.status.busy": "2023-10-14T13:50:14.217852Z",
     "iopub.status.idle": "2023-10-14T13:50:14.224080Z",
     "shell.execute_reply": "2023-10-14T13:50:14.223214Z"
    },
    "papermill": {
     "duration": 0.079334,
     "end_time": "2023-10-14T13:50:14.225739",
     "exception": false,
     "start_time": "2023-10-14T13:50:14.146405",
     "status": "completed"
    },
    "tags": []
   },
   "outputs": [
    {
     "data": {
      "text/plain": [
       "0.07706766917293233"
      ]
     },
     "execution_count": 68,
     "metadata": {},
     "output_type": "execute_result"
    }
   ],
   "source": [
    "# c/train.shape[0] # only 65%\n",
    "c/train_2.shape[0] # only"
   ]
  },
  {
   "cell_type": "code",
   "execution_count": 69,
   "id": "f2b48fdf",
   "metadata": {
    "execution": {
     "iopub.execute_input": "2023-10-14T13:50:14.272592Z",
     "iopub.status.busy": "2023-10-14T13:50:14.272021Z",
     "iopub.status.idle": "2023-10-14T13:56:10.105194Z",
     "shell.execute_reply": "2023-10-14T13:56:10.104237Z"
    },
    "papermill": {
     "duration": 355.859444,
     "end_time": "2023-10-14T13:56:10.108142",
     "exception": false,
     "start_time": "2023-10-14T13:50:14.248698",
     "status": "completed"
    },
    "tags": []
   },
   "outputs": [],
   "source": [
    "\n",
    "df[['CodeList3','ContainsCode3']] = df[['Text','CodeList']].apply(lambda x: (x[1],'True') if x[1]!='' else (get_predictions(x[0]),'3'),axis=1).tolist()\n",
    "df['CodeList3'] = df[['CodeList3','ContainsCode']].apply(lambda x: '' if x[1]==False else x[0],axis=1)"
   ]
  },
  {
   "cell_type": "code",
   "execution_count": 70,
   "id": "1a77ec46",
   "metadata": {
    "execution": {
     "iopub.execute_input": "2023-10-14T13:56:10.202366Z",
     "iopub.status.busy": "2023-10-14T13:56:10.201872Z",
     "iopub.status.idle": "2023-10-14T13:56:10.219593Z",
     "shell.execute_reply": "2023-10-14T13:56:10.218768Z"
    },
    "papermill": {
     "duration": 0.066971,
     "end_time": "2023-10-14T13:56:10.221891",
     "exception": false,
     "start_time": "2023-10-14T13:56:10.154920",
     "status": "completed"
    },
    "tags": []
   },
   "outputs": [
    {
     "data": {
      "text/html": [
       "<div>\n",
       "<style scoped>\n",
       "    .dataframe tbody tr th:only-of-type {\n",
       "        vertical-align: middle;\n",
       "    }\n",
       "\n",
       "    .dataframe tbody tr th {\n",
       "        vertical-align: top;\n",
       "    }\n",
       "\n",
       "    .dataframe thead th {\n",
       "        text-align: right;\n",
       "    }\n",
       "</style>\n",
       "<table border=\"1\" class=\"dataframe\">\n",
       "  <thead>\n",
       "    <tr style=\"text-align: right;\">\n",
       "      <th></th>\n",
       "      <th>CodeList2</th>\n",
       "      <th>CodeList3</th>\n",
       "    </tr>\n",
       "  </thead>\n",
       "  <tbody>\n",
       "    <tr>\n",
       "      <th>1796</th>\n",
       "      <td>float</td>\n",
       "      <td>const float PI = 3.14; float area = PI * radiu...</td>\n",
       "    </tr>\n",
       "    <tr>\n",
       "      <th>1784</th>\n",
       "      <td>package main import 'fmt' func main() { fmt.Pr...</td>\n",
       "      <td>package main import 'fmt' func main() { fmt.Pr...</td>\n",
       "    </tr>\n",
       "    <tr>\n",
       "      <th>379</th>\n",
       "      <td>end\\n}\\n{</td>\n",
       "      <td>def greet(name):    print(f'Hello, {name}!')</td>\n",
       "    </tr>\n",
       "    <tr>\n",
       "      <th>1708</th>\n",
       "      <td>end</td>\n",
       "      <td>double area = length * width;</td>\n",
       "    </tr>\n",
       "    <tr>\n",
       "      <th>1445</th>\n",
       "      <td>int i = 0;\\n }\\n{</td>\n",
       "      <td>for(int i = 0; i &lt; 10; i++){ System.out.printl...</td>\n",
       "    </tr>\n",
       "    <tr>\n",
       "      <th>387</th>\n",
       "      <td>end\\n};\\n{</td>\n",
       "      <td>var greeting = function(name) {    return 'Hel...</td>\n",
       "    </tr>\n",
       "    <tr>\n",
       "      <th>574</th>\n",
       "      <td>int myVar = 5;</td>\n",
       "      <td>int myVar = 5;\\n\\nC++ is</td>\n",
       "    </tr>\n",
       "    <tr>\n",
       "      <th>620</th>\n",
       "      <td>/*\\n } \\n*/\\n{</td>\n",
       "      <td>for(int i=0; i&lt;arr.length; i++) { /* do someth...</td>\n",
       "    </tr>\n",
       "    <tr>\n",
       "      <th>1691</th>\n",
       "      <td>end</td>\n",
       "      <td>alert(\"Hello, world!\");\\n\\nRegardless of the l...</td>\n",
       "    </tr>\n",
       "    <tr>\n",
       "      <th>706</th>\n",
       "      <td>}\\n{</td>\n",
       "      <td>function square(num) {return num * num;}</td>\n",
       "    </tr>\n",
       "  </tbody>\n",
       "</table>\n",
       "</div>"
      ],
      "text/plain": [
       "                                              CodeList2  \\\n",
       "1796                                              float   \n",
       "1784  package main import 'fmt' func main() { fmt.Pr...   \n",
       "379                                           end\\n}\\n{   \n",
       "1708                                                end   \n",
       "1445                                  int i = 0;\\n }\\n{   \n",
       "387                                          end\\n};\\n{   \n",
       "574                                      int myVar = 5;   \n",
       "620                                      /*\\n } \\n*/\\n{   \n",
       "1691                                                end   \n",
       "706                                                }\\n{   \n",
       "\n",
       "                                              CodeList3  \n",
       "1796  const float PI = 3.14; float area = PI * radiu...  \n",
       "1784  package main import 'fmt' func main() { fmt.Pr...  \n",
       "379        def greet(name):    print(f'Hello, {name}!')  \n",
       "1708                      double area = length * width;  \n",
       "1445  for(int i = 0; i < 10; i++){ System.out.printl...  \n",
       "387   var greeting = function(name) {    return 'Hel...  \n",
       "574                            int myVar = 5;\\n\\nC++ is  \n",
       "620   for(int i=0; i<arr.length; i++) { /* do someth...  \n",
       "1691  alert(\"Hello, world!\");\\n\\nRegardless of the l...  \n",
       "706            function square(num) {return num * num;}  "
      ]
     },
     "execution_count": 70,
     "metadata": {},
     "output_type": "execute_result"
    }
   ],
   "source": [
    "df[df['ContainsCode']==''][['CodeList2','CodeList3']].sample(10)"
   ]
  },
  {
   "cell_type": "code",
   "execution_count": 72,
   "id": "35662f67",
   "metadata": {
    "execution": {
     "iopub.execute_input": "2023-10-14T13:56:10.419283Z",
     "iopub.status.busy": "2023-10-14T13:56:10.418888Z",
     "iopub.status.idle": "2023-10-14T13:56:10.433448Z",
     "shell.execute_reply": "2023-10-14T13:56:10.432699Z"
    },
    "papermill": {
     "duration": 0.064311,
     "end_time": "2023-10-14T13:56:10.436324",
     "exception": false,
     "start_time": "2023-10-14T13:56:10.372013",
     "status": "completed"
    },
    "tags": []
   },
   "outputs": [
    {
     "data": {
      "text/plain": [
       "(0.018867924528301886, (36, 8))"
      ]
     },
     "execution_count": 72,
     "metadata": {},
     "output_type": "execute_result"
    }
   ],
   "source": [
    "df[(df['ContainsCode']!=False) & (df['CodeList3']=='')].shape[0]/df.shape[0],df[(df['ContainsCode']!=False) & (df['CodeList3']=='')].shape"
   ]
  },
  {
   "cell_type": "code",
   "execution_count": 74,
   "id": "b8441cac",
   "metadata": {
    "execution": {
     "iopub.execute_input": "2023-10-14T13:56:10.630515Z",
     "iopub.status.busy": "2023-10-14T13:56:10.630113Z",
     "iopub.status.idle": "2023-10-14T13:56:10.641136Z",
     "shell.execute_reply": "2023-10-14T13:56:10.640360Z"
    },
    "papermill": {
     "duration": 0.063048,
     "end_time": "2023-10-14T13:56:10.645791",
     "exception": false,
     "start_time": "2023-10-14T13:56:10.582743",
     "status": "completed"
    },
    "tags": []
   },
   "outputs": [
    {
     "data": {
      "text/plain": [
       "array([\"Software development requires a deep understanding of various programming languages, tools, and methodologies. One of the most widely used programming languages today is Python. Python's syntax is simple and easy to learn, making it a popular choice for beginners. It's also versatile and powerful, making it suitable for a wide range of tasks, from web development to data analysis. For example, to define a function in Python, you use the def keyword. Here's an example of a function that greets a user: def greet(name): return 'Hello, ' + name.\\n\\nIn addition to programming languages, developers also need to be familiar with databases. Databases are used to store data in a structured manner. There are two main types of databases: SQL and NoSQL. SQL databases, like MySQL and PostgreSQL, are structured and use SQL (Structured Query Language) for data manipulation. NoSQL databases, like MongoDB, are more flexible and store data in a JSON-like format.\",\n",
       "       \"Software development has a multitude of strategies for organizing code. In the case of C++, object-oriented design is a common approach. As an example, creating a 'Hello, World!' program in C++ would involve including the iostream library, and then using std::cout to print the desired message to the console. This example shows the basic structure of a C++ program, which includes preprocessing directives and the use of the standard namespace.\",\n",
       "       \"Software development is a creative process that involves various steps. Starting from the initial idea to the final product, it's a journey of transformation. One key aspect is writing the source code. For example, creating a function in Python to add two numbers might look like this: def add(a, b): return a + b. This simple function takes in two parameters and returns their sum. It's a basic example of how code can be written to perform specific tasks.\",\n",
       "       \"Software development often involves working with databases. Whether it's MySQL, PostgreSQL, or SQLite, understanding how to work with databases is essential. This involves writing queries, designing schemas, and understanding normalization.\\n\\nIn SQL, you can create a new table like this: CREATE TABLE Employees (ID INT PRIMARY KEY NOT NULL, NAME TEXT NOT NULL, AGE INT NOT NULL, ADDRESS CHAR(50));\\n\\nWorking with databases is a crucial skill for any software developer.\",\n",
       "       \"Software prototyping is an activity in software development where prototypes, or rudimentary working models of the software, are constructed.\\nPrototyping is beneficial because it allows users to interact with a version of the software and provide feedback before the final version is developed.\\nThis feedback can be used to refine the software's requirements and design, reducing the risk of the final product not meeting the users' needs.\\nIn Kotlin, you can define a simple function to greet the user:\\nfun greet(name: String) {\\n\\tprintln('Hello, $name!')\\n}\\ngreet('World')\",\n",
       "       \"Software development is a systematic process that relies heavily on planning and execution. Before any code is written, a comprehensive plan is formulated to guide the development process. This plan includes everything from the software's functionality to its user interface design. \\n\\nOnce the plan is in place, the development process begins. This involves writing code, debugging, and testing the software to ensure it works as intended. A popular language for this stage is Java. For instance, a simple program to print 'Hello, World!' in Java would be: public class HelloWorld { public static void main(String[] args) { System.out.println('Hello, World!'); } }.\",\n",
       "       \"In software development, Go (or Golang) is a statically-typed compiled language known for its simplicity and efficiency, which makes it a good choice for system-level programming. A simple 'Hello, World!' program in Go starts by importing the fmt package, then defines a main function that calls fmt.Println to print 'Hello, World!'. This illustrates the basic structure of a Go program, which includes package declarations and the use of functions.\",\n",
       "       \"The importance of commenting in code cannot be overstated. A good comment explains the 'why' behind the code, not just the 'what'. It should be clear, concise, and above all, helpful. A comment like // this function adds two numbers in a JavaScript code can be helpful for others and also for the developer in future revisions.\\n\\nGood commenting habits can make the difference between easily maintainable code and a confusing mess. Remember, code is read far more times than it is written, so clarity is key.\",\n",
       "       \"In the realm of software development, Python is a popular language due to its simplicity and readability. It is widely used for data analysis, web development, and artificial intelligence. A common command is 'print()', which displays the specified message to the screen. The process of software development involves not only coding but also designing, testing, debugging, and maintaining the system.\",\n",
       "       \"Software development is a fascinating field. It's not just about writing code, it's about solving problems. It's about creating something new and innovative. It's about pushing the boundaries and making a difference. It's about constantly learning and growing. SystemoutprintHello World is a simple line of Java code that prints the message 'Hello, World!' to the console. This is often the first piece of code a new programmer will write. Yet, even this simple line of code represents a complex interaction of systems and processes.\"],\n",
       "      dtype=object)"
      ]
     },
     "execution_count": 74,
     "metadata": {},
     "output_type": "execute_result"
    }
   ],
   "source": [
    "df[(df['ContainsCode']!=False) & (df['CodeList3']=='')]['Text'].sample(10).values"
   ]
  },
  {
   "cell_type": "code",
   "execution_count": 75,
   "id": "81015b3b",
   "metadata": {
    "execution": {
     "iopub.execute_input": "2023-10-14T13:56:10.698784Z",
     "iopub.status.busy": "2023-10-14T13:56:10.697981Z",
     "iopub.status.idle": "2023-10-14T13:56:10.709230Z",
     "shell.execute_reply": "2023-10-14T13:56:10.708117Z"
    },
    "papermill": {
     "duration": 0.037786,
     "end_time": "2023-10-14T13:56:10.711156",
     "exception": false,
     "start_time": "2023-10-14T13:56:10.673370",
     "status": "completed"
    },
    "tags": []
   },
   "outputs": [
    {
     "data": {
      "text/html": [
       "<div>\n",
       "<style scoped>\n",
       "    .dataframe tbody tr th:only-of-type {\n",
       "        vertical-align: middle;\n",
       "    }\n",
       "\n",
       "    .dataframe tbody tr th {\n",
       "        vertical-align: top;\n",
       "    }\n",
       "\n",
       "    .dataframe thead th {\n",
       "        text-align: right;\n",
       "    }\n",
       "</style>\n",
       "<table border=\"1\" class=\"dataframe\">\n",
       "  <thead>\n",
       "    <tr style=\"text-align: right;\">\n",
       "      <th></th>\n",
       "      <th>ID</th>\n",
       "      <th>Text</th>\n",
       "      <th>ContainsCode</th>\n",
       "      <th>CodeList</th>\n",
       "      <th>CodeList2</th>\n",
       "      <th>ContainsCode2</th>\n",
       "      <th>CodeList3</th>\n",
       "      <th>ContainsCode3</th>\n",
       "    </tr>\n",
       "  </thead>\n",
       "  <tbody>\n",
       "    <tr>\n",
       "      <th>0</th>\n",
       "      <td>1</td>\n",
       "      <td>Test-driven development (TDD) is a software de...</td>\n",
       "      <td></td>\n",
       "      <td></td>\n",
       "      <td>public void testAdd() { \\n@Test \\nint result =...</td>\n",
       "      <td>2</td>\n",
       "      <td>@Test public void testAdd() { Calculator calcu...</td>\n",
       "      <td>3</td>\n",
       "    </tr>\n",
       "    <tr>\n",
       "      <th>1</th>\n",
       "      <td>2</td>\n",
       "      <td>Software development is an exciting field that...</td>\n",
       "      <td>False</td>\n",
       "      <td></td>\n",
       "      <td></td>\n",
       "      <td>2</td>\n",
       "      <td></td>\n",
       "      <td>3</td>\n",
       "    </tr>\n",
       "    <tr>\n",
       "      <th>2</th>\n",
       "      <td>3</td>\n",
       "      <td>The development process often starts with a co...</td>\n",
       "      <td></td>\n",
       "      <td></td>\n",
       "      <td></td>\n",
       "      <td>2</td>\n",
       "      <td>example:\\nfor(int i = 0 i &lt; arr.length i++) Sy...</td>\n",
       "      <td>3</td>\n",
       "    </tr>\n",
       "    <tr>\n",
       "      <th>3</th>\n",
       "      <td>4</td>\n",
       "      <td>Another important aspect of software developme...</td>\n",
       "      <td>True</td>\n",
       "      <td>git commit -m 'Initial commit'</td>\n",
       "      <td>git commit -m 'Initial commit'</td>\n",
       "      <td>True</td>\n",
       "      <td>git commit -m 'Initial commit'</td>\n",
       "      <td>True</td>\n",
       "    </tr>\n",
       "    <tr>\n",
       "      <th>4</th>\n",
       "      <td>5</td>\n",
       "      <td>In the world of software development, language...</td>\n",
       "      <td>False</td>\n",
       "      <td></td>\n",
       "      <td></td>\n",
       "      <td>2</td>\n",
       "      <td></td>\n",
       "      <td>3</td>\n",
       "    </tr>\n",
       "  </tbody>\n",
       "</table>\n",
       "</div>"
      ],
      "text/plain": [
       "   ID                                               Text ContainsCode  \\\n",
       "0   1  Test-driven development (TDD) is a software de...                \n",
       "1   2  Software development is an exciting field that...        False   \n",
       "2   3  The development process often starts with a co...                \n",
       "3   4  Another important aspect of software developme...         True   \n",
       "4   5  In the world of software development, language...        False   \n",
       "\n",
       "                         CodeList  \\\n",
       "0                                   \n",
       "1                                   \n",
       "2                                   \n",
       "3  git commit -m 'Initial commit'   \n",
       "4                                   \n",
       "\n",
       "                                           CodeList2 ContainsCode2  \\\n",
       "0  public void testAdd() { \\n@Test \\nint result =...             2   \n",
       "1                                                                2   \n",
       "2                                                                2   \n",
       "3                     git commit -m 'Initial commit'          True   \n",
       "4                                                                2   \n",
       "\n",
       "                                           CodeList3 ContainsCode3  \n",
       "0  @Test public void testAdd() { Calculator calcu...             3  \n",
       "1                                                                3  \n",
       "2  example:\\nfor(int i = 0 i < arr.length i++) Sy...             3  \n",
       "3                     git commit -m 'Initial commit'          True  \n",
       "4                                                                3  "
      ]
     },
     "execution_count": 75,
     "metadata": {},
     "output_type": "execute_result"
    }
   ],
   "source": [
    "df.head()"
   ]
  },
  {
   "cell_type": "markdown",
   "id": "cf088893",
   "metadata": {},
   "source": [
    "Creating combined predictions"
   ]
  },
  {
   "cell_type": "code",
   "execution_count": 76,
   "id": "4587f5ea",
   "metadata": {
    "execution": {
     "iopub.execute_input": "2023-10-14T13:56:10.762373Z",
     "iopub.status.busy": "2023-10-14T13:56:10.761406Z",
     "iopub.status.idle": "2023-10-14T13:56:10.775820Z",
     "shell.execute_reply": "2023-10-14T13:56:10.774980Z"
    },
    "papermill": {
     "duration": 0.041364,
     "end_time": "2023-10-14T13:56:10.777545",
     "exception": false,
     "start_time": "2023-10-14T13:56:10.736181",
     "status": "completed"
    },
    "tags": []
   },
   "outputs": [],
   "source": [
    "data = df.copy()\n",
    "combined_res = []\n",
    "data['CodeList2'] = data['CodeList2'].apply(clean_codes)\n",
    "data['CodeList3'] = data['CodeList3'].apply(clean_codes)\n",
    "for k,v in zip(data['CodeList2'],data['CodeList3']):\n",
    "    \n",
    "    match = k\n",
    "    match.extend(v)\n",
    "#     res = logic_to_reduce(match)\n",
    "    combined_res.append(\"\".join(list(set(match))))\n",
    "#     print()\n",
    "\n",
    "df['Codelist23'] = combined_res\n",
    "data['Codelist23'] = combined_res"
   ]
  },
  {
   "cell_type": "code",
   "execution_count": 77,
   "id": "1dd24151",
   "metadata": {
    "execution": {
     "iopub.execute_input": "2023-10-14T13:56:10.827361Z",
     "iopub.status.busy": "2023-10-14T13:56:10.826438Z",
     "iopub.status.idle": "2023-10-14T13:56:10.841780Z",
     "shell.execute_reply": "2023-10-14T13:56:10.840733Z"
    },
    "papermill": {
     "duration": 0.042017,
     "end_time": "2023-10-14T13:56:10.843466",
     "exception": false,
     "start_time": "2023-10-14T13:56:10.801449",
     "status": "completed"
    },
    "tags": []
   },
   "outputs": [
    {
     "data": {
      "text/html": [
       "<div>\n",
       "<style scoped>\n",
       "    .dataframe tbody tr th:only-of-type {\n",
       "        vertical-align: middle;\n",
       "    }\n",
       "\n",
       "    .dataframe tbody tr th {\n",
       "        vertical-align: top;\n",
       "    }\n",
       "\n",
       "    .dataframe thead th {\n",
       "        text-align: right;\n",
       "    }\n",
       "</style>\n",
       "<table border=\"1\" class=\"dataframe\">\n",
       "  <thead>\n",
       "    <tr style=\"text-align: right;\">\n",
       "      <th></th>\n",
       "      <th>ID</th>\n",
       "      <th>Text</th>\n",
       "      <th>ContainsCode</th>\n",
       "      <th>CodeList</th>\n",
       "      <th>CodeList2</th>\n",
       "      <th>ContainsCode2</th>\n",
       "      <th>CodeList3</th>\n",
       "      <th>ContainsCode3</th>\n",
       "      <th>Codelist23</th>\n",
       "    </tr>\n",
       "  </thead>\n",
       "  <tbody>\n",
       "    <tr>\n",
       "      <th>0</th>\n",
       "      <td>1</td>\n",
       "      <td>Test-driven development (TDD) is a software de...</td>\n",
       "      <td></td>\n",
       "      <td></td>\n",
       "      <td>public void testAdd() { \\n@Test \\nint result =...</td>\n",
       "      <td>2</td>\n",
       "      <td>@Test public void testAdd() { Calculator calcu...</td>\n",
       "      <td>3</td>\n",
       "      <td>assertEquals(5, result); @Test @Test public vo...</td>\n",
       "    </tr>\n",
       "    <tr>\n",
       "      <th>1</th>\n",
       "      <td>2</td>\n",
       "      <td>Software development is an exciting field that...</td>\n",
       "      <td>False</td>\n",
       "      <td></td>\n",
       "      <td></td>\n",
       "      <td>2</td>\n",
       "      <td></td>\n",
       "      <td>3</td>\n",
       "      <td></td>\n",
       "    </tr>\n",
       "    <tr>\n",
       "      <th>2</th>\n",
       "      <td>3</td>\n",
       "      <td>The development process often starts with a co...</td>\n",
       "      <td></td>\n",
       "      <td></td>\n",
       "      <td></td>\n",
       "      <td>2</td>\n",
       "      <td>example:\\nfor(int i = 0 i &lt; arr.length i++) Sy...</td>\n",
       "      <td>3</td>\n",
       "      <td>example:for(int i = 0 i &lt; arr.length i++) Syst...</td>\n",
       "    </tr>\n",
       "    <tr>\n",
       "      <th>3</th>\n",
       "      <td>4</td>\n",
       "      <td>Another important aspect of software developme...</td>\n",
       "      <td>True</td>\n",
       "      <td>git commit -m 'Initial commit'</td>\n",
       "      <td>git commit -m 'Initial commit'</td>\n",
       "      <td>True</td>\n",
       "      <td>git commit -m 'Initial commit'</td>\n",
       "      <td>True</td>\n",
       "      <td>git commit -m 'Initial commit'</td>\n",
       "    </tr>\n",
       "    <tr>\n",
       "      <th>4</th>\n",
       "      <td>5</td>\n",
       "      <td>In the world of software development, language...</td>\n",
       "      <td>False</td>\n",
       "      <td></td>\n",
       "      <td></td>\n",
       "      <td>2</td>\n",
       "      <td></td>\n",
       "      <td>3</td>\n",
       "      <td></td>\n",
       "    </tr>\n",
       "    <tr>\n",
       "      <th>...</th>\n",
       "      <td>...</td>\n",
       "      <td>...</td>\n",
       "      <td>...</td>\n",
       "      <td>...</td>\n",
       "      <td>...</td>\n",
       "      <td>...</td>\n",
       "      <td>...</td>\n",
       "      <td>...</td>\n",
       "      <td>...</td>\n",
       "    </tr>\n",
       "    <tr>\n",
       "      <th>1903</th>\n",
       "      <td>1904</td>\n",
       "      <td>Software development, an integral part of any ...</td>\n",
       "      <td>True</td>\n",
       "      <td>List&lt;String&gt; names = new ArrayList&lt;String&gt;();</td>\n",
       "      <td>List&lt;String&gt; names = new ArrayList&lt;String&gt;();</td>\n",
       "      <td>True</td>\n",
       "      <td>List&lt;String&gt; names = new ArrayList&lt;String&gt;();</td>\n",
       "      <td>True</td>\n",
       "      <td>List&lt;String&gt; names = new ArrayList&lt;String&gt;();</td>\n",
       "    </tr>\n",
       "    <tr>\n",
       "      <th>1904</th>\n",
       "      <td>1905</td>\n",
       "      <td>In the world of software development, one of t...</td>\n",
       "      <td>False</td>\n",
       "      <td></td>\n",
       "      <td></td>\n",
       "      <td>2</td>\n",
       "      <td></td>\n",
       "      <td>3</td>\n",
       "      <td></td>\n",
       "    </tr>\n",
       "    <tr>\n",
       "      <th>1905</th>\n",
       "      <td>1906</td>\n",
       "      <td>Web development is a popular field in software...</td>\n",
       "      <td></td>\n",
       "      <td></td>\n",
       "      <td>function greet() {\\nend\\n }</td>\n",
       "      <td>2</td>\n",
       "      <td>function greet() { alert('Hello, world!'); }</td>\n",
       "      <td>3</td>\n",
       "      <td>}function greet() {function greet() { alert('...</td>\n",
       "    </tr>\n",
       "    <tr>\n",
       "      <th>1906</th>\n",
       "      <td>1907</td>\n",
       "      <td>C++ is a general-purpose programming language ...</td>\n",
       "      <td></td>\n",
       "      <td></td>\n",
       "      <td></td>\n",
       "      <td>2</td>\n",
       "      <td>int myNum = 15; cout &lt;&lt; myNum;.\\n\\nThe languag...</td>\n",
       "      <td>3</td>\n",
       "      <td>The language isint myNum = 15; cout &lt;&lt; myNum;.</td>\n",
       "    </tr>\n",
       "    <tr>\n",
       "      <th>1907</th>\n",
       "      <td>1908</td>\n",
       "      <td>Mobile app development is a type of software d...</td>\n",
       "      <td>False</td>\n",
       "      <td></td>\n",
       "      <td></td>\n",
       "      <td>2</td>\n",
       "      <td></td>\n",
       "      <td>3</td>\n",
       "      <td></td>\n",
       "    </tr>\n",
       "  </tbody>\n",
       "</table>\n",
       "<p>1908 rows × 9 columns</p>\n",
       "</div>"
      ],
      "text/plain": [
       "        ID                                               Text ContainsCode  \\\n",
       "0        1  Test-driven development (TDD) is a software de...                \n",
       "1        2  Software development is an exciting field that...        False   \n",
       "2        3  The development process often starts with a co...                \n",
       "3        4  Another important aspect of software developme...         True   \n",
       "4        5  In the world of software development, language...        False   \n",
       "...    ...                                                ...          ...   \n",
       "1903  1904  Software development, an integral part of any ...         True   \n",
       "1904  1905  In the world of software development, one of t...        False   \n",
       "1905  1906  Web development is a popular field in software...                \n",
       "1906  1907  C++ is a general-purpose programming language ...                \n",
       "1907  1908  Mobile app development is a type of software d...        False   \n",
       "\n",
       "                                           CodeList  \\\n",
       "0                                                     \n",
       "1                                                     \n",
       "2                                                     \n",
       "3                    git commit -m 'Initial commit'   \n",
       "4                                                     \n",
       "...                                             ...   \n",
       "1903  List<String> names = new ArrayList<String>();   \n",
       "1904                                                  \n",
       "1905                                                  \n",
       "1906                                                  \n",
       "1907                                                  \n",
       "\n",
       "                                              CodeList2 ContainsCode2  \\\n",
       "0     public void testAdd() { \\n@Test \\nint result =...             2   \n",
       "1                                                                   2   \n",
       "2                                                                   2   \n",
       "3                        git commit -m 'Initial commit'          True   \n",
       "4                                                                   2   \n",
       "...                                                 ...           ...   \n",
       "1903      List<String> names = new ArrayList<String>();          True   \n",
       "1904                                                                2   \n",
       "1905                        function greet() {\\nend\\n }             2   \n",
       "1906                                                                2   \n",
       "1907                                                                2   \n",
       "\n",
       "                                              CodeList3 ContainsCode3  \\\n",
       "0     @Test public void testAdd() { Calculator calcu...             3   \n",
       "1                                                                   3   \n",
       "2     example:\\nfor(int i = 0 i < arr.length i++) Sy...             3   \n",
       "3                        git commit -m 'Initial commit'          True   \n",
       "4                                                                   3   \n",
       "...                                                 ...           ...   \n",
       "1903      List<String> names = new ArrayList<String>();          True   \n",
       "1904                                                                3   \n",
       "1905       function greet() { alert('Hello, world!'); }             3   \n",
       "1906  int myNum = 15; cout << myNum;.\\n\\nThe languag...             3   \n",
       "1907                                                                3   \n",
       "\n",
       "                                             Codelist23  \n",
       "0     assertEquals(5, result); @Test @Test public vo...  \n",
       "1                                                        \n",
       "2     example:for(int i = 0 i < arr.length i++) Syst...  \n",
       "3                        git commit -m 'Initial commit'  \n",
       "4                                                        \n",
       "...                                                 ...  \n",
       "1903      List<String> names = new ArrayList<String>();  \n",
       "1904                                                     \n",
       "1905   }function greet() {function greet() { alert('...  \n",
       "1906     The language isint myNum = 15; cout << myNum;.  \n",
       "1907                                                     \n",
       "\n",
       "[1908 rows x 9 columns]"
      ]
     },
     "execution_count": 77,
     "metadata": {},
     "output_type": "execute_result"
    }
   ],
   "source": [
    "df"
   ]
  },
  {
   "cell_type": "code",
   "execution_count": 78,
   "id": "bc7a6dc7",
   "metadata": {
    "execution": {
     "iopub.execute_input": "2023-10-14T13:56:10.894095Z",
     "iopub.status.busy": "2023-10-14T13:56:10.893782Z",
     "iopub.status.idle": "2023-10-14T13:56:10.907689Z",
     "shell.execute_reply": "2023-10-14T13:56:10.906636Z"
    },
    "papermill": {
     "duration": 0.041418,
     "end_time": "2023-10-14T13:56:10.909716",
     "exception": false,
     "start_time": "2023-10-14T13:56:10.868298",
     "status": "completed"
    },
    "tags": []
   },
   "outputs": [
    {
     "data": {
      "text/html": [
       "<div>\n",
       "<style scoped>\n",
       "    .dataframe tbody tr th:only-of-type {\n",
       "        vertical-align: middle;\n",
       "    }\n",
       "\n",
       "    .dataframe tbody tr th {\n",
       "        vertical-align: top;\n",
       "    }\n",
       "\n",
       "    .dataframe thead th {\n",
       "        text-align: right;\n",
       "    }\n",
       "</style>\n",
       "<table border=\"1\" class=\"dataframe\">\n",
       "  <thead>\n",
       "    <tr style=\"text-align: right;\">\n",
       "      <th></th>\n",
       "      <th>ID</th>\n",
       "      <th>Text</th>\n",
       "      <th>ContainsCode</th>\n",
       "      <th>CodeList</th>\n",
       "      <th>CodeList2</th>\n",
       "      <th>ContainsCode2</th>\n",
       "      <th>CodeList3</th>\n",
       "      <th>ContainsCode3</th>\n",
       "      <th>Codelist23</th>\n",
       "    </tr>\n",
       "  </thead>\n",
       "  <tbody>\n",
       "    <tr>\n",
       "      <th>0</th>\n",
       "      <td>1</td>\n",
       "      <td>Test-driven development (TDD) is a software de...</td>\n",
       "      <td></td>\n",
       "      <td></td>\n",
       "      <td>public void testAdd() { \\n@Test \\nint result =...</td>\n",
       "      <td>2</td>\n",
       "      <td>@Test public void testAdd() { Calculator calcu...</td>\n",
       "      <td>3</td>\n",
       "      <td>assertEquals(5, result); @Test @Test public vo...</td>\n",
       "    </tr>\n",
       "    <tr>\n",
       "      <th>1</th>\n",
       "      <td>2</td>\n",
       "      <td>Software development is an exciting field that...</td>\n",
       "      <td>False</td>\n",
       "      <td></td>\n",
       "      <td></td>\n",
       "      <td>2</td>\n",
       "      <td></td>\n",
       "      <td>3</td>\n",
       "      <td></td>\n",
       "    </tr>\n",
       "    <tr>\n",
       "      <th>2</th>\n",
       "      <td>3</td>\n",
       "      <td>The development process often starts with a co...</td>\n",
       "      <td></td>\n",
       "      <td></td>\n",
       "      <td></td>\n",
       "      <td>2</td>\n",
       "      <td>example:\\nfor(int i = 0 i &lt; arr.length i++) Sy...</td>\n",
       "      <td>3</td>\n",
       "      <td>example:for(int i = 0 i &lt; arr.length i++) Syst...</td>\n",
       "    </tr>\n",
       "    <tr>\n",
       "      <th>3</th>\n",
       "      <td>4</td>\n",
       "      <td>Another important aspect of software developme...</td>\n",
       "      <td>True</td>\n",
       "      <td>git commit -m 'Initial commit'</td>\n",
       "      <td>git commit -m 'Initial commit'</td>\n",
       "      <td>True</td>\n",
       "      <td>git commit -m 'Initial commit'</td>\n",
       "      <td>True</td>\n",
       "      <td>git commit -m 'Initial commit'</td>\n",
       "    </tr>\n",
       "    <tr>\n",
       "      <th>4</th>\n",
       "      <td>5</td>\n",
       "      <td>In the world of software development, language...</td>\n",
       "      <td>False</td>\n",
       "      <td></td>\n",
       "      <td></td>\n",
       "      <td>2</td>\n",
       "      <td></td>\n",
       "      <td>3</td>\n",
       "      <td></td>\n",
       "    </tr>\n",
       "    <tr>\n",
       "      <th>...</th>\n",
       "      <td>...</td>\n",
       "      <td>...</td>\n",
       "      <td>...</td>\n",
       "      <td>...</td>\n",
       "      <td>...</td>\n",
       "      <td>...</td>\n",
       "      <td>...</td>\n",
       "      <td>...</td>\n",
       "      <td>...</td>\n",
       "    </tr>\n",
       "    <tr>\n",
       "      <th>1903</th>\n",
       "      <td>1904</td>\n",
       "      <td>Software development, an integral part of any ...</td>\n",
       "      <td>True</td>\n",
       "      <td>List&lt;String&gt; names = new ArrayList&lt;String&gt;();</td>\n",
       "      <td>List&lt;String&gt; names = new ArrayList&lt;String&gt;();</td>\n",
       "      <td>True</td>\n",
       "      <td>List&lt;String&gt; names = new ArrayList&lt;String&gt;();</td>\n",
       "      <td>True</td>\n",
       "      <td>List&lt;String&gt; names = new ArrayList&lt;String&gt;();</td>\n",
       "    </tr>\n",
       "    <tr>\n",
       "      <th>1904</th>\n",
       "      <td>1905</td>\n",
       "      <td>In the world of software development, one of t...</td>\n",
       "      <td>False</td>\n",
       "      <td></td>\n",
       "      <td></td>\n",
       "      <td>2</td>\n",
       "      <td></td>\n",
       "      <td>3</td>\n",
       "      <td></td>\n",
       "    </tr>\n",
       "    <tr>\n",
       "      <th>1905</th>\n",
       "      <td>1906</td>\n",
       "      <td>Web development is a popular field in software...</td>\n",
       "      <td></td>\n",
       "      <td></td>\n",
       "      <td>function greet() {\\nend\\n }</td>\n",
       "      <td>2</td>\n",
       "      <td>function greet() { alert('Hello, world!'); }</td>\n",
       "      <td>3</td>\n",
       "      <td>}function greet() {function greet() { alert('...</td>\n",
       "    </tr>\n",
       "    <tr>\n",
       "      <th>1906</th>\n",
       "      <td>1907</td>\n",
       "      <td>C++ is a general-purpose programming language ...</td>\n",
       "      <td></td>\n",
       "      <td></td>\n",
       "      <td></td>\n",
       "      <td>2</td>\n",
       "      <td>int myNum = 15; cout &lt;&lt; myNum;.\\n\\nThe languag...</td>\n",
       "      <td>3</td>\n",
       "      <td>The language isint myNum = 15; cout &lt;&lt; myNum;.</td>\n",
       "    </tr>\n",
       "    <tr>\n",
       "      <th>1907</th>\n",
       "      <td>1908</td>\n",
       "      <td>Mobile app development is a type of software d...</td>\n",
       "      <td>False</td>\n",
       "      <td></td>\n",
       "      <td></td>\n",
       "      <td>2</td>\n",
       "      <td></td>\n",
       "      <td>3</td>\n",
       "      <td></td>\n",
       "    </tr>\n",
       "  </tbody>\n",
       "</table>\n",
       "<p>1908 rows × 9 columns</p>\n",
       "</div>"
      ],
      "text/plain": [
       "        ID                                               Text ContainsCode  \\\n",
       "0        1  Test-driven development (TDD) is a software de...                \n",
       "1        2  Software development is an exciting field that...        False   \n",
       "2        3  The development process often starts with a co...                \n",
       "3        4  Another important aspect of software developme...         True   \n",
       "4        5  In the world of software development, language...        False   \n",
       "...    ...                                                ...          ...   \n",
       "1903  1904  Software development, an integral part of any ...         True   \n",
       "1904  1905  In the world of software development, one of t...        False   \n",
       "1905  1906  Web development is a popular field in software...                \n",
       "1906  1907  C++ is a general-purpose programming language ...                \n",
       "1907  1908  Mobile app development is a type of software d...        False   \n",
       "\n",
       "                                           CodeList  \\\n",
       "0                                                     \n",
       "1                                                     \n",
       "2                                                     \n",
       "3                    git commit -m 'Initial commit'   \n",
       "4                                                     \n",
       "...                                             ...   \n",
       "1903  List<String> names = new ArrayList<String>();   \n",
       "1904                                                  \n",
       "1905                                                  \n",
       "1906                                                  \n",
       "1907                                                  \n",
       "\n",
       "                                              CodeList2 ContainsCode2  \\\n",
       "0     public void testAdd() { \\n@Test \\nint result =...             2   \n",
       "1                                                                   2   \n",
       "2                                                                   2   \n",
       "3                        git commit -m 'Initial commit'          True   \n",
       "4                                                                   2   \n",
       "...                                                 ...           ...   \n",
       "1903      List<String> names = new ArrayList<String>();          True   \n",
       "1904                                                                2   \n",
       "1905                        function greet() {\\nend\\n }             2   \n",
       "1906                                                                2   \n",
       "1907                                                                2   \n",
       "\n",
       "                                              CodeList3 ContainsCode3  \\\n",
       "0     @Test public void testAdd() { Calculator calcu...             3   \n",
       "1                                                                   3   \n",
       "2     example:\\nfor(int i = 0 i < arr.length i++) Sy...             3   \n",
       "3                        git commit -m 'Initial commit'          True   \n",
       "4                                                                   3   \n",
       "...                                                 ...           ...   \n",
       "1903      List<String> names = new ArrayList<String>();          True   \n",
       "1904                                                                3   \n",
       "1905       function greet() { alert('Hello, world!'); }             3   \n",
       "1906  int myNum = 15; cout << myNum;.\\n\\nThe languag...             3   \n",
       "1907                                                                3   \n",
       "\n",
       "                                             Codelist23  \n",
       "0     assertEquals(5, result); @Test @Test public vo...  \n",
       "1                                                        \n",
       "2     example:for(int i = 0 i < arr.length i++) Syst...  \n",
       "3                        git commit -m 'Initial commit'  \n",
       "4                                                        \n",
       "...                                                 ...  \n",
       "1903      List<String> names = new ArrayList<String>();  \n",
       "1904                                                     \n",
       "1905   }function greet() {function greet() { alert('...  \n",
       "1906     The language isint myNum = 15; cout << myNum;.  \n",
       "1907                                                     \n",
       "\n",
       "[1908 rows x 9 columns]"
      ]
     },
     "execution_count": 78,
     "metadata": {},
     "output_type": "execute_result"
    }
   ],
   "source": [
    "df"
   ]
  },
  {
   "cell_type": "code",
   "execution_count": 79,
   "id": "f92eff07",
   "metadata": {
    "execution": {
     "iopub.execute_input": "2023-10-14T13:56:10.959945Z",
     "iopub.status.busy": "2023-10-14T13:56:10.958969Z",
     "iopub.status.idle": "2023-10-14T13:56:11.880290Z",
     "shell.execute_reply": "2023-10-14T13:56:11.879267Z"
    },
    "papermill": {
     "duration": 0.948358,
     "end_time": "2023-10-14T13:56:11.882111",
     "exception": false,
     "start_time": "2023-10-14T13:56:10.933753",
     "status": "completed"
    },
    "tags": []
   },
   "outputs": [
    {
     "name": "stdout",
     "output_type": "stream",
     "text": [
      "(1063, 9)\n",
      "**********************************************\n",
      "#####Label  #include <stdio.h>\\nint main()\\n{\\nprintf('Hello, World!');\\nreturn 0;\\n}\n",
      "#####PRED  return 0;{printf('Hello, World!');}int main()#include <stdio.h>\n",
      "#####ACCURACY  0.989247311827957\n",
      "**********************************************\n",
      "#####Label  function add(x, y)', 'return x + y\n",
      "#####PRED  return x + yfunction add(x, y)\n",
      "#####ACCURACY  0.989247311827957\n",
      "**********************************************\n",
      "#####Label  #!/bin/bash \\n for i in {1..5}; do \\n echo $i \\n done\n",
      "#####PRED   for i in {1..5}; do #!/bin/bash  echo $i  done\n",
      "#####ACCURACY  0.989247311827957\n",
      "**********************************************\n",
      "#####Label  public String reverseString(String s) { \\n char[] charArray = s.toCharArray(); \\n int left = 0; \\n int right = s.length() - 1; \\n while (left < right) { \\n char temp = charArray[left]; \\n charArray[left] = charArray[right]; \\n charArray[right] = temp; \\n left++; \\n right--; \\n } \\n return new String(charArray); \\n }\n",
      "#####PRED   } return new String(charArray);  int right = s.length() - 1;  char temp = charArray[left];  while (left < right) {  int left = 0;  right--;  char[] charArray = s.toCharArray();  }  left++;  charArray[left] = charArray[right]; public String reverseString(String s) {  charArray[right] = temp; \n",
      "#####ACCURACY  0.989247311827957\n",
      "**********************************************\n",
      "#####Label  int arr[5] = {1, 2, 3, 4, 5};', 'for(int i=0; i<5; i++) {cout << arr[i] << endl;}\n",
      "#####PRED  for(int i=0; i<5; i++) {cout << arr[i] << endl;}int arr[5] = {1, 2, 3, 4, 5};\n",
      "#####ACCURACY  0.989247311827957\n",
      "**********************************************\n",
      "#####Label  #include <iostream>\\nint main() {\\nstd::cout << 'Hello, World!';\\nreturn 0;\\n}\n",
      "#####PRED  std::cout << 'Hello, World!';int main() {return 0;}#include <iostream>\n",
      "#####ACCURACY  0.989247311827957\n",
      "**********************************************\n",
      "#####Label  func add(a: Int, b: Int) -> Int {\\nreturn a + b\\n}\n",
      "#####PRED  return a + b}func add(a: Int, b: Int) -> Int {\n",
      "#####ACCURACY  0.989247311827957\n",
      "**********************************************\n",
      "#####Label  using System;\\nclass Program {\\nstatic void Main() {\\nConsole.WriteLine('Hello, World!');\\n}\\n}\n",
      "#####PRED  class Program {static void Main() {Console.WriteLine('Hello, World!');}using System;\n",
      "#####ACCURACY  0.989247311827957\n",
      "**********************************************\n",
      "#####Label  fun add(a: Int, b: Int): Int {\\nreturn a + b\\n}\n",
      "#####PRED  return a + bfun add(a: Int, b: Int): Int {}\n",
      "#####ACCURACY  0.989247311827957\n",
      "**********************************************\n",
      "#####Label  import sys\\nprint('Hello, World!')\n",
      "#####PRED  print('Hello, World!')import sys\n",
      "#####ACCURACY  0.989247311827957\n",
      "**********************************************\n",
      "#####Label  def test_add():\\n\\tassert add(2, 2) == 4\n",
      "#####PRED  def test_add():\\tassert add(2, 2) == 4\n",
      "#####ACCURACY  0.989247311827957\n",
      "**********************************************\n",
      "#####Label  items = set(['apple', 'banana', 'cherry'])\\n\\n 'apple' in items\n",
      "#####PRED  cherry'])items = set(['applebanana 'apple' in items\n",
      "#####ACCURACY  0.978494623655914\n",
      "**********************************************\n",
      "#####Label  # Calculate the area of the rectangle\\narea = width * height\n",
      "#####PRED  # Calculate the area of the rectanglearea = width * height\n",
      "#####ACCURACY  0.989247311827957\n",
      "**********************************************\n",
      "#####Label  public class HelloWorld {\\n    public static void main(String[] args) {\\n        System.out.println('Hello, World!');\\n    }\\n}\n",
      "#####PRED      public static void main(String[] args) {    }}        System.out.println('Hello, World!');public class HelloWorld {\n",
      "#####ACCURACY  0.989247311827957\n",
      "**********************************************\n",
      "#####Label  function greet(name) {\\n    alert('Hello, ' + name + '!');\\n}\n",
      "#####PRED  }    alert('Hello, ' + name + '!');function greet(name) {\n",
      "#####ACCURACY  0.989247311827957\n",
      "**********************************************\n",
      "#####Label  function greet(name: string): void {\\n    console.log('Hello, ' + name + '!');\\n}\n",
      "#####PRED      console.log('Hello, ' + name + '!');}function greet(name: string): void {\n",
      "#####ACCURACY  0.989247311827957\n",
      "**********************************************\n",
      "#####Label  int i = 0;\\ni++;\n",
      "#####PRED  int i = 0;i++;\n",
      "#####ACCURACY  0.989247311827957\n",
      "**********************************************\n",
      "#####Label  'Language': 'Dockerfile', 'Code': 'FROM python:3.7\\nWORKDIR /app\\nCOPY . /app\\nRUN pip install --no-cache-dir -r requirements.txt\\nCMD [\"python\", \"./your-daemon-or-script.py\"]'\n",
      "#####PRED  COPY . /appWORKDIR /appCode': 'FROM python:3.7'Language': 'DockerfileCMD [\"python\", \"./your-daemon-or-script.py\"]'RUN pip install --no-cache-dir -r requirements.txt\n",
      "#####ACCURACY  0.989247311827957\n",
      "**********************************************\n",
      "#####Label  git init', 'class TestMyFunction(unittest.TestCase): def test_add(self): self.assertEqual(add(1, 2), 3)\n",
      "#####PRED  class TestMyFunction(unittest.TestCase): def test_add(self): self.assertEqual(add(1, 2), 3)git init\n",
      "#####ACCURACY  0.989247311827957\n",
      "**********************************************\n",
      "#####Label  git clone repository_url', 'def add(a, b): return a + b\n",
      "#####PRED  def add(a, b): return a + bgit clone repository_url\n",
      "#####ACCURACY  0.989247311827957\n",
      "**********************************************\n",
      "#####Label  public class Greeting { \\n private String greeting; \\n public Greeting(String g) { \\n this.greeting = g; \\n } \\n public void sayHello() { \\n System.out.println(this.greeting); \\n } \\n }\n",
      "#####PRED   this.greeting = g;  System.out.println(this.greeting);  }public class Greeting {  public Greeting(String g) {  private String greeting;  }  public void sayHello() { \n",
      "#####ACCURACY  0.989247311827957\n",
      "**********************************************\n",
      "#####Label  my_list = [3, 1, 4, 1, 5, 9]', 'my_list.sort()\n",
      "#####PRED  my_list.sort()my_list = [3, 1, 4, 1, 5, 9]\n",
      "#####ACCURACY  0.989247311827957\n",
      "**********************************************\n",
      "#####Label  let numbers = [1, 2, 3, 4, 5];\\nlet maxNumber = Math.max(...numbers);\n",
      "#####PRED  let maxNumber = Math.max(...numbers);let numbers = [1, 2, 3, 4, 5];\n",
      "#####ACCURACY  0.989247311827957\n",
      "**********************************************\n",
      "#####Label  git clone https://github.com/example/repo.git\\ncd repo\\ngit checkout -b new-feature\\n// make some changes\\ngit add .\\ngit commit -m 'Add new feature'\\ngit push origin new-feature\n",
      "#####PRED  git checkout -b new-featuregit push origin new-feature// make some changesgit clone https://github.com/example/repo.gitgit commit -m 'Add new feature'cd repogit add .\n",
      "#####ACCURACY  0.989247311827957\n",
      "**********************************************\n",
      "#####Label  let fruits = ['apple', 'banana', 'cherry'];\\nconsole.log(fruits[0]);\n",
      "#####PRED  cherry'];bananaconsole.log(fruits[0]);let fruits = ['apple\n",
      "#####ACCURACY  0.978494623655914\n",
      "**********************************************\n",
      "#####Label  int x = 0;', 'var x = 0;\n",
      "#####PRED  int x = 0;var x = 0;\n",
      "#####ACCURACY  0.978494623655914\n",
      "**********************************************\n",
      "#####Label  import SwiftUI\\nstruct ContentView: View {\\nvar body: some View {\\nText(\"Hello, World!\")\\n}\\n}\n",
      "#####PRED  var body: some View {}struct ContentView: View {Text(\"Hello, World!\")import SwiftUI\n",
      "#####ACCURACY  0.989247311827957\n",
      "**********************************************\n",
      "#####Label  #include<stdio.h>\\nint main()\\n{\\nprintf(\"Hello, World!\");\\nreturn 0;\\n}\n",
      "#####PRED  #include<stdio.h>return 0;{printf(\"Hello, World!\");}int main()\n",
      "#####ACCURACY  0.989247311827957\n",
      "**********************************************\n",
      "#####Label  def hello_world():\\n    print('Hello, World!')\\n\\nhello_world()\", \"public static void Main(string[] args)\\n{\\n    Console.WriteLine('Hello, World!');\\n}\n",
      "#####PRED  def hello_world():{hello_world()\", \"public static void Main(string[] args)}    Console.WriteLine('Hello, World!');    print('Hello, World!')\n",
      "#####ACCURACY  0.989247311827957\n",
      "**********************************************\n",
      "#####Label  package main\\n\\nimport \"fmt\"\\n\\nfunc main() {fmt.Println(\"Hello, World!\")}\n",
      "#####PRED  package mainimport \"fmt\"func main() {fmt.Println(\"Hello, World!\")}\n",
      "#####ACCURACY  0.989247311827957\n",
      "**********************************************\n",
      "#####Label  public class Calculator {\\n    public int add(int a, int b) { return a + b; }\\n    public int subtract(int a, int b) { return a - b; }\\n    public int multiply(int a, int b) { return a * b; }\\n    public double divide(int a, int b) { if (b == 0) throw new IllegalArgumentException(\"Cannot divide by zero\"); return a / b; }\\n}\n",
      "#####PRED      public int add(int a, int b) { return a + b; }}    public int subtract(int a, int b) { return a - b; }    public int multiply(int a, int b) { return a * b; }    public double divide(int a, int b) { if (b == 0) throw new IllegalArgumentException(\"Cannot divide by zero\"); return a / b; }public class Calculator {\n",
      "#####ACCURACY  0.989247311827957\n",
      "**********************************************\n",
      "#####Label  file = open('testfile.txt', 'r')\\nprint(file.read())\\nfile.close()\n",
      "#####PRED  print(file.read())r')file = open('testfile.txtfile.close()\n",
      "#####ACCURACY  0.978494623655914\n",
      "**********************************************\n",
      "#####Label  struct Point {\\n    int x;\\n    int y;\\n};\n",
      "#####PRED  struct Point {    int x;};    int y;\n",
      "#####ACCURACY  0.989247311827957\n",
      "**********************************************\n",
      "#####Label  try:\\n    print(1/0)\\nexcept ZeroDivisionError:\\n    print('You cannot divide by zero')\n",
      "#####PRED  try:except ZeroDivisionError:    print(1/0)    print('You cannot divide by zero')\n",
      "#####ACCURACY  0.989247311827957\n",
      "**********************************************\n",
      "#####Label  import org.junit.Test;\\nimport static org.junit.Assert.assertEquals;\\n\\npublic class TestCalculator {\\n    @Test\\n    public void testAdd() {\\n        Calculator calculator = new Calculator();\\n        assertEquals(5, calculator.add(2, 3));\\n    }\\n}\n",
      "#####PRED          Calculator calculator = new Calculator();import static org.junit.Assert.assertEquals;    @Test        assertEquals(5, calculator.add(2, 3));    }}public class TestCalculator {    public void testAdd() {import org.junit.Test;\n",
      "#####ACCURACY  0.989247311827957\n",
      "**********************************************\n",
      "#####Label  #include<iostream>\\nint main() {\\n    int a = 5;\\n    int b = 0;\\n    std::cout << \"a: \" << a << \" b: \" << b << std::endl;\\n    return 0;\\n}\n",
      "#####PRED      int b = 0;    std::cout << \"a: \" << a << \" b: \" << b << std::endl;int main() {    int a = 5;}    return 0;#include<iostream>\n",
      "#####ACCURACY  0.989247311827957\n",
      "**********************************************\n",
      "#####Label  let start = performance.now();\\n\\n// The function to be timed goes here\\n\\nlet end = performance.now();\\n\\nlet time = end - start;\\n\\nconsole.log('Execution time: ' + time + ' ms');\n",
      "#####PRED  let time = end - start;// The function to be timed goes herelet start = performance.now();let end = performance.now();console.log('Execution time: ' + time + ' ms');\n",
      "#####ACCURACY  0.989247311827957\n",
      "**********************************************\n",
      "#####Label  #include <iostream>\\nint main() {\\nstd::cout << 'Hello, World!';\\nreturn 0;\\n}\n",
      "#####PRED  std::cout << 'Hello, World!';int main() {return 0;}#include <iostream>\n",
      "#####ACCURACY  0.989247311827957\n",
      "**********************************************\n",
      "#####Label  let greeting = 'Hello, World!'\\nprint(greeting)\n",
      "#####PRED  print(greeting)let greeting = 'Hello, World!'\n",
      "#####ACCURACY  0.989247311827957\n",
      "**********************************************\n",
      "#####Label  echo 'Deploying application...'\\ncd /path/to/your/app\\nnpm install\\nnpm start\n",
      "#####PRED  echo 'Deploying application...'npm startcd /path/to/your/appnpm install\n",
      "#####ACCURACY  0.989247311827957\n",
      "**********************************************\n",
      "#####Label  Integer num = new Integer(5);\\nSystem.out.println(num.toString());\n",
      "#####PRED  Integer num = new Integer(5);System.out.println(num.toString());\n",
      "#####ACCURACY  0.989247311827957\n",
      "**********************************************\n",
      "#####Label  with open('file.txt', 'r') as f: print(f.read())\n",
      "#####PRED  r') as f: print(f.read())with open('file.txt\n",
      "#####ACCURACY  0.989247311827957\n",
      "**********************************************\n",
      "#####Label  int n = sizeof(arr) / sizeof(arr[0]);\\nint res = *min_element(arr, arr + n);\n",
      "#####PRED  int res = *min_element(arr, arr + n);int n = sizeof(arr) / sizeof(arr[0]);\n",
      "#####ACCURACY  0.989247311827957\n",
      "**********************************************\n",
      "#####Label  public class MyClass {\\n  public int x = 5;\\n  public static void main(String[] args) {\\n    MyClass myObj = new MyClass();\\n    System.out.println(myObj.x);\\n  }\\n}\n",
      "#####PRED    public static void main(String[] args) {  }  public int x = 5;}    MyClass myObj = new MyClass();    System.out.println(myObj.x);public class MyClass {\n",
      "#####ACCURACY  0.989247311827957\n",
      "**********************************************\n",
      "#####Label  var x = 5;\\nconsole.log(x);\n",
      "#####PRED  console.log(x);var x = 5;\n",
      "#####ACCURACY  0.989247311827957\n",
      "**********************************************\n",
      "#####Label  print('Hello, World!')\", \"#include<iostream> \\n\\nint main() { \\n\\nstd::cout << 'Hello, World!' \\n\\nreturn 0; \\n\\n}\n",
      "#####PRED  return 0; print('Hello, World!')\", \"#include<iostream> std::cout << 'Hello, World!' }int main() { \n",
      "#####ACCURACY  0.989247311827957\n",
      "**********************************************\n",
      "#####Label  import org.junit.Test; \\n\\nimport static org.junit.Assert.assertEquals; \\n\\npublic class CalculatorTest { \\n\\n@Test \\n\\npublic void testAdd() { \\n\\nCalculator calculator = new Calculator(); \\n\\nint result = calculator.add(2, 3); \\n\\nassertEquals(5, result); \\n\\n} \\n\\n}\n",
      "#####PRED  @Test import static org.junit.Assert.assertEquals; assertEquals(5, result); } public void testAdd() { Calculator calculator = new Calculator(); int result = calculator.add(2, 3); public class CalculatorTest { }import org.junit.Test; \n",
      "#####ACCURACY  0.989247311827957\n",
      "**********************************************\n",
      "#####Label  $(document).ready(function() { \\n\\n$('#myElement').text('Hello, World!'); \\n\\n});\n",
      "#####PRED  $('#myElement').text('Hello, World!'); $(document).ready(function() { });\n",
      "#####ACCURACY  0.989247311827957\n",
      "**********************************************\n",
      "#####Label  try {\\n  let x = y;\\n} catch(e) {\\n  console.log(e);\\n} finally {\\n  console.log('This will always run.');\\n}\n",
      "#####PRED  } catch(e) {try {  let x = y;}  console.log(e);  console.log('This will always run.');} finally {\n",
      "#####ACCURACY  0.989247311827957\n",
      "**********************************************\n",
      "#####Label  for(var i = 0; i < array.length; i++) { console.log(array[i]); }', 'array.forEach(function(item) { console.log(item); });\n",
      "#####PRED  for(var i = 0; i < array.length; i++) { console.log(array[i]); }array.forEach(function(item) { console.log(item); });\n",
      "#####ACCURACY  0.978494623655914\n",
      "**********************************************\n",
      "#####Label  def add(a, b): \\nreturn a + b\n",
      "#####PRED  return a + bdef add(a, b): \n",
      "#####ACCURACY  0.989247311827957\n",
      "**********************************************\n",
      "#####Label  function multiply(a, b) { \\nreturn a * b; \\n}\n",
      "#####PRED  }function multiply(a, b) { return a * b; \n",
      "#####ACCURACY  0.989247311827957\n",
      "**********************************************\n",
      "#####Label  def factorial(n): \\nif n == 0: \\nreturn 1 \\nelse: \\nreturn n * factorial(n-1)\n",
      "#####PRED  return 1 else: return n * factorial(n-1)if n == 0: def factorial(n): \n",
      "#####ACCURACY  0.989247311827957\n",
      "**********************************************\n",
      "#####Label  int factorial(int n){ \\nif(n > 1) return n * factorial(n - 1); \\nelse return 1; \\n}\n",
      "#####PRED  else return 1; }int factorial(int n){ if(n > 1) return n * factorial(n - 1); \n",
      "#####ACCURACY  0.989247311827957\n",
      "**********************************************\n",
      "#####Label  #include <stdio.h>\\nint main()\\n{\\nprintf('Hello, World!');\\nreturn 0;\\n}\n",
      "#####PRED  return 0;{printf('Hello, World!');}int main()#include <stdio.h>\n",
      "#####ACCURACY  0.989247311827957\n",
      "**********************************************\n",
      "#####Label  import http.server\\nimport socketserver\\nPORT = 8000\\nHandler = http.server.SimpleHTTPRequestHandler\\nhttpd = socketserver.TCPServer(('', PORT), Handler)\\nhttpd.serve_forever()\n",
      "#####PRED  import http.serverhttpd.serve_forever()import socketserverhttpd = socketserver.TCPServer(('', PORT), Handler)Handler = http.server.SimpleHTTPRequestHandlerPORT = 8000\n",
      "#####ACCURACY  0.989247311827957\n",
      "**********************************************\n",
      "#####Label  func square(n: Int) -> Int {\\nreturn n * n\\n}\n",
      "#####PRED  func square(n: Int) -> Int {}return n * n\n",
      "#####ACCURACY  0.989247311827957\n",
      "**********************************************\n",
      "#####Label  package main\\nimport 'fmt'\\nfunc main() {\\nfmt.Println('Hello, World!')\\n}\n",
      "#####PRED  import 'fmt'}fmt.Println('Hello, World!')package mainfunc main() {\n",
      "#####ACCURACY  0.989247311827957\n",
      "**********************************************\n",
      "#####Label  git init', 'git clone /path/to/repository\n",
      "#####PRED  git clone /path/to/repositorygit init\n",
      "#####ACCURACY  0.978494623655914\n",
      "**********************************************\n",
      "#####Label  import pdb', 'pdb.set_trace()\n",
      "#####PRED  import pdbpdb.set_trace()\n",
      "#####ACCURACY  0.978494623655914\n",
      "**********************************************\n",
      "#####Label  printf(\"Hello, World!\");', 'public class HelloWorld { public static void main(String[] args) { System.out.println(\"Hello, World!\"); } }\n",
      "#####PRED  printf(\"Hello, World!\");public class HelloWorld { public static void main(String[] args) { System.out.println(\"Hello, World!\"); } }\n",
      "#####ACCURACY  0.989247311827957\n",
      "**********************************************\n",
      "#####Label  def find_max(nums):\\n  max_num = nums[0]\\n  for num in nums:\\n    if num > max_num:\\n      max_num = num\\n  return max_num\n",
      "#####PRED    for num in nums:      max_num = num  return max_num  max_num = nums[0]def find_max(nums):    if num > max_num:\n",
      "#####ACCURACY  0.989247311827957\n",
      "**********************************************\n",
      "#####Label  function addNumbers(num1, num2) {\\n  return num1 + num2;\\n}\n",
      "#####PRED  }  return num1 + num2;function addNumbers(num1, num2) {\n",
      "#####ACCURACY  0.989247311827957\n",
      "**********************************************\n",
      "#####Label  public class HelloWorld\\n{\\n    public static void Main()\\n    {\\n        System.Console.WriteLine('Hello, World!');\\n    }\\n}\n",
      "#####PRED      public static void Main()public class HelloWorld{    }}        System.Console.WriteLine('Hello, World!');    {\n",
      "#####ACCURACY  0.989247311827957\n",
      "**********************************************\n",
      "#####Label  fun main(args: Array<String>) {\\n    println('Hello, World!')\\n}\n",
      "#####PRED  fun main(args: Array<String>) {    println('Hello, World!')}\n",
      "#####ACCURACY  0.989247311827957\n",
      "**********************************************\n",
      "#####Label  git status', 'git commit', 'git pull', 'git push\n",
      "#####PRED  git pushgit statusgit pullgit commit\n",
      "#####ACCURACY  0.978494623655914\n",
      "**********************************************\n",
      "#####Label  int', 'char', 'float', 'String\n",
      "#####PRED  floatcharintString\n",
      "#####ACCURACY  0.967741935483871\n",
      "**********************************************\n",
      "#####Label  #include<iostream> \\n\\nint main() { std::cout << 'Hello, World!'; return 0; }\n",
      "#####PRED  int main() { std::cout << 'Hello, World!'; return 0; }#include<iostream> \n",
      "#####ACCURACY  0.989247311827957\n",
      "**********************************************\n",
      "#####Label  git status', 'git add', 'git commit', 'git push\n",
      "#####PRED  git pushgit statusgit addgit commit\n",
      "#####ACCURACY  0.978494623655914\n",
      "**********************************************\n",
      "#####Label  sprint:\\n  name: 'Sprint 1'\\n  duration: '2 weeks'\\n  tasks:\\n    - 'Develop user login feature'\\n    - 'Test user login feature'\\n    - 'Document user login feature'\\n\n",
      "#####PRED    tasks:    - 'Develop user login feature'    - 'Document user login feature'    - 'Test user login feature'  duration: '2 weeks'  name: 'Sprint 1'sprint:\n",
      "#####ACCURACY  0.989247311827957\n",
      "**********************************************\n",
      "#####Label  //', '/*', '*/\n",
      "#####PRED  /**///\n",
      "#####ACCURACY  0.967741935483871\n",
      "**********************************************\n",
      "#####Label  int* ptr = new int(10);', 'delete ptr;\n",
      "#####PRED  int* ptr = new int(10);delete ptr;\n",
      "#####ACCURACY  0.978494623655914\n",
      "**********************************************\n",
      "#####Label  for i in range(10):\\n  print(i)\n",
      "#####PRED    print(i)for i in range(10):\n",
      "#####ACCURACY  0.989247311827957\n",
      "**********************************************\n",
      "#####Label  public class HelloWorld {\\npublic static void main(String[] args) {\\nSystem.out.println('Hello, World!');\\n}\\n}\n",
      "#####PRED  }public static void main(String[] args) {System.out.println('Hello, World!');public class HelloWorld {\n",
      "#####ACCURACY  0.989247311827957\n"
     ]
    }
   ],
   "source": [
    "calculate_accuracy(df,'Codelist23')"
   ]
  },
  {
   "cell_type": "code",
   "execution_count": 80,
   "id": "c1973f95",
   "metadata": {
    "execution": {
     "iopub.execute_input": "2023-10-14T13:56:11.942101Z",
     "iopub.status.busy": "2023-10-14T13:56:11.941384Z",
     "iopub.status.idle": "2023-10-14T13:56:12.843495Z",
     "shell.execute_reply": "2023-10-14T13:56:12.842584Z"
    },
    "papermill": {
     "duration": 0.934465,
     "end_time": "2023-10-14T13:56:12.845549",
     "exception": false,
     "start_time": "2023-10-14T13:56:11.911084",
     "status": "completed"
    },
    "tags": []
   },
   "outputs": [
    {
     "name": "stdout",
     "output_type": "stream",
     "text": [
      "(1063, 9)\n"
     ]
    }
   ],
   "source": [
    "calculate_accuracy(df,'CodeList3')"
   ]
  },
  {
   "cell_type": "code",
   "execution_count": 81,
   "id": "bdb19acc",
   "metadata": {
    "execution": {
     "iopub.execute_input": "2023-10-14T13:56:12.898053Z",
     "iopub.status.busy": "2023-10-14T13:56:12.897124Z",
     "iopub.status.idle": "2023-10-14T13:56:12.915195Z",
     "shell.execute_reply": "2023-10-14T13:56:12.914262Z"
    },
    "papermill": {
     "duration": 0.045764,
     "end_time": "2023-10-14T13:56:12.916911",
     "exception": false,
     "start_time": "2023-10-14T13:56:12.871147",
     "status": "completed"
    },
    "tags": []
   },
   "outputs": [
    {
     "data": {
      "text/plain": [
       "array([' ', '!', '\"', '#', '$', '%', '&', \"'\", '(', ')', '*', '+', ',',\n",
       "       '-', '.', '/', '0', '1', '2', '3', '4', '5', '6', '7', '8', '9',\n",
       "       ':', ';', '<', '=', '>', '?', '@', 'A', 'B', 'C', 'D', 'E', 'F',\n",
       "       'G', 'H', 'I', 'J', 'K', 'L', 'M', 'N', 'O', 'P', 'Q', 'R', 'S',\n",
       "       'T', 'U', 'V', 'W', 'X', 'Y', 'Z', '[', '\\\\', ']', '_', '`', 'a',\n",
       "       'b', 'c', 'd', 'e', 'f', 'g', 'h', 'i', 'j', 'k', 'l', 'm', 'n',\n",
       "       'o', 'p', 'q', 'r', 's', 't', 'u', 'v', 'w', 'x', 'y', 'z', '{',\n",
       "       '|', '}'], dtype=object)"
      ]
     },
     "execution_count": 81,
     "metadata": {},
     "output_type": "execute_result"
    }
   ],
   "source": [
    "mlb = MultiLabelBinarizer(classes=org)\n",
    "s1 = df[\"Codelist23\"]\n",
    "t2 = mlb.fit_transform(s1)\n",
    "t2\n",
    "\n",
    "new = mlb.classes_\n",
    "new"
   ]
  },
  {
   "cell_type": "code",
   "execution_count": 82,
   "id": "50c4eb9a",
   "metadata": {
    "execution": {
     "iopub.execute_input": "2023-10-14T13:56:12.969422Z",
     "iopub.status.busy": "2023-10-14T13:56:12.968420Z",
     "iopub.status.idle": "2023-10-14T13:56:12.984003Z",
     "shell.execute_reply": "2023-10-14T13:56:12.983071Z"
    },
    "papermill": {
     "duration": 0.043944,
     "end_time": "2023-10-14T13:56:12.985691",
     "exception": false,
     "start_time": "2023-10-14T13:56:12.941747",
     "status": "completed"
    },
    "tags": []
   },
   "outputs": [
    {
     "data": {
      "text/html": [
       "<div>\n",
       "<style scoped>\n",
       "    .dataframe tbody tr th:only-of-type {\n",
       "        vertical-align: middle;\n",
       "    }\n",
       "\n",
       "    .dataframe tbody tr th {\n",
       "        vertical-align: top;\n",
       "    }\n",
       "\n",
       "    .dataframe thead th {\n",
       "        text-align: right;\n",
       "    }\n",
       "</style>\n",
       "<table border=\"1\" class=\"dataframe\">\n",
       "  <thead>\n",
       "    <tr style=\"text-align: right;\">\n",
       "      <th></th>\n",
       "      <th>0</th>\n",
       "      <th>1</th>\n",
       "      <th>2</th>\n",
       "      <th>3</th>\n",
       "      <th>4</th>\n",
       "      <th>5</th>\n",
       "      <th>6</th>\n",
       "      <th>7</th>\n",
       "      <th>8</th>\n",
       "      <th>9</th>\n",
       "      <th>...</th>\n",
       "      <th>83</th>\n",
       "      <th>84</th>\n",
       "      <th>85</th>\n",
       "      <th>86</th>\n",
       "      <th>87</th>\n",
       "      <th>88</th>\n",
       "      <th>89</th>\n",
       "      <th>90</th>\n",
       "      <th>91</th>\n",
       "      <th>92</th>\n",
       "    </tr>\n",
       "  </thead>\n",
       "  <tbody>\n",
       "    <tr>\n",
       "      <th>0</th>\n",
       "      <td>1</td>\n",
       "      <td>0</td>\n",
       "      <td>0</td>\n",
       "      <td>0</td>\n",
       "      <td>0</td>\n",
       "      <td>0</td>\n",
       "      <td>0</td>\n",
       "      <td>0</td>\n",
       "      <td>1</td>\n",
       "      <td>1</td>\n",
       "      <td>...</td>\n",
       "      <td>1</td>\n",
       "      <td>1</td>\n",
       "      <td>1</td>\n",
       "      <td>1</td>\n",
       "      <td>0</td>\n",
       "      <td>0</td>\n",
       "      <td>0</td>\n",
       "      <td>1</td>\n",
       "      <td>0</td>\n",
       "      <td>1</td>\n",
       "    </tr>\n",
       "    <tr>\n",
       "      <th>1</th>\n",
       "      <td>0</td>\n",
       "      <td>0</td>\n",
       "      <td>0</td>\n",
       "      <td>0</td>\n",
       "      <td>0</td>\n",
       "      <td>0</td>\n",
       "      <td>0</td>\n",
       "      <td>0</td>\n",
       "      <td>0</td>\n",
       "      <td>0</td>\n",
       "      <td>...</td>\n",
       "      <td>0</td>\n",
       "      <td>0</td>\n",
       "      <td>0</td>\n",
       "      <td>0</td>\n",
       "      <td>0</td>\n",
       "      <td>0</td>\n",
       "      <td>0</td>\n",
       "      <td>0</td>\n",
       "      <td>0</td>\n",
       "      <td>0</td>\n",
       "    </tr>\n",
       "    <tr>\n",
       "      <th>2</th>\n",
       "      <td>1</td>\n",
       "      <td>0</td>\n",
       "      <td>0</td>\n",
       "      <td>0</td>\n",
       "      <td>0</td>\n",
       "      <td>0</td>\n",
       "      <td>0</td>\n",
       "      <td>0</td>\n",
       "      <td>1</td>\n",
       "      <td>1</td>\n",
       "      <td>...</td>\n",
       "      <td>1</td>\n",
       "      <td>1</td>\n",
       "      <td>1</td>\n",
       "      <td>0</td>\n",
       "      <td>1</td>\n",
       "      <td>1</td>\n",
       "      <td>0</td>\n",
       "      <td>0</td>\n",
       "      <td>0</td>\n",
       "      <td>0</td>\n",
       "    </tr>\n",
       "    <tr>\n",
       "      <th>3</th>\n",
       "      <td>1</td>\n",
       "      <td>0</td>\n",
       "      <td>0</td>\n",
       "      <td>0</td>\n",
       "      <td>0</td>\n",
       "      <td>0</td>\n",
       "      <td>0</td>\n",
       "      <td>1</td>\n",
       "      <td>0</td>\n",
       "      <td>0</td>\n",
       "      <td>...</td>\n",
       "      <td>1</td>\n",
       "      <td>0</td>\n",
       "      <td>0</td>\n",
       "      <td>0</td>\n",
       "      <td>0</td>\n",
       "      <td>0</td>\n",
       "      <td>0</td>\n",
       "      <td>0</td>\n",
       "      <td>0</td>\n",
       "      <td>0</td>\n",
       "    </tr>\n",
       "    <tr>\n",
       "      <th>4</th>\n",
       "      <td>0</td>\n",
       "      <td>0</td>\n",
       "      <td>0</td>\n",
       "      <td>0</td>\n",
       "      <td>0</td>\n",
       "      <td>0</td>\n",
       "      <td>0</td>\n",
       "      <td>0</td>\n",
       "      <td>0</td>\n",
       "      <td>0</td>\n",
       "      <td>...</td>\n",
       "      <td>0</td>\n",
       "      <td>0</td>\n",
       "      <td>0</td>\n",
       "      <td>0</td>\n",
       "      <td>0</td>\n",
       "      <td>0</td>\n",
       "      <td>0</td>\n",
       "      <td>0</td>\n",
       "      <td>0</td>\n",
       "      <td>0</td>\n",
       "    </tr>\n",
       "    <tr>\n",
       "      <th>...</th>\n",
       "      <td>...</td>\n",
       "      <td>...</td>\n",
       "      <td>...</td>\n",
       "      <td>...</td>\n",
       "      <td>...</td>\n",
       "      <td>...</td>\n",
       "      <td>...</td>\n",
       "      <td>...</td>\n",
       "      <td>...</td>\n",
       "      <td>...</td>\n",
       "      <td>...</td>\n",
       "      <td>...</td>\n",
       "      <td>...</td>\n",
       "      <td>...</td>\n",
       "      <td>...</td>\n",
       "      <td>...</td>\n",
       "      <td>...</td>\n",
       "      <td>...</td>\n",
       "      <td>...</td>\n",
       "      <td>...</td>\n",
       "      <td>...</td>\n",
       "    </tr>\n",
       "    <tr>\n",
       "      <th>1903</th>\n",
       "      <td>1</td>\n",
       "      <td>0</td>\n",
       "      <td>0</td>\n",
       "      <td>0</td>\n",
       "      <td>0</td>\n",
       "      <td>0</td>\n",
       "      <td>0</td>\n",
       "      <td>0</td>\n",
       "      <td>1</td>\n",
       "      <td>1</td>\n",
       "      <td>...</td>\n",
       "      <td>1</td>\n",
       "      <td>0</td>\n",
       "      <td>0</td>\n",
       "      <td>1</td>\n",
       "      <td>0</td>\n",
       "      <td>1</td>\n",
       "      <td>0</td>\n",
       "      <td>0</td>\n",
       "      <td>0</td>\n",
       "      <td>0</td>\n",
       "    </tr>\n",
       "    <tr>\n",
       "      <th>1904</th>\n",
       "      <td>0</td>\n",
       "      <td>0</td>\n",
       "      <td>0</td>\n",
       "      <td>0</td>\n",
       "      <td>0</td>\n",
       "      <td>0</td>\n",
       "      <td>0</td>\n",
       "      <td>0</td>\n",
       "      <td>0</td>\n",
       "      <td>0</td>\n",
       "      <td>...</td>\n",
       "      <td>0</td>\n",
       "      <td>0</td>\n",
       "      <td>0</td>\n",
       "      <td>0</td>\n",
       "      <td>0</td>\n",
       "      <td>0</td>\n",
       "      <td>0</td>\n",
       "      <td>0</td>\n",
       "      <td>0</td>\n",
       "      <td>0</td>\n",
       "    </tr>\n",
       "    <tr>\n",
       "      <th>1905</th>\n",
       "      <td>1</td>\n",
       "      <td>1</td>\n",
       "      <td>0</td>\n",
       "      <td>0</td>\n",
       "      <td>0</td>\n",
       "      <td>0</td>\n",
       "      <td>0</td>\n",
       "      <td>1</td>\n",
       "      <td>1</td>\n",
       "      <td>1</td>\n",
       "      <td>...</td>\n",
       "      <td>1</td>\n",
       "      <td>1</td>\n",
       "      <td>0</td>\n",
       "      <td>1</td>\n",
       "      <td>0</td>\n",
       "      <td>0</td>\n",
       "      <td>0</td>\n",
       "      <td>1</td>\n",
       "      <td>0</td>\n",
       "      <td>1</td>\n",
       "    </tr>\n",
       "    <tr>\n",
       "      <th>1906</th>\n",
       "      <td>1</td>\n",
       "      <td>0</td>\n",
       "      <td>0</td>\n",
       "      <td>0</td>\n",
       "      <td>0</td>\n",
       "      <td>0</td>\n",
       "      <td>0</td>\n",
       "      <td>0</td>\n",
       "      <td>0</td>\n",
       "      <td>0</td>\n",
       "      <td>...</td>\n",
       "      <td>1</td>\n",
       "      <td>1</td>\n",
       "      <td>0</td>\n",
       "      <td>0</td>\n",
       "      <td>0</td>\n",
       "      <td>1</td>\n",
       "      <td>0</td>\n",
       "      <td>0</td>\n",
       "      <td>0</td>\n",
       "      <td>0</td>\n",
       "    </tr>\n",
       "    <tr>\n",
       "      <th>1907</th>\n",
       "      <td>0</td>\n",
       "      <td>0</td>\n",
       "      <td>0</td>\n",
       "      <td>0</td>\n",
       "      <td>0</td>\n",
       "      <td>0</td>\n",
       "      <td>0</td>\n",
       "      <td>0</td>\n",
       "      <td>0</td>\n",
       "      <td>0</td>\n",
       "      <td>...</td>\n",
       "      <td>0</td>\n",
       "      <td>0</td>\n",
       "      <td>0</td>\n",
       "      <td>0</td>\n",
       "      <td>0</td>\n",
       "      <td>0</td>\n",
       "      <td>0</td>\n",
       "      <td>0</td>\n",
       "      <td>0</td>\n",
       "      <td>0</td>\n",
       "    </tr>\n",
       "  </tbody>\n",
       "</table>\n",
       "<p>1908 rows × 93 columns</p>\n",
       "</div>"
      ],
      "text/plain": [
       "      0   1   2   3   4   5   6   7   8   9   ...  83  84  85  86  87  88  89  \\\n",
       "0      1   0   0   0   0   0   0   0   1   1  ...   1   1   1   1   0   0   0   \n",
       "1      0   0   0   0   0   0   0   0   0   0  ...   0   0   0   0   0   0   0   \n",
       "2      1   0   0   0   0   0   0   0   1   1  ...   1   1   1   0   1   1   0   \n",
       "3      1   0   0   0   0   0   0   1   0   0  ...   1   0   0   0   0   0   0   \n",
       "4      0   0   0   0   0   0   0   0   0   0  ...   0   0   0   0   0   0   0   \n",
       "...   ..  ..  ..  ..  ..  ..  ..  ..  ..  ..  ...  ..  ..  ..  ..  ..  ..  ..   \n",
       "1903   1   0   0   0   0   0   0   0   1   1  ...   1   0   0   1   0   1   0   \n",
       "1904   0   0   0   0   0   0   0   0   0   0  ...   0   0   0   0   0   0   0   \n",
       "1905   1   1   0   0   0   0   0   1   1   1  ...   1   1   0   1   0   0   0   \n",
       "1906   1   0   0   0   0   0   0   0   0   0  ...   1   1   0   0   0   1   0   \n",
       "1907   0   0   0   0   0   0   0   0   0   0  ...   0   0   0   0   0   0   0   \n",
       "\n",
       "      90  91  92  \n",
       "0      1   0   1  \n",
       "1      0   0   0  \n",
       "2      0   0   0  \n",
       "3      0   0   0  \n",
       "4      0   0   0  \n",
       "...   ..  ..  ..  \n",
       "1903   0   0   0  \n",
       "1904   0   0   0  \n",
       "1905   1   0   1  \n",
       "1906   0   0   0  \n",
       "1907   0   0   0  \n",
       "\n",
       "[1908 rows x 93 columns]"
      ]
     },
     "execution_count": 82,
     "metadata": {},
     "output_type": "execute_result"
    }
   ],
   "source": [
    "submission1 = pd.DataFrame(t2)\n",
    "submission1"
   ]
  },
  {
   "cell_type": "markdown",
   "id": "c99ffacc",
   "metadata": {},
   "source": [
    "Submission for Spacy and Combined"
   ]
  },
  {
   "cell_type": "code",
   "execution_count": 83,
   "id": "e7080b5d",
   "metadata": {
    "execution": {
     "iopub.execute_input": "2023-10-14T13:56:13.037809Z",
     "iopub.status.busy": "2023-10-14T13:56:13.037013Z",
     "iopub.status.idle": "2023-10-14T13:56:13.085146Z",
     "shell.execute_reply": "2023-10-14T13:56:13.084159Z"
    },
    "papermill": {
     "duration": 0.07576,
     "end_time": "2023-10-14T13:56:13.086982",
     "exception": false,
     "start_time": "2023-10-14T13:56:13.011222",
     "status": "completed"
    },
    "tags": []
   },
   "outputs": [
    {
     "name": "stdout",
     "output_type": "stream",
     "text": [
      "0.7693920335429769\n",
      "0.6923480083857443\n"
     ]
    }
   ],
   "source": [
    "submission1.to_csv(\"submission_fork_re_spacy_v8.csv\",index=False)\n",
    "from sklearn.metrics import accuracy_score\n",
    "print(accuracy_score(t0,t1))\n",
    "print(accuracy_score(t0,t2))"
   ]
  },
  {
   "cell_type": "code",
   "execution_count": 84,
   "id": "d6a8e12f",
   "metadata": {
    "execution": {
     "iopub.execute_input": "2023-10-14T13:56:13.140425Z",
     "iopub.status.busy": "2023-10-14T13:56:13.139867Z",
     "iopub.status.idle": "2023-10-14T13:56:13.186747Z",
     "shell.execute_reply": "2023-10-14T13:56:13.185767Z"
    },
    "papermill": {
     "duration": 0.075298,
     "end_time": "2023-10-14T13:56:13.188648",
     "exception": false,
     "start_time": "2023-10-14T13:56:13.113350",
     "status": "completed"
    },
    "tags": []
   },
   "outputs": [
    {
     "name": "stdout",
     "output_type": "stream",
     "text": [
      "0.7405660377358491\n"
     ]
    }
   ],
   "source": [
    "mlb = MultiLabelBinarizer(classes=org)\n",
    "s1 = df[\"CodeList3\"]\n",
    "t3 = mlb.fit_transform(s1)\n",
    "t3\n",
    "print(accuracy_score(t0,t3))\n",
    "submission3 = pd.DataFrame(t3)\n",
    "submission3.to_csv(\"submission_fork_spacy_2_v8.csv\",index=False)"
   ]
  },
  {
   "cell_type": "code",
   "execution_count": 108,
   "id": "c662bb97",
   "metadata": {
    "execution": {
     "iopub.execute_input": "2023-10-14T13:56:14.566846Z",
     "iopub.status.busy": "2023-10-14T13:56:14.566002Z",
     "iopub.status.idle": "2023-10-14T13:56:14.603856Z",
     "shell.execute_reply": "2023-10-14T13:56:14.603016Z"
    },
    "papermill": {
     "duration": 0.065769,
     "end_time": "2023-10-14T13:56:14.605694",
     "exception": false,
     "start_time": "2023-10-14T13:56:14.539925",
     "status": "completed"
    },
    "tags": []
   },
   "outputs": [],
   "source": [
    "df.to_csv('Optimized_df_final.csv',index=False)"
   ]
  },
  {
   "cell_type": "markdown",
   "id": "72fa9cd6",
   "metadata": {},
   "source": [
    "## Final Submission\n",
    "\n",
    "#### Spacy with NER gave 0.88482 in Public and 0.89308 in private Lb"
   ]
  }
 ],
 "metadata": {
  "kernelspec": {
   "display_name": "Python 3",
   "language": "python",
   "name": "python3"
  },
  "language_info": {
   "codemirror_mode": {
    "name": "ipython",
    "version": 3
   },
   "file_extension": ".py",
   "mimetype": "text/x-python",
   "name": "python",
   "nbconvert_exporter": "python",
   "pygments_lexer": "ipython3",
   "version": "3.10.12"
  },
  "papermill": {
   "default_parameters": {},
   "duration": 2569.647637,
   "end_time": "2023-10-14T13:56:17.656978",
   "environment_variables": {},
   "exception": null,
   "input_path": "__notebook__.ipynb",
   "output_path": "__notebook__.ipynb",
   "parameters": {},
   "start_time": "2023-10-14T13:13:28.009341",
   "version": "2.4.0"
  }
 },
 "nbformat": 4,
 "nbformat_minor": 5
}
